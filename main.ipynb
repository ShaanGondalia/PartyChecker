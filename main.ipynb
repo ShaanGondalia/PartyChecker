{
 "cells": [
  {
   "cell_type": "code",
   "execution_count": null,
   "id": "cbfe9b93",
   "metadata": {},
   "outputs": [],
   "source": [
    "from scripts.preprocessing import PreProcessor\n",
    "from scripts.visualizer import Visualizer\n",
    "import pandas as pd"
   ]
  },
  {
   "cell_type": "markdown",
   "id": "5eb26c7d",
   "metadata": {},
   "source": [
    "### Read Data"
   ]
  },
  {
   "cell_type": "code",
   "execution_count": null,
   "id": "d147fd14",
   "metadata": {},
   "outputs": [],
   "source": [
    "DATA_FILE = \"data/congress-tweets.csv\"\n",
    "tweets = pd.read_csv(DATA_FILE, encoding='utf-8')"
   ]
  },
  {
   "cell_type": "markdown",
   "id": "4f81d6c6",
   "metadata": {},
   "source": [
    "### Pre-process tweets"
   ]
  },
  {
   "cell_type": "code",
   "execution_count": null,
   "id": "78317bfc",
   "metadata": {},
   "outputs": [],
   "source": [
    "pp = PreProcessor()\n",
    "processed_tweets = pp.pre_process_df(tweets)"
   ]
  },
  {
   "cell_type": "markdown",
   "id": "ac339696",
   "metadata": {},
   "source": [
    "### Visualize data"
   ]
  },
  {
   "cell_type": "code",
   "execution_count": null,
   "id": "7de7812e",
   "metadata": {},
   "outputs": [],
   "source": [
    "v = Visualizer()\n",
    "v.visualize_words(processed_tweets)"
   ]
  }
 ],
 "metadata": {
  "kernelspec": {
   "display_name": "Python 3 (ipykernel)",
   "language": "python",
   "name": "python3"
  },
  "language_info": {
   "codemirror_mode": {
    "name": "ipython",
    "version": 3
   },
   "file_extension": ".py",
   "mimetype": "text/x-python",
   "name": "python",
   "nbconvert_exporter": "python",
   "pygments_lexer": "ipython3",
   "version": "3.9.12"
  }
 },
 "nbformat": 4,
 "nbformat_minor": 5
}
