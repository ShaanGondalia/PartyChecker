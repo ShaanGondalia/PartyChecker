{
 "cells": [
  {
   "cell_type": "code",
   "execution_count": 11,
   "id": "cbfe9b93",
   "metadata": {},
   "outputs": [],
   "source": [
    "from scripts.preprocessing import PreProcessor\n",
    "import scripts.visualizer as visualizer\n",
    "import pandas as pd\n",
    "from ast import literal_eval\n",
    "import importlib\n",
    "\n",
    "DATA_FILE = 'data/congress-tweets.csv'\n",
    "PREPROCESSED_FILE = 'data/processed-tweets.csv'"
   ]
  },
  {
   "cell_type": "markdown",
   "id": "4f81d6c6",
   "metadata": {},
   "source": [
    "### Pre-process Tweets (Once)"
   ]
  },
  {
   "cell_type": "code",
   "execution_count": null,
   "id": "78317bfc",
   "metadata": {
    "scrolled": true
   },
   "outputs": [],
   "source": [
    "# Don't run if you already have data/processed-tweets.csv\n",
    "tweets = pd.read_csv(DATA_FILE, encoding='utf-8')\n",
    "pp = PreProcessor()\n",
    "processed_tweets = pp.pre_process_df(tweets)\n",
    "# Saving locally so we only have to pre-process once\n",
    "processed_tweets.to_csv(PREPROCESSED_FILE, encoding='utf-8', index=False)"
   ]
  },
  {
   "cell_type": "markdown",
   "id": "0f10486a",
   "metadata": {},
   "source": [
    "### Load Processed Tweets"
   ]
  },
  {
   "cell_type": "code",
   "execution_count": 2,
   "id": "7b66424b",
   "metadata": {},
   "outputs": [],
   "source": [
    "processed_tweets = pd.read_csv(PREPROCESSED_FILE, \n",
    "                               encoding='utf-8', \n",
    "                               converters={'tokens_no_stop': literal_eval})\n",
    "# Working with subset of data for speed\n",
    "processed_tweets = processed_tweets.sample(n=50000)"
   ]
  },
  {
   "cell_type": "markdown",
   "id": "ac339696",
   "metadata": {},
   "source": [
    "### Visualize data"
   ]
  },
  {
   "cell_type": "code",
   "execution_count": 47,
   "id": "7de7812e",
   "metadata": {},
   "outputs": [],
   "source": [
    "importlib.reload(visualizer)\n",
    "v = visualizer.Visualizer()\n",
    "# v.visualize_words(processed_tweets)"
   ]
  },
  {
   "cell_type": "markdown",
   "id": "f2af4744",
   "metadata": {},
   "source": [
    "### Analyzing Sentiment"
   ]
  },
  {
   "cell_type": "code",
   "execution_count": null,
   "id": "0103f5b5",
   "metadata": {},
   "outputs": [],
   "source": [
    "neg_words = pd.read_csv('data/negativewords.csv').squeeze('columns')\n",
    "v.visualize_word_freq(neg_words, processed_tweets, word_type='Negative')"
   ]
  },
  {
   "cell_type": "code",
   "execution_count": null,
   "id": "23964288",
   "metadata": {},
   "outputs": [],
   "source": [
    "pos_words = pd.read_csv(\"data/positivewords.csv\").squeeze('columns')\n",
    "v.visualize_word_freq(pos_words, processed_tweets, word_type='Positive')"
   ]
  },
  {
   "cell_type": "markdown",
   "id": "23565d3b",
   "metadata": {},
   "source": [
    "### Analyzing Bad Words"
   ]
  },
  {
   "cell_type": "code",
   "execution_count": null,
   "id": "0c2add8a",
   "metadata": {},
   "outputs": [],
   "source": [
    "bad_words = pd.read_csv('data/bad-words.csv').squeeze('columns')\n",
    "v.visualize_word_freq(bad_words, processed_tweets, word_type='Bad')"
   ]
  },
  {
   "cell_type": "markdown",
   "id": "317fc8d4",
   "metadata": {},
   "source": [
    "### Analyzing Inclusive and Exclusive Language"
   ]
  },
  {
   "cell_type": "code",
   "execution_count": 48,
   "id": "3da4890b",
   "metadata": {},
   "outputs": [
    {
     "name": "stdout",
     "output_type": "stream",
     "text": [
      "Filtering tweets that don't contain given words:\n"
     ]
    },
    {
     "name": "stderr",
     "output_type": "stream",
     "text": [
      "100%|████████████████████████████████████████████████████████████████████████| 4/4 [00:00<00:00, 20.08it/s]\n"
     ]
    },
    {
     "name": "stdout",
     "output_type": "stream",
     "text": [
      "Percentage of tweets with Inclusive words:\n",
      "party\n",
      "D    0.165918\n",
      "R    0.163807\n",
      "Name: tweet, dtype: float64\n"
     ]
    },
    {
     "name": "stderr",
     "output_type": "stream",
     "text": [
      "100%|████████████████████████████████████████████████████████████████████████| 4/4 [00:00<00:00, 36.21it/s]\n"
     ]
    },
    {
     "name": "stdout",
     "output_type": "stream",
     "text": [
      "Proportion of Inclusive words in D tweets: 0.023060875752658902\n"
     ]
    },
    {
     "name": "stderr",
     "output_type": "stream",
     "text": [
      "100%|████████████████████████████████████████████████████████████████████████| 4/4 [00:00<00:00, 22.28it/s]\n"
     ]
    },
    {
     "name": "stdout",
     "output_type": "stream",
     "text": [
      "Proportion of Inclusive words in R tweets: 0.022888944185734204\n",
      "Generating word frequencies:\n"
     ]
    },
    {
     "name": "stderr",
     "output_type": "stream",
     "text": [
      "100%|███████████████████████████████████████████████████████████████████████| 4/4 [00:00<00:00, 128.80it/s]\n",
      "100%|███████████████████████████████████████████████████████████████████████| 4/4 [00:00<00:00, 107.43it/s]\n"
     ]
    },
    {
     "data": {
      "image/png": "[encoded data removed]",
      "text/plain": [
       "<Figure size 432x288 with 1 Axes>"
      ]
     },
     "metadata": {
      "needs_background": "light"
     },
     "output_type": "display_data"
    },
    {
     "data": {
      "image/png": "[encoded data removed]",
      "text/plain": [
       "<Figure size 360x360 with 1 Axes>"
      ]
     },
     "metadata": {
      "needs_background": "light"
     },
     "output_type": "display_data"
    },
    {
     "data": {
      "image/png": "[encoded data removed]",
      "text/plain": [
       "<Figure size 360x360 with 1 Axes>"
      ]
     },
     "metadata": {
      "needs_background": "light"
     },
     "output_type": "display_data"
    }
   ],
   "source": [
    "inclusive_words = pd.Series(['we', 'our', 'us', 'ourselves'])\n",
    "v.visualize_word_freq(inclusive_words, processed_tweets, word_type='Inclusive')"
   ]
  },
  {
   "cell_type": "code",
   "execution_count": 49,
   "id": "c4499da4",
   "metadata": {},
   "outputs": [
    {
     "name": "stdout",
     "output_type": "stream",
     "text": [
      "Filtering tweets that don't contain given words:\n"
     ]
    },
    {
     "name": "stderr",
     "output_type": "stream",
     "text": [
      "100%|████████████████████████████████████████████████████████████████████████| 8/8 [00:00<00:00, 21.74it/s]\n"
     ]
    },
    {
     "name": "stdout",
     "output_type": "stream",
     "text": [
      "Percentage of tweets with Exclusive words:\n",
      "party\n",
      "D    0.195707\n",
      "R    0.192229\n",
      "Name: tweet, dtype: float64\n"
     ]
    },
    {
     "name": "stderr",
     "output_type": "stream",
     "text": [
      "100%|████████████████████████████████████████████████████████████████████████| 8/8 [00:00<00:00, 33.68it/s]\n"
     ]
    },
    {
     "name": "stdout",
     "output_type": "stream",
     "text": [
      "Proportion of Exclusive words in D tweets: 0.025783115643984927\n"
     ]
    },
    {
     "name": "stderr",
     "output_type": "stream",
     "text": [
      "100%|████████████████████████████████████████████████████████████████████████| 8/8 [00:00<00:00, 23.89it/s]\n"
     ]
    },
    {
     "name": "stdout",
     "output_type": "stream",
     "text": [
      "Proportion of Exclusive words in R tweets: 0.02527460808360883\n",
      "Generating word frequencies:\n"
     ]
    },
    {
     "name": "stderr",
     "output_type": "stream",
     "text": [
      "100%|███████████████████████████████████████████████████████████████████████| 8/8 [00:00<00:00, 154.18it/s]\n",
      "100%|███████████████████████████████████████████████████████████████████████| 8/8 [00:00<00:00, 126.11it/s]\n"
     ]
    },
    {
     "data": {
      "image/png": "[encoded data removed]",
      "text/plain": [
       "<Figure size 432x288 with 1 Axes>"
      ]
     },
     "metadata": {
      "needs_background": "light"
     },
     "output_type": "display_data"
    },
    {
     "data": {
      "image/png": "[encoded data removed]",
      "text/plain": [
       "<Figure size 360x360 with 1 Axes>"
      ]
     },
     "metadata": {
      "needs_background": "light"
     },
     "output_type": "display_data"
    },
    {
     "data": {
      "image/png": "[encoded data removed]",
      "text/plain": [
       "<Figure size 360x360 with 1 Axes>"
      ]
     },
     "metadata": {
      "needs_background": "light"
     },
     "output_type": "display_data"
    }
   ],
   "source": [
    "exclusive_words = pd.Series(['my', 'i', 'mine', 'me', 'them', 'their', 'they', 'those'])\n",
    "v.visualize_word_freq(exclusive_words, processed_tweets, word_type='Exclusive')"
   ]
  },
  {
   "cell_type": "markdown",
   "id": "baa39163",
   "metadata": {},
   "source": [
    "### Analyzing Religious Language"
   ]
  },
  {
   "cell_type": "code",
   "execution_count": null,
   "id": "f0ff3ad8",
   "metadata": {},
   "outputs": [],
   "source": [
    "religious_words = pd.read_csv('data/religious_words.csv').squeeze('columns')\n",
    "v.visualize_word_freq(religious_words, processed_tweets, word_type=\"Religious\")"
   ]
  }
 ],
 "metadata": {
  "kernelspec": {
   "display_name": "Python 3 (ipykernel)",
   "language": "python",
   "name": "python3"
  },
  "language_info": {
   "codemirror_mode": {
    "name": "ipython",
    "version": 3
   },
   "file_extension": ".py",
   "mimetype": "text/x-python",
   "name": "python",
   "nbconvert_exporter": "python",
   "pygments_lexer": "ipython3",
   "version": "3.9.12"
  }
 },
 "nbformat": 4,
 "nbformat_minor": 5
}
