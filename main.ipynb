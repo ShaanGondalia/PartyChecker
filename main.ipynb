{
 "cells": [
  {
   "cell_type": "code",
   "execution_count": null,
   "id": "cbfe9b93",
   "metadata": {},
   "outputs": [],
   "source": [
    "from scripts.preprocessing import PreProcessor\n",
    "from scripts.visualizer import Visualizer\n",
    "import pandas as pd\n",
    "from ast import literal_eval\n",
    "\n",
    "DATA_FILE = 'data/congress-tweets.csv'\n",
    "PREPROCESSED_FILE = 'data/processed-tweets.csv'"
   ]
  },
  {
   "cell_type": "markdown",
   "id": "4f81d6c6",
   "metadata": {},
   "source": [
    "### Pre-process Tweets (Once)"
   ]
  },
  {
   "cell_type": "code",
   "execution_count": null,
   "id": "78317bfc",
   "metadata": {},
   "outputs": [],
   "source": [
    "# Don't run if you already have data/processed-tweets.csv\n",
    "tweets = pd.read_csv(DATA_FILE, encoding='utf-8')\n",
    "pp = PreProcessor()\n",
    "processed_tweets = pp.pre_process_df(tweets)\n",
    "# Saving locally so we only have to pre-process once\n",
    "processed_tweets.to_csv(PREPROCESSED_FILE, encoding='utf-8', index=False)"
   ]
  },
  {
   "cell_type": "markdown",
   "id": "0f10486a",
   "metadata": {},
   "source": [
    "### Load Processed Tweets"
   ]
  },
  {
   "cell_type": "code",
   "execution_count": null,
   "id": "7b66424b",
   "metadata": {},
   "outputs": [],
   "source": [
    "processed_tweets = pd.read_csv(PREPROCESSED_FILE, \n",
    "                               encoding='utf-8', \n",
    "                               converters={'tidy_tweet_tokens': literal_eval ,'tokens_no_stop': literal_eval})\n",
    "# Working with subset of data for speed\n",
    "processed_tweets = processed_tweets.sample(n=10000)"
   ]
  },
  {
   "cell_type": "markdown",
   "id": "ac339696",
   "metadata": {},
   "source": [
    "### Visualize data"
   ]
  },
  {
   "cell_type": "code",
   "execution_count": null,
   "id": "7de7812e",
   "metadata": {},
   "outputs": [],
   "source": [
    "v = Visualizer()\n",
    "v.visualize_words(processed_tweets)"
   ]
  },
  {
   "cell_type": "markdown",
   "id": "f2af4744",
   "metadata": {},
   "source": [
    "### Analyzing Sentiment"
   ]
  },
  {
   "cell_type": "code",
   "execution_count": null,
   "id": "0103f5b5",
   "metadata": {},
   "outputs": [],
   "source": [
    "neg_words = pd.read_csv('data/negativewords.csv').squeeze('columns')\n",
    "v.visualize_word_freq(neg_words, processed_tweets, word_type='Negative')"
   ]
  },
  {
   "cell_type": "code",
   "execution_count": null,
   "id": "23964288",
   "metadata": {},
   "outputs": [],
   "source": [
    "pos_words = pd.read_csv(\"data/positivewords.csv\").squeeze('columns')\n",
    "v.visualize_word_freq(pos_words, processed_tweets, word_type='Positive')"
   ]
  },
  {
   "cell_type": "markdown",
   "id": "23565d3b",
   "metadata": {},
   "source": [
    "### Analyzing Bad Words"
   ]
  },
  {
   "cell_type": "code",
   "execution_count": null,
   "id": "0c2add8a",
   "metadata": {},
   "outputs": [],
   "source": [
    "bad_words = pd.read_csv('data/bad-words.csv').squeeze('columns')\n",
    "v.visualize_word_freq(bad_words, processed_tweets, word_type='Bad')"
   ]
  },
  {
   "cell_type": "markdown",
   "id": "317fc8d4",
   "metadata": {},
   "source": [
    "### Analyzing Inclusive and Exclusive Language"
   ]
  },
  {
   "cell_type": "code",
   "execution_count": null,
   "id": "3da4890b",
   "metadata": {},
   "outputs": [],
   "source": [
    "inclusive_words = pd.Series(['we', 'our', 'us'])\n",
    "v.visualize_word_freq(inclusive_words, processed_tweets, word_type='Inclusive')"
   ]
  },
  {
   "cell_type": "code",
   "execution_count": null,
   "id": "c4499da4",
   "metadata": {},
   "outputs": [],
   "source": [
    "exclusive_words = pd.Series(['my', 'i', 'mine', 'me', 'them', 'their', 'they', 'those'])\n",
    "v.visualize_word_freq(exclusive_words, processed_tweets, word_type='Exclusive')"
   ]
  }
 ],
 "metadata": {
  "kernelspec": {
   "display_name": "Python 3 (ipykernel)",
   "language": "python",
   "name": "python3"
  },
  "language_info": {
   "codemirror_mode": {
    "name": "ipython",
    "version": 3
   },
   "file_extension": ".py",
   "mimetype": "text/x-python",
   "name": "python",
   "nbconvert_exporter": "python",
   "pygments_lexer": "ipython3",
   "version": "3.9.12"
  }
 },
 "nbformat": 4,
 "nbformat_minor": 5
}
