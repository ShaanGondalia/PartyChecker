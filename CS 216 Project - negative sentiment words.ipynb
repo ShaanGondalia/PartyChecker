{
 "cells": [
  {
   "cell_type": "code",
   "execution_count": 105,
   "id": "c9409147",
   "metadata": {},
   "outputs": [],
   "source": [
    "import pandas as pd\n",
    "import numpy as np\n",
    "import re\n",
    "# Plotting\n",
    "import seaborn as sns\n",
    "import matplotlib.pyplot as plt\n",
    "# Gensim\n",
    "import gensim\n",
    "from gensim.utils import simple_preprocess\n",
    "# NLTK\n",
    "import nltk\n",
    "from nltk.corpus import stopwords\n",
    "from collections import Counter\n",
    "import warnings \n",
    "warnings.filterwarnings(\"ignore\", category=DeprecationWarning)\n",
    "# from wordcloud import WordCloud,ImageColorGenerator\n",
    "# from PIL import Image\n",
    "# import urllib\n",
    "import requests\n",
    "%matplotlib inline"
   ]
  },
  {
   "cell_type": "code",
   "execution_count": 114,
   "id": "766e4629",
   "metadata": {},
   "outputs": [
    {
     "data": {
      "text/html": [
       "<div>\n",
       "<style scoped>\n",
       "    .dataframe tbody tr th:only-of-type {\n",
       "        vertical-align: middle;\n",
       "    }\n",
       "\n",
       "    .dataframe tbody tr th {\n",
       "        vertical-align: top;\n",
       "    }\n",
       "\n",
       "    .dataframe thead th {\n",
       "        text-align: right;\n",
       "    }\n",
       "</style>\n",
       "<table border=\"1\" class=\"dataframe\">\n",
       "  <thead>\n",
       "    <tr style=\"text-align: right;\">\n",
       "      <th></th>\n",
       "      <th>tweet</th>\n",
       "      <th>author</th>\n",
       "      <th>party</th>\n",
       "      <th>chamber</th>\n",
       "      <th>congress</th>\n",
       "      <th>retweet</th>\n",
       "    </tr>\n",
       "  </thead>\n",
       "  <tbody>\n",
       "    <tr>\n",
       "      <th>0</th>\n",
       "      <td>VIDEO: Today's press conference w/ @SenBobCork...</td>\n",
       "      <td>Alexander, Lamar (TN)</td>\n",
       "      <td>D</td>\n",
       "      <td>H</td>\n",
       "      <td>112</td>\n",
       "      <td>0</td>\n",
       "    </tr>\n",
       "    <tr>\n",
       "      <th>1</th>\n",
       "      <td>Will hold press conference in the Capitol's Ra...</td>\n",
       "      <td>Alexander, Lamar (TN)</td>\n",
       "      <td>D</td>\n",
       "      <td>H</td>\n",
       "      <td>112</td>\n",
       "      <td>0</td>\n",
       "    </tr>\n",
       "    <tr>\n",
       "      <th>2</th>\n",
       "      <td>\"Major threats to our research universities\" O...</td>\n",
       "      <td>Alexander, Lamar (TN)</td>\n",
       "      <td>D</td>\n",
       "      <td>H</td>\n",
       "      <td>112</td>\n",
       "      <td>1</td>\n",
       "    </tr>\n",
       "    <tr>\n",
       "      <th>3</th>\n",
       "      <td>.@SenAlexander The Wind #PTC is \"a brazen flee...</td>\n",
       "      <td>Alexander, Lamar (TN)</td>\n",
       "      <td>D</td>\n",
       "      <td>H</td>\n",
       "      <td>112</td>\n",
       "      <td>1</td>\n",
       "    </tr>\n",
       "    <tr>\n",
       "      <th>4</th>\n",
       "      <td>VIDEO: Sen. Alexander on passing of Sen. @Dani...</td>\n",
       "      <td>Alexander, Lamar (TN)</td>\n",
       "      <td>D</td>\n",
       "      <td>H</td>\n",
       "      <td>112</td>\n",
       "      <td>0</td>\n",
       "    </tr>\n",
       "  </tbody>\n",
       "</table>\n",
       "</div>"
      ],
      "text/plain": [
       "                                               tweet                 author  \\\n",
       "0  VIDEO: Today's press conference w/ @SenBobCork...  Alexander, Lamar (TN)   \n",
       "1  Will hold press conference in the Capitol's Ra...  Alexander, Lamar (TN)   \n",
       "2  \"Major threats to our research universities\" O...  Alexander, Lamar (TN)   \n",
       "3  .@SenAlexander The Wind #PTC is \"a brazen flee...  Alexander, Lamar (TN)   \n",
       "4  VIDEO: Sen. Alexander on passing of Sen. @Dani...  Alexander, Lamar (TN)   \n",
       "\n",
       "  party chamber  congress  retweet  \n",
       "0     D       H       112        0  \n",
       "1     D       H       112        0  \n",
       "2     D       H       112        1  \n",
       "3     D       H       112        1  \n",
       "4     D       H       112        0  "
      ]
     },
     "execution_count": 114,
     "metadata": {},
     "output_type": "execute_result"
    }
   ],
   "source": [
    "df_full = pd.read_csv(\"congress-tweets.csv\", encoding='utf-8')\n",
    "len(df_full)\n",
    "df_full.head()"
   ]
  },
  {
   "cell_type": "code",
   "execution_count": 34,
   "id": "492e0d47",
   "metadata": {},
   "outputs": [],
   "source": [
    "df = pd.read_hdf('sampled_df.h5', index_col=0)"
   ]
  },
  {
   "cell_type": "code",
   "execution_count": 35,
   "id": "57bd15a4",
   "metadata": {},
   "outputs": [],
   "source": [
    "# pre processing function of the tweets\n",
    "# just combined it all into one function so it is less messy\n",
    "\n",
    "def pre_process_df(df):\n",
    "    df['tidy_tweet'] = df['tweet'].str.lower()\n",
    "    # REMOVE '@USER'\n",
    "    df['tidy_tweet'] = np.vectorize(remove_users)(df['tweet'],\"@ [\\w]*\", \"@[\\w]*\")\n",
    "    print('Users Removed from Tweets')\n",
    "    # REMOVE HASHTAGS\n",
    "    df['tidy_tweet'] = np.vectorize(remove_hashtags)(df['tidy_tweet'], \"# [\\w]*\", \"#[\\w]*\")\n",
    "    print('Hashtags Removed from Tweets')\n",
    "    # REMOVE LINKS\n",
    "    df['tidy_tweet'] = np.vectorize(remove_links)(df['tidy_tweet'])\n",
    "    print('Links Removed from Tweets')\n",
    "    # EXTRACT TWEET DATE\n",
    "    df['date'] = df['tweet'].str.extract(r\"([A-Z][a-z]+\\s\\d+,\\s\\d+)\\s*$\")\n",
    "    df['date'] = pd.to_datetime(df['date'], errors='coerce')\n",
    "    print('Dates Extracted')\n",
    "    # REMOVE Punctuations, Numbers, and Special Characters\n",
    "    df['tidy_tweet'] = df['tidy_tweet'].str.replace(\"[^a-zA-Z#]\", \" \")\n",
    "    print('Punctuation, Numbers, and Special Characters Removed from Tweets')\n",
    "    # TOKENIZATION\n",
    "    df['tidy_tweet_tokens'] = list(tokenize(df['tidy_tweet']))\n",
    "    print('Tokenized')\n",
    "    # REMOVE STOPWORDS\n",
    "    df['tokens_no_stop'] = remove_stopwords(df['tidy_tweet_tokens'])\n",
    "    print('Stop Words Removed from Tweets')\n",
    "    # DROP EMPTY TWEETS\n",
    "    df = df[df['tokens_no_stop'].apply(lambda x: len(x)) > 0]\n",
    "    print('Empty Tweets Dropped')\n",
    "    print('DataFrame Finished')\n",
    "    return df\n",
    "    \n",
    "def remove_users(tweet, pattern1, pattern2):\n",
    "    r = re.findall(pattern1, tweet)\n",
    "    for i in r:\n",
    "        tweet = re.sub(i, '', tweet)\n",
    "  \n",
    "    r = re.findall(pattern2, tweet)\n",
    "    for i in r:\n",
    "        tweet = re.sub(i, '', tweet)\n",
    "    return tweet\n",
    "\n",
    "def remove_hashtags(tweet, pattern1, pattern2):\n",
    "    r = re.findall(pattern1, tweet)\n",
    "    for i in r:\n",
    "        tweet = re.sub(i, '', tweet)\n",
    "    \n",
    "    r = re.findall(pattern2, tweet)\n",
    "    for i in r:\n",
    "        tweet = re.sub(i, '', tweet)\n",
    "    return tweet\n",
    "\n",
    "def remove_links(tweet):\n",
    "    tweet_no_link = re.sub(r\"http\\S+\", \"\", tweet)\n",
    "    return tweet_no_link\n",
    "\n",
    "def tokenize(tweet):\n",
    "    for word in tweet:\n",
    "        yield(gensim.utils.simple_preprocess(str(word), deacc=True))\n",
    "        \n",
    "def remove_stopwords(tweets):\n",
    "    # Prepare Stop Words\n",
    "    stop_words = stopwords.words('english')\n",
    "    stop_words.extend(['from', 'https', 'twitter', 'religions', 'pic','twitt','today','will','thank', 'thanks',\n",
    "                      'jan','feb','mar','apr','may','jun','jul','aug','sep','oct','nov','dec', 'great', 'new', 'day', 'rt',\n",
    "                      'th', 'morning', 'week', 'com', 'net'])\n",
    "    #words to remove from stopwords\n",
    "    remove_words = ['we','our','ours','ourselves']\n",
    "    stop_words = [e for e in stop_words if e not in remove_words]\n",
    "    return [[word for word in simple_preprocess(str(tweet)) if word not in stop_words] for tweet in tweets]"
   ]
  },
  {
   "cell_type": "code",
   "execution_count": 36,
   "id": "6f3e0f21",
   "metadata": {},
   "outputs": [
    {
     "name": "stdout",
     "output_type": "stream",
     "text": [
      "Users Removed from Tweets\n",
      "Hashtags Removed from Tweets\n",
      "Links Removed from Tweets\n",
      "Dates Extracted\n"
     ]
    },
    {
     "name": "stderr",
     "output_type": "stream",
     "text": [
      "/var/folders/39/kmnxq3052lj44c_nv8qgh6y80000gn/T/ipykernel_78836/3824681370.py:20: FutureWarning: The default value of regex will change from True to False in a future version.\n",
      "  df['tidy_tweet'] = df['tidy_tweet'].str.replace(\"[^a-zA-Z#]\", \" \")\n"
     ]
    },
    {
     "name": "stdout",
     "output_type": "stream",
     "text": [
      "Punctuation, Numbers, and Special Characters Removed from Tweets\n",
      "Tokenized\n",
      "Stop Words Removed from Tweets\n",
      "Empty Tweets Dropped\n",
      "DataFrame Finished\n"
     ]
    }
   ],
   "source": [
    "df = pre_process_df(tweets)"
   ]
  },
  {
   "cell_type": "code",
   "execution_count": 37,
   "id": "84121a21",
   "metadata": {},
   "outputs": [
    {
     "name": "stdout",
     "output_type": "stream",
     "text": [
      "(879316, 10)\n",
      "                                               tweet                 author  \\\n",
      "0  VIDEO: Today's press conference w/ @SenBobCork...  Alexander, Lamar (TN)   \n",
      "1  Will hold press conference in the Capitol's Ra...  Alexander, Lamar (TN)   \n",
      "2  \"Major threats to our research universities\" O...  Alexander, Lamar (TN)   \n",
      "3  .@SenAlexander The Wind #PTC is \"a brazen flee...  Alexander, Lamar (TN)   \n",
      "4  VIDEO: Sen. Alexander on passing of Sen. @Dani...  Alexander, Lamar (TN)   \n",
      "\n",
      "  party chamber  congress  retweet  \\\n",
      "0     D       H       112        0   \n",
      "1     D       H       112        0   \n",
      "2     D       H       112        1   \n",
      "3     D       H       112        1   \n",
      "4     D       H       112        0   \n",
      "\n",
      "                                          tidy_tweet       date  \\\n",
      "0  VIDEO  Today s press conference w   on the  is... 2012-12-28   \n",
      "1  Will hold press conference in the Capitol s Ra... 2012-12-28   \n",
      "2   Major threats to our research universities  O... 2012-12-19   \n",
      "3    The Wind  is  a brazen fleecing of the taxpa... 2012-12-19   \n",
      "4  VIDEO  Sen  Alexander on passing of Sen      S... 2012-12-18   \n",
      "\n",
      "                                   tidy_tweet_tokens  \\\n",
      "0  [video, today, press, conference, on, the, is,...   \n",
      "1  [will, hold, press, conference, in, the, capit...   \n",
      "2  [major, threats, to, our, research, universiti...   \n",
      "3  [the, wind, is, brazen, fleecing, of, the, tax...   \n",
      "4  [video, sen, alexander, on, passing, of, sen, ...   \n",
      "\n",
      "                                      tokens_no_stop  \n",
      "0                [video, press, conference, website]  \n",
      "1  [hold, press, conference, capitol, radio, tv, ...  \n",
      "2  [major, threats, our, research, universities, ...  \n",
      "3                [wind, brazen, fleecing, taxpayers]  \n",
      "4  [video, sen, alexander, passing, sen, senator,...  \n"
     ]
    }
   ],
   "source": [
    "print(df.shape)\n",
    "print(df.head())\n",
    "\n",
    "dems = df[df['party'] == 'D']\n",
    "reps = df[df['party'] == 'R']\n",
    "\n",
    "tokens = np.concatenate(df['tokens_no_stop'].values)\n",
    "dem_tokens = np.concatenate(dems['tokens_no_stop'].values)\n",
    "rep_tokens = np.concatenate(reps['tokens_no_stop'].values)"
   ]
  },
  {
   "cell_type": "code",
   "execution_count": 120,
   "id": "61299255",
   "metadata": {},
   "outputs": [
    {
     "name": "stdout",
     "output_type": "stream",
     "text": [
      "total 7521269 dem tokens 3202017 rep tokens 4319252\n",
      "dem 0.4257282913295615 rep 0.5742717086704384\n"
     ]
    }
   ],
   "source": [
    "print('total', len(tokens), 'dem tokens', len(dem_tokens), 'rep tokens', len(rep_tokens))\n",
    "print('dem', (len(dem_tokens)/len(tokens)), 'rep', (len(rep_tokens)/len(tokens)))"
   ]
  },
  {
   "cell_type": "code",
   "execution_count": 125,
   "id": "a53afacf",
   "metadata": {},
   "outputs": [
    {
     "data": {
      "text/plain": [
       "0       2-faces\n",
       "1      abnormal\n",
       "2       abolish\n",
       "3    abominable\n",
       "4    abominably\n",
       "Name: 2-faced, dtype: object"
      ]
     },
     "execution_count": 125,
     "metadata": {},
     "output_type": "execute_result"
    }
   ],
   "source": [
    "negwords = pd.read_csv(\"negativewords.csv\").squeeze('columns')\n",
    "negwords.head()"
   ]
  },
  {
   "cell_type": "code",
   "execution_count": 126,
   "id": "607f4572",
   "metadata": {},
   "outputs": [],
   "source": [
    "#tweets with negative words\n",
    "neg_mask = df['tokens_no_stop'].apply(lambda x: len(set(negwords) & set(x)) != 0)\n",
    "df_neg = df[neg_mask]\n",
    "\n"
   ]
  },
  {
   "cell_type": "code",
   "execution_count": 127,
   "id": "818ad79b",
   "metadata": {},
   "outputs": [
    {
     "name": "stdout",
     "output_type": "stream",
     "text": [
      "                                                tweet                 author  \\\n",
      "2   \"Major threats to our research universities\" O...  Alexander, Lamar (TN)   \n",
      "3   .@SenAlexander The Wind #PTC is \"a brazen flee...  Alexander, Lamar (TN)   \n",
      "10  .@SenAlexander Difficulties Japan is facing af...  Alexander, Lamar (TN)   \n",
      "15  Teaming up with @SenAlexander to help ensure T...  Alexander, Lamar (TN)   \n",
      "16  Sen. Alexander calls meningitis outbreak “a ni...  Alexander, Lamar (TN)   \n",
      "\n",
      "   party chamber  congress  retweet  \\\n",
      "2      D       H       112        1   \n",
      "3      D       H       112        1   \n",
      "10     D       H       112        1   \n",
      "15     D       H       112        1   \n",
      "16     D       H       112        0   \n",
      "\n",
      "                                           tidy_tweet       date  \\\n",
      "2    Major threats to our research universities  O... 2012-12-19   \n",
      "3     The Wind  is  a brazen fleecing of the taxpa... 2012-12-19   \n",
      "10    Difficulties Japan is facing after closing i... 2012-12-05   \n",
      "15  Teaming up with  to help ensure Tennesseans ge... 2012-11-17   \n",
      "16  Sen  Alexander calls meningitis outbreak  a ni... 2012-11-15   \n",
      "\n",
      "                                    tidy_tweet_tokens  \\\n",
      "2   [major, threats, to, our, research, universiti...   \n",
      "3   [the, wind, is, brazen, fleecing, of, the, tax...   \n",
      "10  [difficulties, japan, is, facing, after, closi...   \n",
      "15  [teaming, up, with, to, help, ensure, tennesse...   \n",
      "16  [sen, alexander, calls, meningitis, outbreak, ...   \n",
      "\n",
      "                                       tokens_no_stop  \n",
      "2   [major, threats, our, research, universities, ...  \n",
      "3                 [wind, brazen, fleecing, taxpayers]  \n",
      "10  [difficulties, japan, facing, closing, plants,...  \n",
      "15  [teaming, help, ensure, tennesseans, get, fair...  \n",
      "16  [sen, alexander, calls, meningitis, outbreak, ...  \n"
     ]
    }
   ],
   "source": [
    "print(df_neg.head())"
   ]
  },
  {
   "cell_type": "code",
   "execution_count": null,
   "id": "009b35a1",
   "metadata": {},
   "outputs": [],
   "source": [
    "df_neg.groupby('party')['tweet'].count() / df.groupby('party')['tweet'].count()"
   ]
  },
  {
   "cell_type": "code",
   "execution_count": 107,
   "id": "2b4b72a5",
   "metadata": {},
   "outputs": [
    {
     "name": "stdout",
     "output_type": "stream",
     "text": [
      "            Word  Frequency\n",
      "0        2-faces          1\n",
      "1       abnormal          1\n",
      "2        abolish          1\n",
      "3     abominable          1\n",
      "4     abominably          1\n",
      "...          ...        ...\n",
      "4777        zaps          1\n",
      "4778      zealot          1\n",
      "4779     zealous          1\n",
      "4780   zealously          1\n",
      "4781      zombie          1\n",
      "\n",
      "[4782 rows x 2 columns]\n"
     ]
    }
   ],
   "source": [
    "#frequency of positive words in tweets\n",
    "neg_arr = np.array(negwords)\n",
    "dic = {}\n",
    "\n",
    "for w in neg_arr:\n",
    "    if w not in dic:\n",
    "        dic[w] = 1\n",
    "    for tweet in df_neg['tidy_tweet_tokens']:\n",
    "        if w in tweet:\n",
    "            dic[w] += 1\n",
    "            \n",
    "neg_word_keys = dic.keys()\n",
    "nums = dic.values()\n",
    "\n",
    "neg_word_counts = pd.DataFrame(list(zip(neg_word_keys, nums)), columns = [\"Word\", \"Frequency\"])\n",
    "print(neg_word_counts)"
   ]
  },
  {
   "cell_type": "code",
   "execution_count": 110,
   "id": "1a49c433",
   "metadata": {},
   "outputs": [
    {
     "name": "stdout",
     "output_type": "stream",
     "text": [
      "                Word  Frequency\n",
      "4685          wasted          9\n",
      "1564          failed          8\n",
      "660        confusion          5\n",
      "2817             mar          4\n",
      "257         bankrupt          3\n",
      "1114  disappointment          3\n",
      "1567         failure          3\n",
      "1947            hard          3\n",
      "2542         ironies          3\n",
      "3336         poorest          3\n"
     ]
    }
   ],
   "source": [
    "#top 10 words\n",
    "top_ten = neg_word_counts.nlargest(10, 'Frequency')\n",
    "print(top_ten)"
   ]
  },
  {
   "cell_type": "code",
   "execution_count": 128,
   "id": "2617e6e8",
   "metadata": {},
   "outputs": [
    {
     "data": {
      "text/plain": [
       "<seaborn.axisgrid.FacetGrid at 0x7fe048343fd0>"
      ]
     },
     "execution_count": 128,
     "metadata": {},
     "output_type": "execute_result"
    },
    {
     "data": {
      "image/png": "[encoded data removed]",
      "text/plain": [
       "<Figure size 360x360 with 1 Axes>"
      ]
     },
     "metadata": {
      "needs_background": "light"
     },
     "output_type": "display_data"
    }
   ],
   "source": [
    "import seaborn as sns\n",
    "sns.catplot(data=top_ten, x='Frequency', y='Word', kind='bar', color='gray')"
   ]
  },
  {
   "cell_type": "code",
   "execution_count": 129,
   "id": "b99a19df",
   "metadata": {},
   "outputs": [
    {
     "data": {
      "text/plain": [
       "<seaborn.axisgrid.FacetGrid at 0x7fd37dac4610>"
      ]
     },
     "execution_count": 129,
     "metadata": {},
     "output_type": "execute_result"
    },
    {
     "data": {
      "image/png": "[encoded data removed]",
      "text/plain": [
       "<Figure size 360x360 with 1 Axes>"
      ]
     },
     "metadata": {
      "needs_background": "light"
     },
     "output_type": "display_data"
    }
   ],
   "source": [
    "counts_party = df_pos.groupby('party')['tweet'].count().reset_index()\n",
    "b = sns.catplot(data=counts_party, x='party', y='tweet', kind='bar', color='gray',\n",
    "               palette=sns.color_palette(['blue', 'red']))\n",
    "b.set_axis_labels(\"Party\", \"Negative Word Counts\")"
   ]
  },
  {
   "cell_type": "code",
   "execution_count": 57,
   "id": "f020dac5",
   "metadata": {},
   "outputs": [],
   "source": [
    "dem_pos = df_pos[df_pos['party'] == 'D']\n",
    "rep_pos = df_pos[df_pos['party'] == 'R']"
   ]
  },
  {
   "cell_type": "code",
   "execution_count": 47,
   "id": "7b84a039",
   "metadata": {},
   "outputs": [],
   "source": [
    "pos_tokens = np.concatenate(df_pos['tokens_no_stop'].values)\n",
    "pos_dem_tokens = np.concatenate(dem_pos['tokens_no_stop'].values)\n",
    "pos_rep_tokens = np.concatenate(rep_pos['tokens_no_stop'].values)"
   ]
  },
  {
   "cell_type": "code",
   "execution_count": null,
   "id": "538b75f0",
   "metadata": {},
   "outputs": [],
   "source": []
  },
  {
   "cell_type": "code",
   "execution_count": null,
   "id": "a46e59c7",
   "metadata": {},
   "outputs": [],
   "source": []
  },
  {
   "cell_type": "code",
   "execution_count": null,
   "id": "6da7fb1a",
   "metadata": {},
   "outputs": [],
   "source": []
  },
  {
   "cell_type": "code",
   "execution_count": null,
   "id": "e6a0e541",
   "metadata": {},
   "outputs": [],
   "source": []
  }
 ],
 "metadata": {
  "kernelspec": {
   "display_name": "Python 3 (ipykernel)",
   "language": "python",
   "name": "python3"
  },
  "language_info": {
   "codemirror_mode": {
    "name": "ipython",
    "version": 3
   },
   "file_extension": ".py",
   "mimetype": "text/x-python",
   "name": "python",
   "nbconvert_exporter": "python",
   "pygments_lexer": "ipython3",
   "version": "3.9.12"
  }
 },
 "nbformat": 4,
 "nbformat_minor": 5
}
