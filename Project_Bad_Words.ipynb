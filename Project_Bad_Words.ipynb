{
 "cells": [
  {
   "cell_type": "markdown",
   "metadata": {
    "id": "oV46jr3OylDU"
   },
   "source": [
    "# Loading the Data"
   ]
  },
  {
   "cell_type": "code",
   "execution_count": 1,
   "metadata": {
    "id": "k9hZy-oCy-Du"
   },
   "outputs": [],
   "source": [
    "import pandas as pd"
   ]
  },
  {
   "cell_type": "code",
   "execution_count": 2,
   "metadata": {
    "colab": {
     "base_uri": "https://localhost:8080/",
     "height": 371
    },
    "executionInfo": {
     "elapsed": 136,
     "status": "error",
     "timestamp": 1667763393380,
     "user": {
      "displayName": "Jacqueline Cruz",
      "userId": "12269308795001245623"
     },
     "user_tz": 300
    },
    "id": "PDb1AZ7Wyw7c",
    "outputId": "509e32a5-7a7a-4cf8-dbe1-a7f8063f2867"
   },
   "outputs": [
    {
     "name": "stdout",
     "output_type": "stream",
     "text": [
      "(885832, 6)\n"
     ]
    },
    {
     "data": {
      "text/html": [
       "<div>\n",
       "<style scoped>\n",
       "    .dataframe tbody tr th:only-of-type {\n",
       "        vertical-align: middle;\n",
       "    }\n",
       "\n",
       "    .dataframe tbody tr th {\n",
       "        vertical-align: top;\n",
       "    }\n",
       "\n",
       "    .dataframe thead th {\n",
       "        text-align: right;\n",
       "    }\n",
       "</style>\n",
       "<table border=\"1\" class=\"dataframe\">\n",
       "  <thead>\n",
       "    <tr style=\"text-align: right;\">\n",
       "      <th></th>\n",
       "      <th>tweet</th>\n",
       "      <th>author</th>\n",
       "      <th>party</th>\n",
       "      <th>chamber</th>\n",
       "      <th>congress</th>\n",
       "      <th>retweet</th>\n",
       "    </tr>\n",
       "  </thead>\n",
       "  <tbody>\n",
       "    <tr>\n",
       "      <th>0</th>\n",
       "      <td>VIDEO: Today's press conference w/ @SenBobCork...</td>\n",
       "      <td>Alexander, Lamar (TN)</td>\n",
       "      <td>D</td>\n",
       "      <td>H</td>\n",
       "      <td>112</td>\n",
       "      <td>0</td>\n",
       "    </tr>\n",
       "    <tr>\n",
       "      <th>1</th>\n",
       "      <td>Will hold press conference in the Capitol's Ra...</td>\n",
       "      <td>Alexander, Lamar (TN)</td>\n",
       "      <td>D</td>\n",
       "      <td>H</td>\n",
       "      <td>112</td>\n",
       "      <td>0</td>\n",
       "    </tr>\n",
       "    <tr>\n",
       "      <th>2</th>\n",
       "      <td>\"Major threats to our research universities\" O...</td>\n",
       "      <td>Alexander, Lamar (TN)</td>\n",
       "      <td>D</td>\n",
       "      <td>H</td>\n",
       "      <td>112</td>\n",
       "      <td>1</td>\n",
       "    </tr>\n",
       "    <tr>\n",
       "      <th>3</th>\n",
       "      <td>.@SenAlexander The Wind #PTC is \"a brazen flee...</td>\n",
       "      <td>Alexander, Lamar (TN)</td>\n",
       "      <td>D</td>\n",
       "      <td>H</td>\n",
       "      <td>112</td>\n",
       "      <td>1</td>\n",
       "    </tr>\n",
       "    <tr>\n",
       "      <th>4</th>\n",
       "      <td>VIDEO: Sen. Alexander on passing of Sen. @Dani...</td>\n",
       "      <td>Alexander, Lamar (TN)</td>\n",
       "      <td>D</td>\n",
       "      <td>H</td>\n",
       "      <td>112</td>\n",
       "      <td>0</td>\n",
       "    </tr>\n",
       "  </tbody>\n",
       "</table>\n",
       "</div>"
      ],
      "text/plain": [
       "                                               tweet                 author  \\\n",
       "0  VIDEO: Today's press conference w/ @SenBobCork...  Alexander, Lamar (TN)   \n",
       "1  Will hold press conference in the Capitol's Ra...  Alexander, Lamar (TN)   \n",
       "2  \"Major threats to our research universities\" O...  Alexander, Lamar (TN)   \n",
       "3  .@SenAlexander The Wind #PTC is \"a brazen flee...  Alexander, Lamar (TN)   \n",
       "4  VIDEO: Sen. Alexander on passing of Sen. @Dani...  Alexander, Lamar (TN)   \n",
       "\n",
       "  party chamber  congress  retweet  \n",
       "0     D       H       112        0  \n",
       "1     D       H       112        0  \n",
       "2     D       H       112        1  \n",
       "3     D       H       112        1  \n",
       "4     D       H       112        0  "
      ]
     },
     "execution_count": 2,
     "metadata": {},
     "output_type": "execute_result"
    }
   ],
   "source": [
    "tweets = pd.read_csv(\"congress-tweets.csv\", encoding='utf-8')\n",
    "print(tweets.shape)\n",
    "tweets.head()"
   ]
  },
  {
   "cell_type": "markdown",
   "metadata": {
    "id": "OaTbyQFh0p5u"
   },
   "source": [
    "# Towards Data Science Pipeline"
   ]
  },
  {
   "cell_type": "code",
   "execution_count": 3,
   "metadata": {
    "colab": {
     "base_uri": "https://localhost:8080/"
    },
    "executionInfo": {
     "elapsed": 2320,
     "status": "ok",
     "timestamp": 1667760989524,
     "user": {
      "displayName": "Jacqueline Cruz",
      "userId": "12269308795001245623"
     },
     "user_tz": 300
    },
    "id": "YrqlOF-I0b1b",
    "outputId": "10e606a1-0086-4180-d2f3-49ef5f662709"
   },
   "outputs": [
    {
     "name": "stderr",
     "output_type": "stream",
     "text": [
      "[nltk_data] Downloading package stopwords to\n",
      "[nltk_data]     /Users/jacquelinecruz/nltk_data...\n",
      "[nltk_data]   Package stopwords is already up-to-date!\n"
     ]
    }
   ],
   "source": [
    "import pandas as pd\n",
    "import numpy as np\n",
    "import re\n",
    "# Plotting\n",
    "import seaborn as sns\n",
    "import matplotlib.pyplot as plt\n",
    "# Gensim\n",
    "import gensim\n",
    "from gensim.utils import simple_preprocess\n",
    "# NLTK\n",
    "import nltk\n",
    "from nltk.corpus import stopwords\n",
    "nltk.download('stopwords')\n",
    "from collections import Counter\n",
    "#from wordcloud import WordCloud\n",
    "import warnings \n",
    "warnings.filterwarnings(\"ignore\", category=DeprecationWarning)\n",
    "%matplotlib inline"
   ]
  },
  {
   "cell_type": "code",
   "execution_count": 4,
   "metadata": {
    "colab": {
     "base_uri": "https://localhost:8080/",
     "height": 329
    },
    "executionInfo": {
     "elapsed": 241,
     "status": "error",
     "timestamp": 1667760993547,
     "user": {
      "displayName": "Jacqueline Cruz",
      "userId": "12269308795001245623"
     },
     "user_tz": 300
    },
    "id": "5njeVbF3041a",
    "outputId": "cf629f62-a0ed-4dbb-dafc-bc2a0bb53dd1"
   },
   "outputs": [
    {
     "name": "stdout",
     "output_type": "stream",
     "text": [
      "198521\n"
     ]
    }
   ],
   "source": [
    "df = pd.read_hdf(\"sampled_df.h5\", index_col=0)\n",
    "print(len(df))"
   ]
  },
  {
   "cell_type": "code",
   "execution_count": 5,
   "metadata": {
    "id": "0SL4xTQwRqsY"
   },
   "outputs": [],
   "source": [
    "# pre processing function of the tweets\n",
    "# just combined it all into one function so it is less messy\n",
    "\n",
    "def pre_process_df(df):\n",
    "    df['tidy_tweet'] = df['tweet'].str.lower()\n",
    "    # REMOVE '@USER'\n",
    "    df['tidy_tweet'] = np.vectorize(remove_users)(df['tweet'],\"@ [\\w]*\", \"@[\\w]*\")\n",
    "    print('Users Removed from Tweets')\n",
    "    # REMOVE HASHTAGS\n",
    "    df['tidy_tweet'] = np.vectorize(remove_hashtags)(df['tidy_tweet'], \"# [\\w]*\", \"#[\\w]*\")\n",
    "    print('Hashtags Removed from Tweets')\n",
    "    # REMOVE LINKS\n",
    "    df['tidy_tweet'] = np.vectorize(remove_links)(df['tidy_tweet'])\n",
    "    print('Links Removed from Tweets')\n",
    "    # EXTRACT TWEET DATE\n",
    "    df['date'] = df['tweet'].str.extract(r\"([A-Z][a-z]+\\s\\d+,\\s\\d+)\\s*$\")\n",
    "    df['date'] = pd.to_datetime(df['date'], errors='coerce')\n",
    "    print('Dates Extracted')\n",
    "    # REMOVE Punctuations, Numbers, and Special Characters\n",
    "    df['tidy_tweet'] = df['tidy_tweet'].str.replace(\"[^a-zA-Z#]\", \" \")\n",
    "    print('Punctuation, Numbers, and Special Characters Removed from Tweets')\n",
    "    # TOKENIZATION\n",
    "    df['tidy_tweet_tokens'] = list(tokenize(df['tidy_tweet']))\n",
    "    print('Tokenized')\n",
    "    # REMOVE STOPWORDS\n",
    "    df['tokens_no_stop'] = remove_stopwords(df['tidy_tweet_tokens'])\n",
    "    print('Stop Words Removed from Tweets')\n",
    "    # DROP EMPTY TWEETS\n",
    "    df = df[df['tokens_no_stop'].apply(lambda x: len(x)) > 0]\n",
    "    print('Empty Tweets Dropped')\n",
    "    print('DataFrame Finished')\n",
    "    return df\n",
    "    \n",
    "def remove_users(tweet, pattern1, pattern2):\n",
    "    r = re.findall(pattern1, tweet)\n",
    "    for i in r:\n",
    "        tweet = re.sub(i, '', tweet)\n",
    "  \n",
    "    r = re.findall(pattern2, tweet)\n",
    "    for i in r:\n",
    "        tweet = re.sub(i, '', tweet)\n",
    "    return tweet\n",
    "\n",
    "def remove_hashtags(tweet, pattern1, pattern2):\n",
    "    r = re.findall(pattern1, tweet)\n",
    "    for i in r:\n",
    "        tweet = re.sub(i, '', tweet)\n",
    "    \n",
    "    r = re.findall(pattern2, tweet)\n",
    "    for i in r:\n",
    "        tweet = re.sub(i, '', tweet)\n",
    "    return tweet\n",
    "\n",
    "def remove_links(tweet):\n",
    "    tweet_no_link = re.sub(r\"http\\S+\", \"\", tweet)\n",
    "    return tweet_no_link\n",
    "\n",
    "def tokenize(tweet):\n",
    "    for word in tweet:\n",
    "        yield(gensim.utils.simple_preprocess(str(word), deacc=True))\n",
    "        \n",
    "def remove_stopwords(tweets):\n",
    "    # Prepare Stop Words\n",
    "    stop_words = stopwords.words('english')\n",
    "    stop_words.extend(['from', 'https', 'twitter', 'religions', 'pic','twitt','today','will','thank', 'thanks',\n",
    "                      'jan','feb','mar','apr','may','jun','jul','aug','sep','oct','nov','dec', 'great', 'new', 'day', 'rt',\n",
    "                      'th', 'morning', 'week', 'com', 'net'])\n",
    "    #words to remove from stopwords\n",
    "    remove_words = ['we','our','ours','ourselves']\n",
    "    stop_words = [e for e in stop_words if e not in remove_words]\n",
    "    return [[word for word in simple_preprocess(str(tweet)) if word not in stop_words] for tweet in tweets]"
   ]
  },
  {
   "cell_type": "code",
   "execution_count": 6,
   "metadata": {
    "id": "NKgbbgIJSJ9l"
   },
   "outputs": [
    {
     "name": "stdout",
     "output_type": "stream",
     "text": [
      "Users Removed from Tweets\n",
      "Hashtags Removed from Tweets\n",
      "Links Removed from Tweets\n",
      "Dates Extracted\n"
     ]
    },
    {
     "name": "stderr",
     "output_type": "stream",
     "text": [
      "/var/folders/2w/1znq9cqn7cn9gd6rhlgdv7880000gn/T/ipykernel_41550/3824681370.py:20: FutureWarning: The default value of regex will change from True to False in a future version.\n",
      "  df['tidy_tweet'] = df['tidy_tweet'].str.replace(\"[^a-zA-Z#]\", \" \")\n"
     ]
    },
    {
     "name": "stdout",
     "output_type": "stream",
     "text": [
      "Punctuation, Numbers, and Special Characters Removed from Tweets\n",
      "Tokenized\n",
      "Stop Words Removed from Tweets\n",
      "Empty Tweets Dropped\n",
      "DataFrame Finished\n"
     ]
    }
   ],
   "source": [
    "df = pre_process_df(df)"
   ]
  },
  {
   "cell_type": "code",
   "execution_count": 7,
   "metadata": {
    "id": "bEiDTt1jSKW9"
   },
   "outputs": [
    {
     "name": "stdout",
     "output_type": "stream",
     "text": [
      "(198521, 10)\n"
     ]
    },
    {
     "data": {
      "text/html": [
       "<div>\n",
       "<style scoped>\n",
       "    .dataframe tbody tr th:only-of-type {\n",
       "        vertical-align: middle;\n",
       "    }\n",
       "\n",
       "    .dataframe tbody tr th {\n",
       "        vertical-align: top;\n",
       "    }\n",
       "\n",
       "    .dataframe thead th {\n",
       "        text-align: right;\n",
       "    }\n",
       "</style>\n",
       "<table border=\"1\" class=\"dataframe\">\n",
       "  <thead>\n",
       "    <tr style=\"text-align: right;\">\n",
       "      <th></th>\n",
       "      <th>tweet</th>\n",
       "      <th>author</th>\n",
       "      <th>party</th>\n",
       "      <th>chamber</th>\n",
       "      <th>congress</th>\n",
       "      <th>retweet</th>\n",
       "      <th>tidy_tweet</th>\n",
       "      <th>date</th>\n",
       "      <th>tidy_tweet_tokens</th>\n",
       "      <th>tokens_no_stop</th>\n",
       "    </tr>\n",
       "  </thead>\n",
       "  <tbody>\n",
       "    <tr>\n",
       "      <th>612145</th>\n",
       "      <td>We must fight for the victims and end #Humantr...</td>\n",
       "      <td>Fincher, Stephen (TN-8)</td>\n",
       "      <td>R</td>\n",
       "      <td>H</td>\n",
       "      <td>113</td>\n",
       "      <td>0</td>\n",
       "      <td>We must fight for the victims and end   Apr   ...</td>\n",
       "      <td>2014-04-30</td>\n",
       "      <td>[we, must, fight, for, the, victims, and, end,...</td>\n",
       "      <td>[we, must, fight, victims, end]</td>\n",
       "    </tr>\n",
       "    <tr>\n",
       "      <th>616780</th>\n",
       "      <td>We need a select committee on Benghazi to fulf...</td>\n",
       "      <td>Fleishmann, Charles (TN-3)</td>\n",
       "      <td>R</td>\n",
       "      <td>H</td>\n",
       "      <td>113</td>\n",
       "      <td>0</td>\n",
       "      <td>We need a select committee on Benghazi to fulf...</td>\n",
       "      <td>2013-09-11</td>\n",
       "      <td>[we, need, select, committee, on, benghazi, to...</td>\n",
       "      <td>[we, need, select, committee, benghazi, fulfil...</td>\n",
       "    </tr>\n",
       "    <tr>\n",
       "      <th>854334</th>\n",
       "      <td>My statement w/ @SenJohnMcCain on the permanen...</td>\n",
       "      <td>Flake, Jeff (AZ)</td>\n",
       "      <td>R</td>\n",
       "      <td>S</td>\n",
       "      <td>113</td>\n",
       "      <td>0</td>\n",
       "      <td>My statement w   on the permanent removal of t...</td>\n",
       "      <td>2014-11-24</td>\n",
       "      <td>[my, statement, on, the, permanent, removal, o...</td>\n",
       "      <td>[statement, permanent, removal, former, direct...</td>\n",
       "    </tr>\n",
       "    <tr>\n",
       "      <th>201165</th>\n",
       "      <td>Good morning Las Cruces! Glad to be visiting w...</td>\n",
       "      <td>Perry, Scott (PA-4)</td>\n",
       "      <td>D</td>\n",
       "      <td>H</td>\n",
       "      <td>113</td>\n",
       "      <td>0</td>\n",
       "      <td>Good morning Las Cruces  Glad to be visiting w...</td>\n",
       "      <td>2013-08-22</td>\n",
       "      <td>[good, morning, las, cruces, glad, to, be, vis...</td>\n",
       "      <td>[good, las, cruces, glad, visiting, our, frien...</td>\n",
       "    </tr>\n",
       "    <tr>\n",
       "      <th>677798</th>\n",
       "      <td>Thanks to everyone who came out for the Defian...</td>\n",
       "      <td>LoBiondo, Frank (NJ-2)</td>\n",
       "      <td>R</td>\n",
       "      <td>H</td>\n",
       "      <td>113</td>\n",
       "      <td>0</td>\n",
       "      <td>Thanks to everyone who came out for the Defian...</td>\n",
       "      <td>2013-05-10</td>\n",
       "      <td>[thanks, to, everyone, who, came, out, for, th...</td>\n",
       "      <td>[everyone, came, defiance, courthouse, confere...</td>\n",
       "    </tr>\n",
       "  </tbody>\n",
       "</table>\n",
       "</div>"
      ],
      "text/plain": [
       "                                                    tweet  \\\n",
       "612145  We must fight for the victims and end #Humantr...   \n",
       "616780  We need a select committee on Benghazi to fulf...   \n",
       "854334  My statement w/ @SenJohnMcCain on the permanen...   \n",
       "201165  Good morning Las Cruces! Glad to be visiting w...   \n",
       "677798  Thanks to everyone who came out for the Defian...   \n",
       "\n",
       "                            author party chamber  congress  retweet  \\\n",
       "612145     Fincher, Stephen (TN-8)     R       H       113        0   \n",
       "616780  Fleishmann, Charles (TN-3)     R       H       113        0   \n",
       "854334            Flake, Jeff (AZ)     R       S       113        0   \n",
       "201165         Perry, Scott (PA-4)     D       H       113        0   \n",
       "677798      LoBiondo, Frank (NJ-2)     R       H       113        0   \n",
       "\n",
       "                                               tidy_tweet       date  \\\n",
       "612145  We must fight for the victims and end   Apr   ... 2014-04-30   \n",
       "616780  We need a select committee on Benghazi to fulf... 2013-09-11   \n",
       "854334  My statement w   on the permanent removal of t... 2014-11-24   \n",
       "201165  Good morning Las Cruces  Glad to be visiting w... 2013-08-22   \n",
       "677798  Thanks to everyone who came out for the Defian... 2013-05-10   \n",
       "\n",
       "                                        tidy_tweet_tokens  \\\n",
       "612145  [we, must, fight, for, the, victims, and, end,...   \n",
       "616780  [we, need, select, committee, on, benghazi, to...   \n",
       "854334  [my, statement, on, the, permanent, removal, o...   \n",
       "201165  [good, morning, las, cruces, glad, to, be, vis...   \n",
       "677798  [thanks, to, everyone, who, came, out, for, th...   \n",
       "\n",
       "                                           tokens_no_stop  \n",
       "612145                    [we, must, fight, victims, end]  \n",
       "616780  [we, need, select, committee, benghazi, fulfil...  \n",
       "854334  [statement, permanent, removal, former, direct...  \n",
       "201165  [good, las, cruces, glad, visiting, our, frien...  \n",
       "677798  [everyone, came, defiance, courthouse, confere...  "
      ]
     },
     "execution_count": 7,
     "metadata": {},
     "output_type": "execute_result"
    }
   ],
   "source": [
    "print(df.shape)\n",
    "df.head()"
   ]
  },
  {
   "cell_type": "code",
   "execution_count": null,
   "metadata": {
    "id": "uW_fWAexSM0H"
   },
   "outputs": [],
   "source": [
    "dems = df[df['party'] == 'D']\n",
    "reps = df[df['party'] == 'R']"
   ]
  },
  {
   "cell_type": "code",
   "execution_count": null,
   "metadata": {
    "id": "BWdjemBMSRgT"
   },
   "outputs": [],
   "source": [
    "tokens = np.concatenate(df['tokens_no_stop'].values)\n",
    "dem_tokens = np.concatenate(dems['tokens_no_stop'].values)\n",
    "rep_tokens = np.concatenate(reps['tokens_no_stop'].values)"
   ]
  },
  {
   "cell_type": "code",
   "execution_count": null,
   "metadata": {
    "id": "M7wovfmJSSAd"
   },
   "outputs": [],
   "source": [
    "words_for_cloud = \" \".join(tokens)+\" \"\n",
    "words_for_cloud_dem = \" \".join(dem_tokens)+\" \"\n",
    "words_for_cloud_rep = \" \".join(rep_tokens)+\" \""
   ]
  },
  {
   "cell_type": "code",
   "execution_count": null,
   "metadata": {
    "id": "ffgvFDT5SS9y"
   },
   "outputs": [],
   "source": [
    "wordcloud = WordCloud(width = 800, height = 800,\n",
    "                background_color ='white',\n",
    "                min_font_size = 10).generate(words_for_cloud)\n",
    " \n",
    "# plot the WordCloud image                      \n",
    "plt.figure(figsize = (4,4), facecolor = None)\n",
    "plt.imshow(wordcloud)\n",
    "plt.axis(\"off\")\n",
    "plt.tight_layout(pad = 0)\n",
    "plt.title('ALL TWEETS Word Cloud', fontsize=20)\n",
    " \n",
    "plt.show()"
   ]
  },
  {
   "cell_type": "code",
   "execution_count": null,
   "metadata": {
    "id": "KovvpBBxSUbj"
   },
   "outputs": [],
   "source": [
    "wordcloud = WordCloud(width = 800, height = 800,\n",
    "                background_color ='white',\n",
    "                min_font_size = 10).generate(words_for_cloud_dem)\n",
    " \n",
    "# plot the WordCloud image                      \n",
    "plt.figure(figsize = (4,4), facecolor = None)\n",
    "plt.imshow(wordcloud)\n",
    "plt.axis(\"off\")\n",
    "plt.tight_layout(pad = 0)\n",
    "plt.title('DEMOCRATS Word Cloud', fontsize=20)\n",
    " \n",
    "plt.show()"
   ]
  },
  {
   "cell_type": "code",
   "execution_count": null,
   "metadata": {
    "id": "SlkgwA-rS4jp"
   },
   "outputs": [],
   "source": [
    "wordcloud = WordCloud(width = 800, height = 800,\n",
    "                background_color ='white',\n",
    "                min_font_size = 10).generate(words_for_cloud_rep)\n",
    " \n",
    "# plot the WordCloud image                      \n",
    "plt.figure(figsize = (4,4), facecolor = None)\n",
    "plt.imshow(wordcloud)\n",
    "plt.axis(\"off\")\n",
    "plt.tight_layout(pad = 0)\n",
    "plt.title('REPUBLICANS Word Cloud', fontsize=20)\n",
    " \n",
    "plt.show()"
   ]
  },
  {
   "cell_type": "code",
   "execution_count": null,
   "metadata": {
    "id": "7OmSONP6TqSj"
   },
   "outputs": [],
   "source": [
    "#filters the value_counts to quartile (here top 0.5% of words)\n",
    "value_counts = pd.Series(list(tokens)).value_counts()\n",
    "value_counts = value_counts[value_counts > 1]\n",
    "value_counts = value_counts[value_counts > value_counts.quantile(0.995)]"
   ]
  },
  {
   "cell_type": "code",
   "execution_count": null,
   "metadata": {
    "id": "3OLlKD3jUSj5"
   },
   "outputs": [],
   "source": [
    "plt.figure(figsize = (5, len(value_counts)//5), facecolor = None)\n",
    "plt.title('ALL Value Counts')\n",
    "sns.barplot(x=value_counts.values, y=value_counts.index, color='purple')"
   ]
  },
  {
   "cell_type": "code",
   "execution_count": null,
   "metadata": {
    "id": "yiVz4bk3Vdki"
   },
   "outputs": [],
   "source": [
    "#filters the value_counts to quartile (here top 0.5% of words)\n",
    "value_counts = pd.Series(list(dem_tokens)).value_counts()\n",
    "value_counts = value_counts[value_counts > 1]\n",
    "value_counts = value_counts[value_counts > value_counts.quantile(0.995)]"
   ]
  },
  {
   "cell_type": "code",
   "execution_count": null,
   "metadata": {
    "id": "d-GOOD3oaEJv"
   },
   "outputs": [],
   "source": [
    "plt.figure(figsize = (5, len(value_counts)//5), facecolor = None)\n",
    "plt.title('DEM Value Counts')\n",
    "sns.barplot(x=value_counts.values, y=value_counts.index, color='blue')"
   ]
  },
  {
   "cell_type": "code",
   "execution_count": null,
   "metadata": {
    "id": "GUL9gyrZaQxY"
   },
   "outputs": [],
   "source": [
    "#filters the value_counts to quartile (here top 0.5% of words)\n",
    "value_counts = pd.Series(list(rep_tokens)).value_counts()\n",
    "value_counts = value_counts[value_counts > 1]\n",
    "value_counts = value_counts[value_counts > value_counts.quantile(0.995)]"
   ]
  },
  {
   "cell_type": "code",
   "execution_count": null,
   "metadata": {
    "id": "O-wiLVQYaQxZ"
   },
   "outputs": [],
   "source": [
    "plt.figure(figsize = (5, len(value_counts)//5), facecolor = None)\n",
    "plt.title('REP Value Counts')\n",
    "sns.barplot(x=value_counts.values, y=value_counts.index, color='red')"
   ]
  },
  {
   "cell_type": "markdown",
   "metadata": {
    "id": "sJPchPTSbn25"
   },
   "source": [
    "## Religious Stuffs"
   ]
  },
  {
   "cell_type": "code",
   "execution_count": null,
   "metadata": {
    "id": "4AUCjUgVbp8V"
   },
   "outputs": [],
   "source": [
    "# corpus of religious words Preston made through various webpages\n",
    "\n",
    "religious_words = pd.read_csv('religious_words.csv', squeeze=True)"
   ]
  },
  {
   "cell_type": "code",
   "execution_count": null,
   "metadata": {
    "id": "8s2eksOgbqiT"
   },
   "outputs": [],
   "source": [
    "# create set of religious words and the list of tokens\n",
    "# compare between sets, find overlapping words\n",
    "# if there are no overlapping terms (i.e. the tokens contain no religious terms) then the boolean will evaluate to False\n",
    "# if there ARE religious terms, the boolena will evalute to True\n",
    "\n",
    "cont_rel_words_mask = df['tokens_no_stop'].apply(lambda x: len(set(religious_words) & set(x)) != 0)\n",
    "df_religious = df[cont_rel_words_mask]"
   ]
  },
  {
   "cell_type": "code",
   "execution_count": null,
   "metadata": {
    "id": "jIkuW1BgbxPd"
   },
   "outputs": [],
   "source": [
    "df_religious"
   ]
  },
  {
   "cell_type": "markdown",
   "metadata": {
    "id": "mk1kMJnMc5W0"
   },
   "source": [
    "FINDING: Dems and Reps seem to use religious language the same amount"
   ]
  },
  {
   "cell_type": "code",
   "execution_count": null,
   "metadata": {
    "id": "Z13ONYz0b5xl"
   },
   "outputs": [],
   "source": [
    "df_religious.groupby('party')['tweet'].count() / df.groupby('party')['tweet'].count()"
   ]
  },
  {
   "cell_type": "code",
   "execution_count": null,
   "metadata": {
    "id": "PaJrzTomr3vd"
   },
   "outputs": [],
   "source": []
  },
  {
   "cell_type": "markdown",
   "metadata": {
    "id": "e8dTJKPRr8vI"
   },
   "source": [
    "## Do Democrats actually swear more often than Republicans?"
   ]
  },
  {
   "cell_type": "code",
   "execution_count": 8,
   "metadata": {
    "id": "KtejnKD4r9-u"
   },
   "outputs": [],
   "source": [
    "bad_words = pd.read_csv('bad-words.csv').squeeze('columns')"
   ]
  },
  {
   "cell_type": "code",
   "execution_count": 9,
   "metadata": {
    "id": "uRoPp5h4sNLA"
   },
   "outputs": [],
   "source": [
    "#filter tweets that contain bad words \n",
    "bad_words_mask = df['tokens_no_stop'].apply(lambda x: len(set(bad_words) & set(x)) != 0)\n",
    "df_bad_words = df[bad_words_mask]"
   ]
  },
  {
   "cell_type": "code",
   "execution_count": 10,
   "metadata": {},
   "outputs": [
    {
     "data": {
      "text/plain": [
       "party\n",
       "D    0.007070\n",
       "R    0.006697\n",
       "Name: tweet, dtype: float64"
      ]
     },
     "execution_count": 10,
     "metadata": {},
     "output_type": "execute_result"
    }
   ],
   "source": [
    "#find percentage of tweets that contain bad words for each party \n",
    "df_bad_words.groupby('party')['tweet'].count() / df.groupby('party')['tweet'].count()"
   ]
  },
  {
   "cell_type": "code",
   "execution_count": 11,
   "metadata": {},
   "outputs": [
    {
     "data": {
      "text/html": [
       "<div>\n",
       "<style scoped>\n",
       "    .dataframe tbody tr th:only-of-type {\n",
       "        vertical-align: middle;\n",
       "    }\n",
       "\n",
       "    .dataframe tbody tr th {\n",
       "        vertical-align: top;\n",
       "    }\n",
       "\n",
       "    .dataframe thead th {\n",
       "        text-align: right;\n",
       "    }\n",
       "</style>\n",
       "<table border=\"1\" class=\"dataframe\">\n",
       "  <thead>\n",
       "    <tr style=\"text-align: right;\">\n",
       "      <th></th>\n",
       "      <th>tweet</th>\n",
       "      <th>author</th>\n",
       "      <th>party</th>\n",
       "      <th>chamber</th>\n",
       "      <th>congress</th>\n",
       "      <th>retweet</th>\n",
       "      <th>tidy_tweet</th>\n",
       "      <th>date</th>\n",
       "      <th>tidy_tweet_tokens</th>\n",
       "      <th>tokens_no_stop</th>\n",
       "    </tr>\n",
       "  </thead>\n",
       "  <tbody>\n",
       "    <tr>\n",
       "      <th>787218</th>\n",
       "      <td>The House just passed H.R. 3973 - the Faithful...</td>\n",
       "      <td>Yoho, Ted (FL-3)</td>\n",
       "      <td>R</td>\n",
       "      <td>H</td>\n",
       "      <td>113</td>\n",
       "      <td>0</td>\n",
       "      <td>The House just passed H R         the Faithful...</td>\n",
       "      <td>2014-03-13</td>\n",
       "      <td>[the, house, just, passed, the, faithful, exec...</td>\n",
       "      <td>[house, passed, faithful, execution, law, act,...</td>\n",
       "    </tr>\n",
       "    <tr>\n",
       "      <th>31170</th>\n",
       "      <td>Alaska is so proud of our Spartans! The 4-25ex...</td>\n",
       "      <td>Murkowski, Lisa (AK)</td>\n",
       "      <td>D</td>\n",
       "      <td>H</td>\n",
       "      <td>112</td>\n",
       "      <td>0</td>\n",
       "      <td>Alaska is so proud of our Spartans  The     ex...</td>\n",
       "      <td>2012-11-01</td>\n",
       "      <td>[alaska, is, so, proud, of, our, spartans, the...</td>\n",
       "      <td>[alaska, proud, our, spartans, executed, every...</td>\n",
       "    </tr>\n",
       "    <tr>\n",
       "      <th>326975</th>\n",
       "      <td>Max’s plan to award the Devil’s Brigade the Co...</td>\n",
       "      <td>Baucus, Max (MT)</td>\n",
       "      <td>D</td>\n",
       "      <td>S</td>\n",
       "      <td>113</td>\n",
       "      <td>0</td>\n",
       "      <td>Max s plan to award the Devil s Brigade the Co...</td>\n",
       "      <td>2013-05-23</td>\n",
       "      <td>[max, plan, to, award, the, devil, brigade, th...</td>\n",
       "      <td>[max, plan, award, devil, brigade, congression...</td>\n",
       "    </tr>\n",
       "    <tr>\n",
       "      <th>431346</th>\n",
       "      <td>High gas prices are the enemy of the family bu...</td>\n",
       "      <td>Graves, Tom (GA-09)</td>\n",
       "      <td>R</td>\n",
       "      <td>H</td>\n",
       "      <td>112</td>\n",
       "      <td>0</td>\n",
       "      <td>High gas prices are the enemy of the family bu...</td>\n",
       "      <td>2011-05-11</td>\n",
       "      <td>[high, gas, prices, are, the, enemy, of, the, ...</td>\n",
       "      <td>[high, gas, prices, enemy, family, budget, con...</td>\n",
       "    </tr>\n",
       "    <tr>\n",
       "      <th>203131</th>\n",
       "      <td>Today is the 50th anniversary of the assassina...</td>\n",
       "      <td>Petri, Tom (WI-6)</td>\n",
       "      <td>D</td>\n",
       "      <td>H</td>\n",
       "      <td>113</td>\n",
       "      <td>0</td>\n",
       "      <td>Today is the   th anniversary of the assassina...</td>\n",
       "      <td>2013-11-22</td>\n",
       "      <td>[today, is, the, th, anniversary, of, the, ass...</td>\n",
       "      <td>[anniversary, assassination, pres, kennedy, lo...</td>\n",
       "    </tr>\n",
       "    <tr>\n",
       "      <th>...</th>\n",
       "      <td>...</td>\n",
       "      <td>...</td>\n",
       "      <td>...</td>\n",
       "      <td>...</td>\n",
       "      <td>...</td>\n",
       "      <td>...</td>\n",
       "      <td>...</td>\n",
       "      <td>...</td>\n",
       "      <td>...</td>\n",
       "      <td>...</td>\n",
       "    </tr>\n",
       "    <tr>\n",
       "      <th>666414</th>\n",
       "      <td>Tune in this morning to @ThisWeekABC, where I’...</td>\n",
       "      <td>Kline, John (MN-2)</td>\n",
       "      <td>R</td>\n",
       "      <td>H</td>\n",
       "      <td>113</td>\n",
       "      <td>0</td>\n",
       "      <td>Tune in this morning to   where I ll be talkin...</td>\n",
       "      <td>2014-06-22</td>\n",
       "      <td>[tune, in, this, morning, to, where, ll, be, t...</td>\n",
       "      <td>[tune, talking, find, local, showtime]</td>\n",
       "    </tr>\n",
       "    <tr>\n",
       "      <th>175559</th>\n",
       "      <td>Great cause! MT @MALIDavis: My NHS Group with ...</td>\n",
       "      <td>Long, Billy (MO-7)</td>\n",
       "      <td>D</td>\n",
       "      <td>H</td>\n",
       "      <td>113</td>\n",
       "      <td>0</td>\n",
       "      <td>Great cause  MT   My NHS Group with Congressma...</td>\n",
       "      <td>2014-05-12</td>\n",
       "      <td>[great, cause, mt, my, nhs, group, with, congr...</td>\n",
       "      <td>[cause, mt, nhs, group, congressman, lobiondo,...</td>\n",
       "    </tr>\n",
       "    <tr>\n",
       "      <th>11220</th>\n",
       "      <td>Wiser heads at DOJ prevail and throw this dumb...</td>\n",
       "      <td>Cornyn, John (TX)</td>\n",
       "      <td>D</td>\n",
       "      <td>H</td>\n",
       "      <td>112</td>\n",
       "      <td>0</td>\n",
       "      <td>Wiser heads at DOJ prevail and throw this dumb...</td>\n",
       "      <td>NaT</td>\n",
       "      <td>[wiser, heads, at, doj, prevail, and, throw, t...</td>\n",
       "      <td>[wiser, heads, doj, prevail, throw, dumb, dang...</td>\n",
       "    </tr>\n",
       "    <tr>\n",
       "      <th>410193</th>\n",
       "      <td>We’ve got to be able to identify the enemy if ...</td>\n",
       "      <td>Duncan, Jeff (SC-03)</td>\n",
       "      <td>R</td>\n",
       "      <td>H</td>\n",
       "      <td>112</td>\n",
       "      <td>0</td>\n",
       "      <td>We ve got to be able to identify the enemy if ...</td>\n",
       "      <td>2011-12-12</td>\n",
       "      <td>[we, ve, got, to, be, able, to, identify, the,...</td>\n",
       "      <td>[we, got, able, identify, enemy, we, ever, goi...</td>\n",
       "    </tr>\n",
       "    <tr>\n",
       "      <th>814658</th>\n",
       "      <td>Great turnout for my weekly constituent coffee...</td>\n",
       "      <td>Kirk, Mark Steven (IL)</td>\n",
       "      <td>R</td>\n",
       "      <td>S</td>\n",
       "      <td>112</td>\n",
       "      <td>0</td>\n",
       "      <td>Great turnout for my weekly constituent coffee...</td>\n",
       "      <td>2011-03-03</td>\n",
       "      <td>[great, turnout, for, my, weekly, constituent,...</td>\n",
       "      <td>[turnout, weekly, constituent, coffee, colleag...</td>\n",
       "    </tr>\n",
       "  </tbody>\n",
       "</table>\n",
       "<p>1361 rows × 10 columns</p>\n",
       "</div>"
      ],
      "text/plain": [
       "                                                    tweet  \\\n",
       "787218  The House just passed H.R. 3973 - the Faithful...   \n",
       "31170   Alaska is so proud of our Spartans! The 4-25ex...   \n",
       "326975  Max’s plan to award the Devil’s Brigade the Co...   \n",
       "431346  High gas prices are the enemy of the family bu...   \n",
       "203131  Today is the 50th anniversary of the assassina...   \n",
       "...                                                   ...   \n",
       "666414  Tune in this morning to @ThisWeekABC, where I’...   \n",
       "175559  Great cause! MT @MALIDavis: My NHS Group with ...   \n",
       "11220   Wiser heads at DOJ prevail and throw this dumb...   \n",
       "410193  We’ve got to be able to identify the enemy if ...   \n",
       "814658  Great turnout for my weekly constituent coffee...   \n",
       "\n",
       "                        author party chamber  congress  retweet  \\\n",
       "787218        Yoho, Ted (FL-3)     R       H       113        0   \n",
       "31170     Murkowski, Lisa (AK)     D       H       112        0   \n",
       "326975        Baucus, Max (MT)     D       S       113        0   \n",
       "431346     Graves, Tom (GA-09)     R       H       112        0   \n",
       "203131       Petri, Tom (WI-6)     D       H       113        0   \n",
       "...                        ...   ...     ...       ...      ...   \n",
       "666414      Kline, John (MN-2)     R       H       113        0   \n",
       "175559      Long, Billy (MO-7)     D       H       113        0   \n",
       "11220        Cornyn, John (TX)     D       H       112        0   \n",
       "410193    Duncan, Jeff (SC-03)     R       H       112        0   \n",
       "814658  Kirk, Mark Steven (IL)     R       S       112        0   \n",
       "\n",
       "                                               tidy_tweet       date  \\\n",
       "787218  The House just passed H R         the Faithful... 2014-03-13   \n",
       "31170   Alaska is so proud of our Spartans  The     ex... 2012-11-01   \n",
       "326975  Max s plan to award the Devil s Brigade the Co... 2013-05-23   \n",
       "431346  High gas prices are the enemy of the family bu... 2011-05-11   \n",
       "203131  Today is the   th anniversary of the assassina... 2013-11-22   \n",
       "...                                                   ...        ...   \n",
       "666414  Tune in this morning to   where I ll be talkin... 2014-06-22   \n",
       "175559  Great cause  MT   My NHS Group with Congressma... 2014-05-12   \n",
       "11220   Wiser heads at DOJ prevail and throw this dumb...        NaT   \n",
       "410193  We ve got to be able to identify the enemy if ... 2011-12-12   \n",
       "814658  Great turnout for my weekly constituent coffee... 2011-03-03   \n",
       "\n",
       "                                        tidy_tweet_tokens  \\\n",
       "787218  [the, house, just, passed, the, faithful, exec...   \n",
       "31170   [alaska, is, so, proud, of, our, spartans, the...   \n",
       "326975  [max, plan, to, award, the, devil, brigade, th...   \n",
       "431346  [high, gas, prices, are, the, enemy, of, the, ...   \n",
       "203131  [today, is, the, th, anniversary, of, the, ass...   \n",
       "...                                                   ...   \n",
       "666414  [tune, in, this, morning, to, where, ll, be, t...   \n",
       "175559  [great, cause, mt, my, nhs, group, with, congr...   \n",
       "11220   [wiser, heads, at, doj, prevail, and, throw, t...   \n",
       "410193  [we, ve, got, to, be, able, to, identify, the,...   \n",
       "814658  [great, turnout, for, my, weekly, constituent,...   \n",
       "\n",
       "                                           tokens_no_stop  \n",
       "787218  [house, passed, faithful, execution, law, act,...  \n",
       "31170   [alaska, proud, our, spartans, executed, every...  \n",
       "326975  [max, plan, award, devil, brigade, congression...  \n",
       "431346  [high, gas, prices, enemy, family, budget, con...  \n",
       "203131  [anniversary, assassination, pres, kennedy, lo...  \n",
       "...                                                   ...  \n",
       "666414             [tune, talking, find, local, showtime]  \n",
       "175559  [cause, mt, nhs, group, congressman, lobiondo,...  \n",
       "11220   [wiser, heads, doj, prevail, throw, dumb, dang...  \n",
       "410193  [we, got, able, identify, enemy, we, ever, goi...  \n",
       "814658  [turnout, weekly, constituent, coffee, colleag...  \n",
       "\n",
       "[1361 rows x 10 columns]"
      ]
     },
     "execution_count": 11,
     "metadata": {},
     "output_type": "execute_result"
    }
   ],
   "source": [
    "df_bad_words"
   ]
  },
  {
   "cell_type": "code",
   "execution_count": 12,
   "metadata": {},
   "outputs": [],
   "source": [
    "##find frequency of each bad word in tweets  \n",
    "bad_words_array = np.array(bad_words.values)\n",
    "d = {}\n",
    "for word in bad_words_array:\n",
    "    if word not in d:\n",
    "        d[word] = 0 \n",
    "    for tweet in df_bad_words['tidy_tweet_tokens']:\n",
    "        if word in tweet:\n",
    "            d[word] += 1 \n",
    "            \n",
    "\n",
    "bad_word = d.keys()\n",
    "counts = d.values()\n",
    "\n",
    "bad_word_counts = pd.DataFrame(list(zip(bad_word, counts)),\n",
    "               columns =['word', 'count'])\n"
   ]
  },
  {
   "cell_type": "code",
   "execution_count": 13,
   "metadata": {},
   "outputs": [
    {
     "name": "stdout",
     "output_type": "stream",
     "text": [
      "          word  count\n",
      "6        randy     91\n",
      "711    servant     85\n",
      "972     breast     79\n",
      "290      enemy     78\n",
      "469    suicide     71\n",
      "503        die     58\n",
      "303      crack     53\n",
      "345       dick     53\n",
      "342       rape     46\n",
      "144     beaver     42\n",
      "901     stupid     38\n",
      "892      lynch     30\n",
      "19        hell     27\n",
      "236       dumb     21\n",
      "398      dirty     20\n",
      "480     willie     20\n",
      "67          ho     19\n",
      "315       nazi     19\n",
      "612      devil     19\n",
      "135  slaughter     18\n"
     ]
    }
   ],
   "source": [
    "#find top 20 words that appear the most  \n",
    "top_twenty = bad_word_counts.nlargest(20, 'count')\n",
    "print(top_twenty)"
   ]
  },
  {
   "cell_type": "code",
   "execution_count": 14,
   "metadata": {},
   "outputs": [
    {
     "data": {
      "text/plain": [
       "<seaborn.axisgrid.FacetGrid at 0x7fde854c4d30>"
      ]
     },
     "execution_count": 14,
     "metadata": {},
     "output_type": "execute_result"
    },
    {
     "data": {
      "image/png": "[encoded data removed]",
      "text/plain": [
       "<Figure size 360x360 with 1 Axes>"
      ]
     },
     "metadata": {
      "needs_background": "light"
     },
     "output_type": "display_data"
    }
   ],
   "source": [
    "import seaborn as sns\n",
    "sns.catplot(data=top_twenty, x='count', y='word', kind='bar', color='orange')"
   ]
  },
  {
   "cell_type": "code",
   "execution_count": 16,
   "metadata": {},
   "outputs": [],
   "source": [
    "counts_party = df_bad_words.groupby('party')['tweet'].count().reset_index()"
   ]
  },
  {
   "cell_type": "code",
   "execution_count": 17,
   "metadata": {},
   "outputs": [
    {
     "data": {
      "text/plain": [
       "<seaborn.axisgrid.FacetGrid at 0x7fde93e48d00>"
      ]
     },
     "execution_count": 17,
     "metadata": {},
     "output_type": "execute_result"
    },
    {
     "data": {
      "image/png": "[encoded data removed]",
      "text/plain": [
       "<Figure size 360x360 with 1 Axes>"
      ]
     },
     "metadata": {
      "needs_background": "light"
     },
     "output_type": "display_data"
    }
   ],
   "source": [
    "b = sns.catplot(data=counts_party, x='party', y='tweet', kind='bar', color='gray',\n",
    "               palette=sns.color_palette(['blue', 'red']))\n",
    "b.set_axis_labels(\"Party\", \"Bad Words Count\")"
   ]
  },
  {
   "cell_type": "code",
   "execution_count": 40,
   "metadata": {},
   "outputs": [],
   "source": []
  },
  {
   "cell_type": "code",
   "execution_count": null,
   "metadata": {},
   "outputs": [],
   "source": []
  }
 ],
 "metadata": {
  "colab": {
   "collapsed_sections": [],
   "provenance": []
  },
  "kernelspec": {
   "display_name": "Python 3 (ipykernel)",
   "language": "python",
   "name": "python3"
  },
  "language_info": {
   "codemirror_mode": {
    "name": "ipython",
    "version": 3
   },
   "file_extension": ".py",
   "mimetype": "text/x-python",
   "name": "python",
   "nbconvert_exporter": "python",
   "pygments_lexer": "ipython3",
   "version": "3.9.12"
  }
 },
 "nbformat": 4,
 "nbformat_minor": 1
}
