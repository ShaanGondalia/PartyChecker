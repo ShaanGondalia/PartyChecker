{
 "cells": [
  {
   "cell_type": "markdown",
   "metadata": {},
   "source": [
    "# Towards Data Science Pipeline"
   ]
  },
  {
   "cell_type": "code",
   "execution_count": 2,
   "metadata": {},
   "outputs": [],
   "source": [
    "import pandas as pd\n",
    "import numpy as np\n",
    "import re\n",
    "# Plotting\n",
    "import seaborn as sns\n",
    "import matplotlib.pyplot as plt\n",
    "# Gensim\n",
    "import gensim\n",
    "from gensim.utils import simple_preprocess\n",
    "# NLTK\n",
    "import nltk\n",
    "from nltk.corpus import stopwords\n",
    "from collections import Counter\n",
    "from wordcloud import WordCloud\n",
    "import warnings \n",
    "warnings.filterwarnings(\"ignore\", category=DeprecationWarning)\n",
    "%matplotlib inline"
   ]
  },
  {
   "cell_type": "code",
   "execution_count": 3,
   "metadata": {},
   "outputs": [
    {
     "data": {
      "text/plain": [
       "885832"
      ]
     },
     "execution_count": 3,
     "metadata": {},
     "output_type": "execute_result"
    }
   ],
   "source": [
    "df_full = pd.read_csv(\"congress-tweets.csv\", encoding='utf-8')\n",
    "len(df_full)"
   ]
  },
  {
   "cell_type": "code",
   "execution_count": 24,
   "metadata": {},
   "outputs": [],
   "source": [
    "df = df_full.sample(n=200000, random_state=216)"
   ]
  },
  {
   "cell_type": "code",
   "execution_count": 15,
   "metadata": {},
   "outputs": [],
   "source": [
    "df = pd.read_csv(\"sampled_df.csv\", index_col=0)"
   ]
  },
  {
   "cell_type": "code",
   "execution_count": 2,
   "metadata": {},
   "outputs": [],
   "source": [
    "df = pd.read_hdf('sampled_df.h5', index_col=0)"
   ]
  },
  {
   "cell_type": "code",
   "execution_count": 4,
   "metadata": {},
   "outputs": [],
   "source": [
    "df = df_full"
   ]
  },
  {
   "cell_type": "code",
   "execution_count": 8,
   "metadata": {},
   "outputs": [
    {
     "name": "stderr",
     "output_type": "stream",
     "text": [
      "C:\\Users\\prest\\anaconda3\\lib\\site-packages\\pandas\\core\\generic.py:2490: PerformanceWarning: \n",
      "your performance may suffer as PyTables will pickle object types that it cannot\n",
      "map directly to c-types [inferred_type->mixed,key->block2_values] [items->Index(['tweet', 'author', 'party', 'chamber', 'tidy_tweet',\n",
      "       'tidy_tweet_tokens', 'tokens_no_stop'],\n",
      "      dtype='object')]\n",
      "\n",
      "  pytables.to_hdf(\n"
     ]
    }
   ],
   "source": [
    "df.to_hdf('full_df.h5', key='full_df', index=False)"
   ]
  },
  {
   "cell_type": "code",
   "execution_count": 5,
   "metadata": {},
   "outputs": [],
   "source": [
    "# pre processing function of the tweets\n",
    "# just combined it all into one function so it is less messy\n",
    "\n",
    "def pre_process_df(df):\n",
    "    df['tidy_tweet'] = df['tweet'].str.lower()\n",
    "    # REMOVE '@USER'\n",
    "    df['tidy_tweet'] = np.vectorize(remove_users)(df['tweet'],\"@ [\\w]*\", \"@[\\w]*\")\n",
    "    print('Users Removed from Tweets')\n",
    "    # REMOVE HASHTAGS\n",
    "    df['tidy_tweet'] = np.vectorize(remove_hashtags)(df['tidy_tweet'], \"# [\\w]*\", \"#[\\w]*\")\n",
    "    print('Hashtags Removed from Tweets')\n",
    "    # REMOVE LINKS\n",
    "    df['tidy_tweet'] = np.vectorize(remove_links)(df['tidy_tweet'])\n",
    "    print('Links Removed from Tweets')\n",
    "    # EXTRACT TWEET DATE\n",
    "    df['date'] = df['tweet'].str.extract(r\"([A-Z][a-z]+\\s\\d+,\\s\\d+)\\s*$\")\n",
    "    df['date'] = pd.to_datetime(df['date'], errors='coerce')\n",
    "    print('Dates Extracted')\n",
    "    # REMOVE Punctuations, Numbers, and Special Characters\n",
    "    df['tidy_tweet'] = df['tidy_tweet'].str.replace(\"[^a-zA-Z#]\", \" \")\n",
    "    print('Punctuation, Numbers, and Special Characters Removed from Tweets')\n",
    "    # TOKENIZATION\n",
    "    df['tidy_tweet_tokens'] = list(tokenize(df['tidy_tweet']))\n",
    "    print('Tokenized')\n",
    "    # REMOVE STOPWORDS\n",
    "    df['tokens_no_stop'] = remove_stopwords(df['tidy_tweet_tokens'])\n",
    "    print('Stop Words Removed from Tweets')\n",
    "    # DROP EMPTY TWEETS\n",
    "    df = df[df['tokens_no_stop'].apply(lambda x: len(x)) > 0]\n",
    "    print('Empty Tweets Dropped')\n",
    "    print('DataFrame Finished')\n",
    "    return df\n",
    "    \n",
    "def remove_users(tweet, pattern1, pattern2):\n",
    "    r = re.findall(pattern1, tweet)\n",
    "    for i in r:\n",
    "        tweet = re.sub(i, '', tweet)\n",
    "  \n",
    "    r = re.findall(pattern2, tweet)\n",
    "    for i in r:\n",
    "        tweet = re.sub(i, '', tweet)\n",
    "    return tweet\n",
    "\n",
    "def remove_hashtags(tweet, pattern1, pattern2):\n",
    "    r = re.findall(pattern1, tweet)\n",
    "    for i in r:\n",
    "        tweet = re.sub(i, '', tweet)\n",
    "    \n",
    "    r = re.findall(pattern2, tweet)\n",
    "    for i in r:\n",
    "        tweet = re.sub(i, '', tweet)\n",
    "    return tweet\n",
    "\n",
    "def remove_links(tweet):\n",
    "    tweet_no_link = re.sub(r\"http\\S+\", \"\", tweet)\n",
    "    return tweet_no_link\n",
    "\n",
    "def tokenize(tweet):\n",
    "    for word in tweet:\n",
    "        yield(gensim.utils.simple_preprocess(str(word), deacc=True))\n",
    "        \n",
    "def remove_stopwords(tweets):\n",
    "    # Prepare Stop Words\n",
    "    stop_words = stopwords.words('english')\n",
    "    stop_words.extend(['from', 'https', 'twitter', 'religions', 'pic','twitt','today','will','thank', 'thanks',\n",
    "                      'jan','feb','mar','apr','may','jun','jul','aug','sep','oct','nov','dec', 'great', 'new', 'day', 'rt',\n",
    "                      'th', 'morning', 'week', 'com', 'net'])\n",
    "    #words to remove from stopwords\n",
    "    remove_words = ['we','our','ours','ourselves']\n",
    "    stop_words = [e for e in stop_words if e not in remove_words]\n",
    "    return [[word for word in simple_preprocess(str(tweet)) if word not in stop_words] for tweet in tweets]"
   ]
  },
  {
   "cell_type": "code",
   "execution_count": 6,
   "metadata": {},
   "outputs": [
    {
     "name": "stdout",
     "output_type": "stream",
     "text": [
      "Users Removed from Tweets\n",
      "Hashtags Removed from Tweets\n",
      "Links Removed from Tweets\n",
      "Dates Extracted\n",
      "Punctuation, Numbers, and Special Characters Removed from Tweets\n",
      "Tokenized\n",
      "Stop Words Removed from Tweets\n",
      "Empty Tweets Dropped\n",
      "DataFrame Finished\n"
     ]
    }
   ],
   "source": [
    "df = pre_process_df(df)"
   ]
  },
  {
   "cell_type": "code",
   "execution_count": 7,
   "metadata": {
    "scrolled": true
   },
   "outputs": [
    {
     "name": "stdout",
     "output_type": "stream",
     "text": [
      "(879316, 10)\n"
     ]
    },
    {
     "data": {
      "text/html": [
       "<div>\n",
       "<style scoped>\n",
       "    .dataframe tbody tr th:only-of-type {\n",
       "        vertical-align: middle;\n",
       "    }\n",
       "\n",
       "    .dataframe tbody tr th {\n",
       "        vertical-align: top;\n",
       "    }\n",
       "\n",
       "    .dataframe thead th {\n",
       "        text-align: right;\n",
       "    }\n",
       "</style>\n",
       "<table border=\"1\" class=\"dataframe\">\n",
       "  <thead>\n",
       "    <tr style=\"text-align: right;\">\n",
       "      <th></th>\n",
       "      <th>tweet</th>\n",
       "      <th>author</th>\n",
       "      <th>party</th>\n",
       "      <th>chamber</th>\n",
       "      <th>congress</th>\n",
       "      <th>retweet</th>\n",
       "      <th>tidy_tweet</th>\n",
       "      <th>date</th>\n",
       "      <th>tidy_tweet_tokens</th>\n",
       "      <th>tokens_no_stop</th>\n",
       "    </tr>\n",
       "  </thead>\n",
       "  <tbody>\n",
       "    <tr>\n",
       "      <th>0</th>\n",
       "      <td>VIDEO: Today's press conference w/ @SenBobCork...</td>\n",
       "      <td>Alexander, Lamar (TN)</td>\n",
       "      <td>D</td>\n",
       "      <td>H</td>\n",
       "      <td>112</td>\n",
       "      <td>0</td>\n",
       "      <td>VIDEO  Today s press conference w   on the  is...</td>\n",
       "      <td>2012-12-28</td>\n",
       "      <td>[video, today, press, conference, on, the, is,...</td>\n",
       "      <td>[video, press, conference, website]</td>\n",
       "    </tr>\n",
       "    <tr>\n",
       "      <th>1</th>\n",
       "      <td>Will hold press conference in the Capitol's Ra...</td>\n",
       "      <td>Alexander, Lamar (TN)</td>\n",
       "      <td>D</td>\n",
       "      <td>H</td>\n",
       "      <td>112</td>\n",
       "      <td>0</td>\n",
       "      <td>Will hold press conference in the Capitol s Ra...</td>\n",
       "      <td>2012-12-28</td>\n",
       "      <td>[will, hold, press, conference, in, the, capit...</td>\n",
       "      <td>[hold, press, conference, capitol, radio, tv, ...</td>\n",
       "    </tr>\n",
       "    <tr>\n",
       "      <th>2</th>\n",
       "      <td>\"Major threats to our research universities\" O...</td>\n",
       "      <td>Alexander, Lamar (TN)</td>\n",
       "      <td>D</td>\n",
       "      <td>H</td>\n",
       "      <td>112</td>\n",
       "      <td>1</td>\n",
       "      <td>Major threats to our research universities  O...</td>\n",
       "      <td>2012-12-19</td>\n",
       "      <td>[major, threats, to, our, research, universiti...</td>\n",
       "      <td>[major, threats, our, research, universities, ...</td>\n",
       "    </tr>\n",
       "    <tr>\n",
       "      <th>3</th>\n",
       "      <td>.@SenAlexander The Wind #PTC is \"a brazen flee...</td>\n",
       "      <td>Alexander, Lamar (TN)</td>\n",
       "      <td>D</td>\n",
       "      <td>H</td>\n",
       "      <td>112</td>\n",
       "      <td>1</td>\n",
       "      <td>The Wind  is  a brazen fleecing of the taxpa...</td>\n",
       "      <td>2012-12-19</td>\n",
       "      <td>[the, wind, is, brazen, fleecing, of, the, tax...</td>\n",
       "      <td>[wind, brazen, fleecing, taxpayers]</td>\n",
       "    </tr>\n",
       "    <tr>\n",
       "      <th>4</th>\n",
       "      <td>VIDEO: Sen. Alexander on passing of Sen. @Dani...</td>\n",
       "      <td>Alexander, Lamar (TN)</td>\n",
       "      <td>D</td>\n",
       "      <td>H</td>\n",
       "      <td>112</td>\n",
       "      <td>0</td>\n",
       "      <td>VIDEO  Sen  Alexander on passing of Sen      S...</td>\n",
       "      <td>2012-12-18</td>\n",
       "      <td>[video, sen, alexander, on, passing, of, sen, ...</td>\n",
       "      <td>[video, sen, alexander, passing, sen, senator,...</td>\n",
       "    </tr>\n",
       "  </tbody>\n",
       "</table>\n",
       "</div>"
      ],
      "text/plain": [
       "                                               tweet                 author  \\\n",
       "0  VIDEO: Today's press conference w/ @SenBobCork...  Alexander, Lamar (TN)   \n",
       "1  Will hold press conference in the Capitol's Ra...  Alexander, Lamar (TN)   \n",
       "2  \"Major threats to our research universities\" O...  Alexander, Lamar (TN)   \n",
       "3  .@SenAlexander The Wind #PTC is \"a brazen flee...  Alexander, Lamar (TN)   \n",
       "4  VIDEO: Sen. Alexander on passing of Sen. @Dani...  Alexander, Lamar (TN)   \n",
       "\n",
       "  party chamber  congress  retweet  \\\n",
       "0     D       H       112        0   \n",
       "1     D       H       112        0   \n",
       "2     D       H       112        1   \n",
       "3     D       H       112        1   \n",
       "4     D       H       112        0   \n",
       "\n",
       "                                          tidy_tweet       date  \\\n",
       "0  VIDEO  Today s press conference w   on the  is... 2012-12-28   \n",
       "1  Will hold press conference in the Capitol s Ra... 2012-12-28   \n",
       "2   Major threats to our research universities  O... 2012-12-19   \n",
       "3    The Wind  is  a brazen fleecing of the taxpa... 2012-12-19   \n",
       "4  VIDEO  Sen  Alexander on passing of Sen      S... 2012-12-18   \n",
       "\n",
       "                                   tidy_tweet_tokens  \\\n",
       "0  [video, today, press, conference, on, the, is,...   \n",
       "1  [will, hold, press, conference, in, the, capit...   \n",
       "2  [major, threats, to, our, research, universiti...   \n",
       "3  [the, wind, is, brazen, fleecing, of, the, tax...   \n",
       "4  [video, sen, alexander, on, passing, of, sen, ...   \n",
       "\n",
       "                                      tokens_no_stop  \n",
       "0                [video, press, conference, website]  \n",
       "1  [hold, press, conference, capitol, radio, tv, ...  \n",
       "2  [major, threats, our, research, universities, ...  \n",
       "3                [wind, brazen, fleecing, taxpayers]  \n",
       "4  [video, sen, alexander, passing, sen, senator,...  "
      ]
     },
     "execution_count": 7,
     "metadata": {},
     "output_type": "execute_result"
    }
   ],
   "source": [
    "print(df.shape)\n",
    "df.head()"
   ]
  },
  {
   "cell_type": "code",
   "execution_count": 15,
   "metadata": {},
   "outputs": [],
   "source": [
    "dems = df[df['party'] == 'D']\n",
    "reps = df[df['party'] == 'R']"
   ]
  },
  {
   "cell_type": "code",
   "execution_count": 16,
   "metadata": {},
   "outputs": [],
   "source": [
    "tokens = np.concatenate(df['tokens_no_stop'].values)\n",
    "dem_tokens = np.concatenate(dems['tokens_no_stop'].values)\n",
    "rep_tokens = np.concatenate(reps['tokens_no_stop'].values)"
   ]
  },
  {
   "cell_type": "code",
   "execution_count": 9,
   "metadata": {},
   "outputs": [],
   "source": [
    "words_for_cloud = \" \".join(tokens)+\" \"\n",
    "words_for_cloud_dem = \" \".join(dem_tokens)+\" \"\n",
    "words_for_cloud_rep = \" \".join(rep_tokens)+\" \""
   ]
  },
  {
   "cell_type": "code",
   "execution_count": 10,
   "metadata": {},
   "outputs": [],
   "source": [
    "import matplotlib.colors as clr\n",
    "purples = clr.LinearSegmentedColormap.from_list('purples', ['#A020F0', '#C16EF5'], N=10)\n",
    "blues = clr.LinearSegmentedColormap.from_list('purples', ['#2234f5', '#626ef5'], N=10)\n",
    "reds = clr.LinearSegmentedColormap.from_list('purples', ['#f52525', '#f57676'], N=10)"
   ]
  },
  {
   "cell_type": "code",
   "execution_count": 13,
   "metadata": {},
   "outputs": [
    {
     "data": {
      "image/png": "[encoded data removed]",
      "text/plain": [
       "<Figure size 288x288 with 1 Axes>"
      ]
     },
     "metadata": {
      "needs_background": "light"
     },
     "output_type": "display_data"
    },
    {
     "data": {
      "text/plain": [
       "<wordcloud.wordcloud.WordCloud at 0x1c9754d1e50>"
      ]
     },
     "execution_count": 13,
     "metadata": {},
     "output_type": "execute_result"
    }
   ],
   "source": [
    "wordcloud = WordCloud(width = 800, height = 800,\n",
    "                background_color ='white', colormap=purples,\n",
    "                min_font_size = 10).generate(words_for_cloud)\n",
    " \n",
    "# plot the WordCloud image                      \n",
    "plt.figure(figsize = (4,4), facecolor = None)\n",
    "plt.imshow(wordcloud)\n",
    "plt.axis(\"off\")\n",
    "plt.tight_layout(pad = 0)\n",
    "plt.title('ALL PARTIES', fontsize=20)\n",
    " \n",
    "plt.show()\n",
    "wordcloud.to_file('all_parties_wordcloud_full.png')"
   ]
  },
  {
   "cell_type": "code",
   "execution_count": 14,
   "metadata": {},
   "outputs": [
    {
     "data": {
      "image/png": "[encoded data removed]",
      "text/plain": [
       "<Figure size 288x288 with 1 Axes>"
      ]
     },
     "metadata": {
      "needs_background": "light"
     },
     "output_type": "display_data"
    },
    {
     "data": {
      "text/plain": [
       "<wordcloud.wordcloud.WordCloud at 0x1c7df80c040>"
      ]
     },
     "execution_count": 14,
     "metadata": {},
     "output_type": "execute_result"
    }
   ],
   "source": [
    "wordcloud = WordCloud(width = 800, height = 800,\n",
    "                background_color ='white', colormap=blues,\n",
    "                min_font_size = 10).generate(words_for_cloud_dem)\n",
    " \n",
    "# plot the WordCloud image                      \n",
    "plt.figure(figsize = (4,4), facecolor = None)\n",
    "plt.imshow(wordcloud)\n",
    "plt.axis(\"off\")\n",
    "plt.tight_layout(pad = 0)\n",
    "plt.title('DEMOCRATS', fontsize=20)\n",
    " \n",
    "plt.show()\n",
    "wordcloud.to_file('democrats_wordcloud_full.png')"
   ]
  },
  {
   "cell_type": "code",
   "execution_count": 15,
   "metadata": {
    "scrolled": false
   },
   "outputs": [
    {
     "data": {
      "image/png": "[encoded data removed]",
      "text/plain": [
       "<Figure size 288x288 with 1 Axes>"
      ]
     },
     "metadata": {
      "needs_background": "light"
     },
     "output_type": "display_data"
    },
    {
     "data": {
      "text/plain": [
       "<wordcloud.wordcloud.WordCloud at 0x1c7df7d9fa0>"
      ]
     },
     "execution_count": 15,
     "metadata": {},
     "output_type": "execute_result"
    }
   ],
   "source": [
    "wordcloud = WordCloud(width = 800, height = 800,\n",
    "                background_color ='white', colormap=reds,\n",
    "                min_font_size = 10).generate(words_for_cloud_rep)\n",
    " \n",
    "# plot the WordCloud image                      \n",
    "plt.figure(figsize = (4,4), facecolor = None)\n",
    "plt.imshow(wordcloud)\n",
    "plt.axis(\"off\")\n",
    "plt.tight_layout(pad = 0)\n",
    "plt.title('REPUBLICANS', fontsize=20)\n",
    " \n",
    "plt.show()\n",
    "wordcloud.to_file('republicans_wordcloud_full.png')"
   ]
  },
  {
   "cell_type": "code",
   "execution_count": 16,
   "metadata": {},
   "outputs": [
    {
     "name": "stdout",
     "output_type": "stream",
     "text": [
      "total 7521269 dem tokens 3202017 rep tokens 4319252\n",
      "dem 0.4257282913295615 rep 0.5742717086704384\n"
     ]
    }
   ],
   "source": [
    "print('total', len(tokens), 'dem tokens', len(dem_tokens), 'rep tokens', len(rep_tokens))\n",
    "print('dem', (len(dem_tokens)/len(tokens)), 'rep', (len(rep_tokens)/len(tokens)))"
   ]
  },
  {
   "cell_type": "code",
   "execution_count": 14,
   "metadata": {},
   "outputs": [
    {
     "data": {
      "text/plain": [
       "party\n",
       "D    373332\n",
       "R    505984\n",
       "Name: chamber, dtype: int64"
      ]
     },
     "execution_count": 14,
     "metadata": {},
     "output_type": "execute_result"
    }
   ],
   "source": [
    "df.groupby('party')['chamber'].count()"
   ]
  },
  {
   "cell_type": "code",
   "execution_count": 21,
   "metadata": {},
   "outputs": [
    {
     "data": {
      "image/png": "[encoded data removed]",
      "text/plain": [
       "<Figure size 216x288 with 1 Axes>"
      ]
     },
     "metadata": {
      "needs_background": "light"
     },
     "output_type": "display_data"
    }
   ],
   "source": [
    "plt.figure(figsize=(3,4))\n",
    "sns.barplot(x=['Democrats', 'Republicans'], y=df.groupby('party')['chamber'].count().values/1000, palette=[blues(0), reds(0)])\n",
    "plt.ylabel('Total Tweets (thousands)')\n",
    "plt.xlabel('Party')\n",
    "plt.title('Total Tweets', fontsize=20)\n",
    "plt.savefig('total_tweets')"
   ]
  },
  {
   "cell_type": "code",
   "execution_count": 17,
   "metadata": {},
   "outputs": [
    {
     "data": {
      "image/png": "[encoded data removed]",
      "text/plain": [
       "<Figure size 216x288 with 1 Axes>"
      ]
     },
     "metadata": {
      "needs_background": "light"
     },
     "output_type": "display_data"
    }
   ],
   "source": [
    "plt.figure(figsize=(3,4)) \n",
    "sns.barplot(x=['Democrats', 'Republicans'], y=[len(dem_tokens)/10**6, len(rep_tokens)/10**6], palette=[blues(0), reds(0)])\n",
    "plt.ylabel('Total words (in millions)')\n",
    "plt.xlabel('Party')\n",
    "plt.title('Total Words', fontsize=20)\n",
    "plt.savefig('total_words_full')"
   ]
  },
  {
   "cell_type": "code",
   "execution_count": 18,
   "metadata": {},
   "outputs": [
    {
     "data": {
      "text/plain": [
       "[8.576861881649577, 8.536341070073362]"
      ]
     },
     "execution_count": 18,
     "metadata": {},
     "output_type": "execute_result"
    }
   ],
   "source": [
    "[len(dem_tokens), len(rep_tokens)]\n",
    "[len(dem_tokens)/len(dems), len(rep_tokens)/len(reps)]"
   ]
  },
  {
   "cell_type": "code",
   "execution_count": 18,
   "metadata": {},
   "outputs": [
    {
     "data": {
      "image/png": "[encoded data removed]",
      "text/plain": [
       "<Figure size 216x288 with 1 Axes>"
      ]
     },
     "metadata": {
      "needs_background": "light"
     },
     "output_type": "display_data"
    }
   ],
   "source": [
    "plt.figure(figsize=(3,4))\n",
    "sns.barplot(x=['Democrats', 'Republicans'], y=[len(dem_tokens)/len(dems), len(rep_tokens)/len(reps)], palette=[blues(0), reds(0)])\n",
    "plt.ylabel('Average Words per Tweet')\n",
    "plt.xlabel('Part')\n",
    "plt.title('Average Words per Tweet', fontsize=15)\n",
    "plt.savefig('average_words_per_tweet_full')"
   ]
  },
  {
   "cell_type": "code",
   "execution_count": 41,
   "metadata": {},
   "outputs": [
    {
     "data": {
      "image/png": "[encoded data removed]",
      "text/plain": [
       "<Figure size 360x432 with 1 Axes>"
      ]
     },
     "metadata": {
      "needs_background": "light"
     },
     "output_type": "display_data"
    }
   ],
   "source": [
    "value_counts = pd.Series(list(tokens)).value_counts()[:30]\n",
    "plt.figure(figsize = (5, len(value_counts)//5), facecolor = None)\n",
    "plt.title('Normalized Word Frequency', fontsize=15)\n",
    "sns.barplot(x=value_counts.values/len(tokens), y=value_counts.index, width=.75, color=purples(0))\n",
    "plt.savefig('word_freq_all_full')"
   ]
  },
  {
   "cell_type": "code",
   "execution_count": 42,
   "metadata": {},
   "outputs": [
    {
     "data": {
      "image/png": "[encoded data removed]",
      "text/plain": [
       "<Figure size 360x432 with 1 Axes>"
      ]
     },
     "metadata": {
      "needs_background": "light"
     },
     "output_type": "display_data"
    }
   ],
   "source": [
    "value_counts = pd.Series(list(dem_tokens)).value_counts()[:30]\n",
    "plt.figure(figsize = (5, len(value_counts)//5), facecolor = None)\n",
    "plt.title('Dems Normalized Word Frequency', fontsize=15)\n",
    "sns.barplot(x=value_counts.values/len(dem_tokens), y=value_counts.index, color=blues(0))\n",
    "plt.savefig('word_freq_dem_full')"
   ]
  },
  {
   "cell_type": "code",
   "execution_count": 43,
   "metadata": {},
   "outputs": [
    {
     "data": {
      "image/png": "[encoded data removed]",
      "text/plain": [
       "<Figure size 360x432 with 1 Axes>"
      ]
     },
     "metadata": {
      "needs_background": "light"
     },
     "output_type": "display_data"
    }
   ],
   "source": [
    "value_counts = pd.Series(list(rep_tokens)).value_counts()[:30]\n",
    "plt.figure(figsize = (5, len(value_counts)//5), facecolor = None)\n",
    "plt.title('Reps Normalized Word Frequency', fontsize=15)\n",
    "sns.barplot(x=value_counts.values/len(rep_tokens), y=value_counts.index, color=reds(0))\n",
    "plt.savefig('word_freq_rep_full')"
   ]
  },
  {
   "cell_type": "code",
   "execution_count": 22,
   "metadata": {},
   "outputs": [],
   "source": [
    "religious_words = pd.read_csv('religious_words.csv', squeeze=True)"
   ]
  },
  {
   "cell_type": "code",
   "execution_count": 23,
   "metadata": {},
   "outputs": [
    {
     "name": "stderr",
     "output_type": "stream",
     "text": [
      "<ipython-input-23-26bab83ea790>:8: SettingWithCopyWarning: \n",
      "A value is trying to be set on a copy of a slice from a DataFrame.\n",
      "Try using .loc[row_indexer,col_indexer] = value instead\n",
      "\n",
      "See the caveats in the documentation: https://pandas.pydata.org/pandas-docs/stable/user_guide/indexing.html#returning-a-view-versus-a-copy\n",
      "  df_religious['rel_words'] = df_religious['tokens_no_stop'].apply(lambda x: list(set(religious_words) & set(x)))\n"
     ]
    }
   ],
   "source": [
    "# create set of religious words and the list of tokens\n",
    "# compare between sets, find overlapping words\n",
    "# if there are no overlapping terms (i.e. the tokens contain no religious terms) then the boolean will evaluate to False\n",
    "# if there ARE religious terms, the boolena will evalute to True\n",
    "\n",
    "cont_rel_words_mask = df['tokens_no_stop'].apply(lambda x: len(set(religious_words) & set(x)) != 0)\n",
    "df_religious = df[cont_rel_words_mask]\n",
    "df_religious['rel_words'] = df_religious['tokens_no_stop'].apply(lambda x: list(set(religious_words) & set(x)))"
   ]
  },
  {
   "cell_type": "code",
   "execution_count": 24,
   "metadata": {},
   "outputs": [
    {
     "data": {
      "text/html": [
       "<div>\n",
       "<style scoped>\n",
       "    .dataframe tbody tr th:only-of-type {\n",
       "        vertical-align: middle;\n",
       "    }\n",
       "\n",
       "    .dataframe tbody tr th {\n",
       "        vertical-align: top;\n",
       "    }\n",
       "\n",
       "    .dataframe thead th {\n",
       "        text-align: right;\n",
       "    }\n",
       "</style>\n",
       "<table border=\"1\" class=\"dataframe\">\n",
       "  <thead>\n",
       "    <tr style=\"text-align: right;\">\n",
       "      <th></th>\n",
       "      <th>tweet</th>\n",
       "      <th>author</th>\n",
       "      <th>party</th>\n",
       "      <th>chamber</th>\n",
       "      <th>congress</th>\n",
       "      <th>retweet</th>\n",
       "      <th>tidy_tweet</th>\n",
       "      <th>date</th>\n",
       "      <th>tidy_tweet_tokens</th>\n",
       "      <th>tokens_no_stop</th>\n",
       "      <th>rel_words</th>\n",
       "    </tr>\n",
       "  </thead>\n",
       "  <tbody>\n",
       "    <tr>\n",
       "      <th>69</th>\n",
       "      <td>Holy grail of education is figuring out how to...</td>\n",
       "      <td>Alexander, Lamar (TN)</td>\n",
       "      <td>D</td>\n",
       "      <td>H</td>\n",
       "      <td>112</td>\n",
       "      <td>0</td>\n",
       "      <td>Holy grail of education is figuring out how to...</td>\n",
       "      <td>2012-07-26</td>\n",
       "      <td>[holy, grail, of, education, is, figuring, out...</td>\n",
       "      <td>[holy, grail, education, figuring, pay, teache...</td>\n",
       "      <td>[holy]</td>\n",
       "    </tr>\n",
       "    <tr>\n",
       "      <th>300</th>\n",
       "      <td>“Honey &amp; I offer our prayers for families acro...</td>\n",
       "      <td>Alexander, Lamar (TN)</td>\n",
       "      <td>D</td>\n",
       "      <td>H</td>\n",
       "      <td>112</td>\n",
       "      <td>0</td>\n",
       "      <td>Honey   I offer our prayers for families acro...</td>\n",
       "      <td>2011-04-28</td>\n",
       "      <td>[honey, offer, our, prayers, for, families, ac...</td>\n",
       "      <td>[honey, offer, our, prayers, families, across,...</td>\n",
       "      <td>[prayers]</td>\n",
       "    </tr>\n",
       "    <tr>\n",
       "      <th>379</th>\n",
       "      <td>Prayers for James Foley's safe release RT @WMU...</td>\n",
       "      <td>Ayotte, Kelly (NH)</td>\n",
       "      <td>D</td>\n",
       "      <td>H</td>\n",
       "      <td>112</td>\n",
       "      <td>0</td>\n",
       "      <td>Prayers for James Foley s safe release RT  Jou...</td>\n",
       "      <td>2013-01-02</td>\n",
       "      <td>[prayers, for, james, foley, safe, release, rt...</td>\n",
       "      <td>[prayers, james, foley, safe, release, journal...</td>\n",
       "      <td>[prayers]</td>\n",
       "    </tr>\n",
       "    <tr>\n",
       "      <th>398</th>\n",
       "      <td>Sorry to hear of the passing of Gen. Norman Sc...</td>\n",
       "      <td>Ayotte, Kelly (NH)</td>\n",
       "      <td>D</td>\n",
       "      <td>H</td>\n",
       "      <td>112</td>\n",
       "      <td>0</td>\n",
       "      <td>Sorry to hear of the passing of Gen  Norman Sc...</td>\n",
       "      <td>2012-12-28</td>\n",
       "      <td>[sorry, to, hear, of, the, passing, of, gen, n...</td>\n",
       "      <td>[sorry, hear, passing, gen, norman, schwarzkop...</td>\n",
       "      <td>[prayers]</td>\n",
       "    </tr>\n",
       "    <tr>\n",
       "      <th>402</th>\n",
       "      <td>Merry Christmas!! Two excited chidren at our h...</td>\n",
       "      <td>Ayotte, Kelly (NH)</td>\n",
       "      <td>D</td>\n",
       "      <td>H</td>\n",
       "      <td>112</td>\n",
       "      <td>0</td>\n",
       "      <td>Merry Christmas   Two excited chidren at our h...</td>\n",
       "      <td>2012-12-25</td>\n",
       "      <td>[merry, christmas, two, excited, chidren, at, ...</td>\n",
       "      <td>[merry, christmas, two, excited, chidren, our,...</td>\n",
       "      <td>[blessed]</td>\n",
       "    </tr>\n",
       "    <tr>\n",
       "      <th>...</th>\n",
       "      <td>...</td>\n",
       "      <td>...</td>\n",
       "      <td>...</td>\n",
       "      <td>...</td>\n",
       "      <td>...</td>\n",
       "      <td>...</td>\n",
       "      <td>...</td>\n",
       "      <td>...</td>\n",
       "      <td>...</td>\n",
       "      <td>...</td>\n",
       "      <td>...</td>\n",
       "    </tr>\n",
       "    <tr>\n",
       "      <th>885723</th>\n",
       "      <td>God bless our nation's heroes and their famili...</td>\n",
       "      <td>Wicker, Roger (MI)</td>\n",
       "      <td>R</td>\n",
       "      <td>S</td>\n",
       "      <td>113</td>\n",
       "      <td>0</td>\n",
       "      <td>God bless our nation s heroes and their famili...</td>\n",
       "      <td>2013-05-27</td>\n",
       "      <td>[god, bless, our, nation, heroes, and, their, ...</td>\n",
       "      <td>[god, bless, our, nation, heroes, families]</td>\n",
       "      <td>[god]</td>\n",
       "    </tr>\n",
       "    <tr>\n",
       "      <th>885769</th>\n",
       "      <td>I am saddened to learn the tragic news in Bost...</td>\n",
       "      <td>Wicker, Roger (MI)</td>\n",
       "      <td>R</td>\n",
       "      <td>S</td>\n",
       "      <td>113</td>\n",
       "      <td>0</td>\n",
       "      <td>I am saddened to learn the tragic news in Bost...</td>\n",
       "      <td>2013-04-15</td>\n",
       "      <td>[am, saddened, to, learn, the, tragic, news, i...</td>\n",
       "      <td>[saddened, learn, tragic, news, boston, though...</td>\n",
       "      <td>[prayers]</td>\n",
       "    </tr>\n",
       "    <tr>\n",
       "      <th>885771</th>\n",
       "      <td>Gayle &amp; I are keeping all Mississippians in th...</td>\n",
       "      <td>Wicker, Roger (MI)</td>\n",
       "      <td>R</td>\n",
       "      <td>S</td>\n",
       "      <td>113</td>\n",
       "      <td>0</td>\n",
       "      <td>Gayle   I are keeping all Mississippians in th...</td>\n",
       "      <td>2013-04-11</td>\n",
       "      <td>[gayle, are, keeping, all, mississippians, in,...</td>\n",
       "      <td>[gayle, keeping, mississippians, counties, aff...</td>\n",
       "      <td>[prayers]</td>\n",
       "    </tr>\n",
       "    <tr>\n",
       "      <th>885796</th>\n",
       "      <td>Gayle and I send our thoughts and prayers to t...</td>\n",
       "      <td>Wicker, Roger (MI)</td>\n",
       "      <td>R</td>\n",
       "      <td>S</td>\n",
       "      <td>113</td>\n",
       "      <td>0</td>\n",
       "      <td>Gayle and I send our thoughts and prayers to t...</td>\n",
       "      <td>2013-02-11</td>\n",
       "      <td>[gayle, and, send, our, thoughts, and, prayers...</td>\n",
       "      <td>[gayle, send, our, thoughts, prayers, south, m...</td>\n",
       "      <td>[prayers]</td>\n",
       "    </tr>\n",
       "    <tr>\n",
       "      <th>885802</th>\n",
       "      <td>The hundreds of thousands who have come to D.C...</td>\n",
       "      <td>Wicker, Roger (MI)</td>\n",
       "      <td>R</td>\n",
       "      <td>S</td>\n",
       "      <td>113</td>\n",
       "      <td>0</td>\n",
       "      <td>The hundreds of thousands who have come to D C...</td>\n",
       "      <td>2013-01-25</td>\n",
       "      <td>[the, hundreds, of, thousands, who, have, come...</td>\n",
       "      <td>[hundreds, thousands, come, testament, importa...</td>\n",
       "      <td>[testament]</td>\n",
       "    </tr>\n",
       "  </tbody>\n",
       "</table>\n",
       "<p>15537 rows × 11 columns</p>\n",
       "</div>"
      ],
      "text/plain": [
       "                                                    tweet  \\\n",
       "69      Holy grail of education is figuring out how to...   \n",
       "300     “Honey & I offer our prayers for families acro...   \n",
       "379     Prayers for James Foley's safe release RT @WMU...   \n",
       "398     Sorry to hear of the passing of Gen. Norman Sc...   \n",
       "402     Merry Christmas!! Two excited chidren at our h...   \n",
       "...                                                   ...   \n",
       "885723  God bless our nation's heroes and their famili...   \n",
       "885769  I am saddened to learn the tragic news in Bost...   \n",
       "885771  Gayle & I are keeping all Mississippians in th...   \n",
       "885796  Gayle and I send our thoughts and prayers to t...   \n",
       "885802  The hundreds of thousands who have come to D.C...   \n",
       "\n",
       "                       author party chamber  congress  retweet  \\\n",
       "69      Alexander, Lamar (TN)     D       H       112        0   \n",
       "300     Alexander, Lamar (TN)     D       H       112        0   \n",
       "379        Ayotte, Kelly (NH)     D       H       112        0   \n",
       "398        Ayotte, Kelly (NH)     D       H       112        0   \n",
       "402        Ayotte, Kelly (NH)     D       H       112        0   \n",
       "...                       ...   ...     ...       ...      ...   \n",
       "885723     Wicker, Roger (MI)     R       S       113        0   \n",
       "885769     Wicker, Roger (MI)     R       S       113        0   \n",
       "885771     Wicker, Roger (MI)     R       S       113        0   \n",
       "885796     Wicker, Roger (MI)     R       S       113        0   \n",
       "885802     Wicker, Roger (MI)     R       S       113        0   \n",
       "\n",
       "                                               tidy_tweet       date  \\\n",
       "69      Holy grail of education is figuring out how to... 2012-07-26   \n",
       "300      Honey   I offer our prayers for families acro... 2011-04-28   \n",
       "379     Prayers for James Foley s safe release RT  Jou... 2013-01-02   \n",
       "398     Sorry to hear of the passing of Gen  Norman Sc... 2012-12-28   \n",
       "402     Merry Christmas   Two excited chidren at our h... 2012-12-25   \n",
       "...                                                   ...        ...   \n",
       "885723  God bless our nation s heroes and their famili... 2013-05-27   \n",
       "885769  I am saddened to learn the tragic news in Bost... 2013-04-15   \n",
       "885771  Gayle   I are keeping all Mississippians in th... 2013-04-11   \n",
       "885796  Gayle and I send our thoughts and prayers to t... 2013-02-11   \n",
       "885802  The hundreds of thousands who have come to D C... 2013-01-25   \n",
       "\n",
       "                                        tidy_tweet_tokens  \\\n",
       "69      [holy, grail, of, education, is, figuring, out...   \n",
       "300     [honey, offer, our, prayers, for, families, ac...   \n",
       "379     [prayers, for, james, foley, safe, release, rt...   \n",
       "398     [sorry, to, hear, of, the, passing, of, gen, n...   \n",
       "402     [merry, christmas, two, excited, chidren, at, ...   \n",
       "...                                                   ...   \n",
       "885723  [god, bless, our, nation, heroes, and, their, ...   \n",
       "885769  [am, saddened, to, learn, the, tragic, news, i...   \n",
       "885771  [gayle, are, keeping, all, mississippians, in,...   \n",
       "885796  [gayle, and, send, our, thoughts, and, prayers...   \n",
       "885802  [the, hundreds, of, thousands, who, have, come...   \n",
       "\n",
       "                                           tokens_no_stop    rel_words  \n",
       "69      [holy, grail, education, figuring, pay, teache...       [holy]  \n",
       "300     [honey, offer, our, prayers, families, across,...    [prayers]  \n",
       "379     [prayers, james, foley, safe, release, journal...    [prayers]  \n",
       "398     [sorry, hear, passing, gen, norman, schwarzkop...    [prayers]  \n",
       "402     [merry, christmas, two, excited, chidren, our,...    [blessed]  \n",
       "...                                                   ...          ...  \n",
       "885723        [god, bless, our, nation, heroes, families]        [god]  \n",
       "885769  [saddened, learn, tragic, news, boston, though...    [prayers]  \n",
       "885771  [gayle, keeping, mississippians, counties, aff...    [prayers]  \n",
       "885796  [gayle, send, our, thoughts, prayers, south, m...    [prayers]  \n",
       "885802  [hundreds, thousands, come, testament, importa...  [testament]  \n",
       "\n",
       "[15537 rows x 11 columns]"
      ]
     },
     "execution_count": 24,
     "metadata": {},
     "output_type": "execute_result"
    }
   ],
   "source": [
    "df_religious"
   ]
  },
  {
   "cell_type": "code",
   "execution_count": 35,
   "metadata": {
    "scrolled": true
   },
   "outputs": [
    {
     "data": {
      "image/png": "[encoded data removed]",
      "text/plain": [
       "<Figure size 360x504 with 1 Axes>"
      ]
     },
     "metadata": {
      "needs_background": "light"
     },
     "output_type": "display_data"
    }
   ],
   "source": [
    "plt.figure(figsize=(5,7))\n",
    "rel_pcnt = df_religious.groupby('party')['tweet'].count() / df.groupby('party')['tweet'].count()\n",
    "sns.barplot(x=['Democrats', 'Republicans'], y=rel_pcnt.values*100, palette=[blues(0), reds(0)])\n",
    "plt.title('Percentage of Tweets \\nContaining Religious Language', fontsize=15)\n",
    "plt.ylabel('Percentage of Tweets')\n",
    "plt.xlabel('Party')\n",
    "plt.savefig('percentage_religious_tweets_full')"
   ]
  },
  {
   "cell_type": "code",
   "execution_count": 44,
   "metadata": {},
   "outputs": [],
   "source": [
    "dem_rel = df_religious[df_religious['party'] == 'D']\n",
    "rep_rel = df_religious[df_religious['party'] == 'R']"
   ]
  },
  {
   "cell_type": "code",
   "execution_count": 45,
   "metadata": {},
   "outputs": [],
   "source": [
    "rel_tokens = np.concatenate(df_religious['tokens_no_stop'].values)\n",
    "rel_dem_tokens = np.concatenate(dem_rel['tokens_no_stop'].values)\n",
    "rel_rep_tokens = np.concatenate(rep_rel['tokens_no_stop'].values)"
   ]
  },
  {
   "cell_type": "code",
   "execution_count": 46,
   "metadata": {},
   "outputs": [
    {
     "data": {
      "image/png": "[encoded data removed]",
      "text/plain": [
       "<Figure size 360x432 with 1 Axes>"
      ]
     },
     "metadata": {
      "needs_background": "light"
     },
     "output_type": "display_data"
    }
   ],
   "source": [
    "value_counts = pd.Series(list(rel_tokens)).value_counts()[:30]\n",
    "plt.figure(figsize = (5, len(value_counts)//5), facecolor = None)\n",
    "plt.title('Normalized Religious Associated Words')\n",
    "sns.barplot(x=value_counts.values/len(rel_tokens), y=value_counts.index, width=.75, color=purples(0))\n",
    "plt.savefig('religious_assoc_words_normalized')"
   ]
  },
  {
   "cell_type": "code",
   "execution_count": 48,
   "metadata": {},
   "outputs": [
    {
     "data": {
      "image/png": "[encoded data removed]",
      "text/plain": [
       "<Figure size 360x432 with 1 Axes>"
      ]
     },
     "metadata": {
      "needs_background": "light"
     },
     "output_type": "display_data"
    }
   ],
   "source": [
    "value_counts = pd.Series(list(rel_dem_tokens)).value_counts()[:30]\n",
    "plt.figure(figsize = (5, len(value_counts)//5), facecolor = None)\n",
    "plt.title('Dems Normalized Religious Associated Words')\n",
    "sns.barplot(x=value_counts.values/len(rel_dem_tokens), y=value_counts.index, width=.75, color=blues(0))\n",
    "plt.savefig('dems_religious_assoc_words_normalized')"
   ]
  },
  {
   "cell_type": "code",
   "execution_count": 51,
   "metadata": {
    "scrolled": true
   },
   "outputs": [
    {
     "data": {
      "image/png": "[encoded data removed]",
      "text/plain": [
       "<Figure size 360x432 with 1 Axes>"
      ]
     },
     "metadata": {
      "needs_background": "light"
     },
     "output_type": "display_data"
    }
   ],
   "source": [
    "value_counts = pd.Series(list(rel_rep_tokens)).value_counts()[:30]\n",
    "plt.figure(figsize = (5, len(value_counts)//5), facecolor = None)\n",
    "plt.title('Reps Normalized Religious Associated Words')\n",
    "sns.barplot(x=value_counts.values/len(rel_rep_tokens), y=value_counts.index, width=.75, color=reds(0))\n",
    "plt.savefig('reps_religious_assoc_words_percentages')"
   ]
  },
  {
   "cell_type": "code",
   "execution_count": 53,
   "metadata": {},
   "outputs": [],
   "source": [
    "rel_tokens = np.concatenate(df_religious['rel_words'].values)\n",
    "rel_dem_tokens = np.concatenate(dem_rel['rel_words'].values)\n",
    "rel_rep_tokens = np.concatenate(rep_rel['rel_words'].values)"
   ]
  },
  {
   "cell_type": "code",
   "execution_count": 58,
   "metadata": {},
   "outputs": [
    {
     "data": {
      "image/png": "[encoded data removed]",
      "text/plain": [
       "<Figure size 360x432 with 1 Axes>"
      ]
     },
     "metadata": {
      "needs_background": "light"
     },
     "output_type": "display_data"
    }
   ],
   "source": [
    "value_counts = pd.Series(list(rel_tokens)).value_counts()[:30]\n",
    "plt.figure(figsize = (5, len(value_counts)//5), facecolor = None)\n",
    "plt.title('Normalized Religious Words Only')\n",
    "sns.barplot(x=value_counts.values/len(rel_tokens), y=value_counts.index, width=.75, color='purple')\n",
    "plt.savefig('only_religious_words_normalized')"
   ]
  },
  {
   "cell_type": "code",
   "execution_count": 59,
   "metadata": {},
   "outputs": [
    {
     "data": {
      "image/png": "[encoded data removed]",
      "text/plain": [
       "<Figure size 360x432 with 1 Axes>"
      ]
     },
     "metadata": {
      "needs_background": "light"
     },
     "output_type": "display_data"
    }
   ],
   "source": [
    "value_counts = pd.Series(list(rel_dem_tokens)).value_counts()[:30]\n",
    "plt.figure(figsize = (5, len(value_counts)//5), facecolor = None)\n",
    "plt.title('Dems Normalized Religious Words Only')\n",
    "sns.barplot(x=value_counts.values/len(rel_dem_tokens), y=value_counts.index, width=.75, color='blue')\n",
    "plt.savefig('dems_only_religious_words_normalized')"
   ]
  },
  {
   "cell_type": "code",
   "execution_count": 60,
   "metadata": {
    "scrolled": true
   },
   "outputs": [
    {
     "data": {
      "image/png": "[encoded data removed]",
      "text/plain": [
       "<Figure size 360x432 with 1 Axes>"
      ]
     },
     "metadata": {
      "needs_background": "light"
     },
     "output_type": "display_data"
    }
   ],
   "source": [
    "value_counts = pd.Series(list(rel_rep_tokens)).value_counts()[:30]\n",
    "plt.figure(figsize = (5, len(value_counts)//5), facecolor = None)\n",
    "plt.title('Reps Normalized Religious Words Only')\n",
    "sns.barplot(x=value_counts.values/len(rel_rep_tokens), y=value_counts.index, width=.75, color='red')\n",
    "plt.savefig('reps_only_religious_words_normalized')"
   ]
  },
  {
   "cell_type": "markdown",
   "metadata": {},
   "source": [
    "# Try Classification Again"
   ]
  },
  {
   "cell_type": "code",
   "execution_count": 107,
   "metadata": {},
   "outputs": [],
   "source": [
    "df['pre_processed_data'] = df['tokens_no_stop'].str.join(' ')"
   ]
  },
  {
   "cell_type": "code",
   "execution_count": 110,
   "metadata": {},
   "outputs": [],
   "source": [
    "from sklearn.feature_extraction.text import CountVectorizer\n",
    "from sklearn.naive_bayes import MultinomialNB\n",
    "from sklearn.pipeline import make_pipeline\n",
    "from sklearn.dummy import DummyClassifier\n",
    "from sklearn.model_selection import train_test_split\n",
    "\n",
    "data = df['pre_processed_data'].values\n",
    "label = df['party'].values\n",
    "\n",
    "train_data, test_data, train_label, test_label = train_test_split(\n",
    "    data, label, test_size=0.3, random_state=2)"
   ]
  },
  {
   "cell_type": "code",
   "execution_count": 111,
   "metadata": {},
   "outputs": [
    {
     "data": {
      "text/plain": [
       "Pipeline(steps=[('countvectorizer', CountVectorizer(binary=True)),\n",
       "                ('multinomialnb', MultinomialNB())])"
      ]
     },
     "execution_count": 111,
     "metadata": {},
     "output_type": "execute_result"
    }
   ],
   "source": [
    "nb_model = make_pipeline(CountVectorizer(binary=True), MultinomialNB())\n",
    "nb_model.fit(train_data, train_label)"
   ]
  },
  {
   "cell_type": "code",
   "execution_count": 112,
   "metadata": {},
   "outputs": [
    {
     "data": {
      "text/plain": [
       "DummyClassifier(strategy='most_frequent')"
      ]
     },
     "execution_count": 112,
     "metadata": {},
     "output_type": "execute_result"
    }
   ],
   "source": [
    "dummy_clf = DummyClassifier(strategy='most_frequent')\n",
    "dummy_clf.fit(train_data, train_label)"
   ]
  },
  {
   "cell_type": "code",
   "execution_count": 113,
   "metadata": {},
   "outputs": [
    {
     "name": "stdout",
     "output_type": "stream",
     "text": [
      "Model test classification accuracy: 0.5823328911798781\n",
      "Baseline test classification accuracy: 0.5774803969306714\n"
     ]
    }
   ],
   "source": [
    "q3_score = nb_model.score(test_data, test_label) # float: test classification accuracy score of the model\n",
    "q3b_score = dummy_clf.score(test_data, test_label) # float: test classification accuracy score of the baseline\n",
    "\n",
    "# Leave these lines here to print the result\n",
    "print(\"Model test classification accuracy:\", q3_score)\n",
    "print(\"Baseline test classification accuracy:\", q3b_score)"
   ]
  },
  {
   "cell_type": "markdown",
   "metadata": {},
   "source": [
    "Other Stuffs"
   ]
  },
  {
   "cell_type": "code",
   "execution_count": 114,
   "metadata": {},
   "outputs": [],
   "source": [
    "from sklearn.feature_extraction.text import TfidfVectorizer\n",
    "tf=TfidfVectorizer()\n",
    "text_tf= tf.fit_transform(df['pre_processed_data'])"
   ]
  },
  {
   "cell_type": "code",
   "execution_count": 115,
   "metadata": {},
   "outputs": [],
   "source": [
    "from sklearn.model_selection import train_test_split\n",
    "X_train, X_test, y_train, y_test = train_test_split(\n",
    "    text_tf, df['party'], test_size=0.3, random_state=123)"
   ]
  },
  {
   "cell_type": "code",
   "execution_count": 116,
   "metadata": {},
   "outputs": [
    {
     "name": "stdout",
     "output_type": "stream",
     "text": [
      "MultinomialNB Accuracy: 0.5926087613546687\n",
      "Baseline test classification accuracy: 0.5774803969306714\n"
     ]
    }
   ],
   "source": [
    "from sklearn.naive_bayes import MultinomialNB\n",
    "from sklearn import metrics\n",
    "# Model Generation Using Multinomial Naive Bayes\n",
    "clf = MultinomialNB().fit(X_train, y_train)\n",
    "predicted= clf.predict(X_test)\n",
    "print(\"MultinomialNB Accuracy:\",metrics.accuracy_score(y_test, predicted))\n",
    "print(\"Baseline test classification accuracy:\", q3b_score)"
   ]
  },
  {
   "cell_type": "code",
   "execution_count": 3,
   "metadata": {},
   "outputs": [],
   "source": [
    "from gensim.models import Word2Vec as w2v\n",
    "from sklearn.decomposition import PCA"
   ]
  },
  {
   "cell_type": "code",
   "execution_count": 4,
   "metadata": {},
   "outputs": [],
   "source": [
    "from sklearn.model_selection import train_test_split\n",
    "X_train, X_test, y_train, y_test = train_test_split(\n",
    "    df, df['party'], test_size=0.3, random_state=123)"
   ]
  },
  {
   "cell_type": "code",
   "execution_count": 205,
   "metadata": {},
   "outputs": [
    {
     "ename": "AttributeError",
     "evalue": "module 'gensim.models.doc2vec' has no attribute 'LabeledSentence'",
     "output_type": "error",
     "traceback": [
      "\u001b[1;31m---------------------------------------------------------------------------\u001b[0m",
      "\u001b[1;31mAttributeError\u001b[0m                            Traceback (most recent call last)",
      "\u001b[1;32m<ipython-input-205-5e93b8c6c631>\u001b[0m in \u001b[0;36m<module>\u001b[1;34m\u001b[0m\n\u001b[1;32m----> 1\u001b[1;33m \u001b[0mLabeledSentence\u001b[0m \u001b[1;33m=\u001b[0m \u001b[0mgensim\u001b[0m\u001b[1;33m.\u001b[0m\u001b[0mmodels\u001b[0m\u001b[1;33m.\u001b[0m\u001b[0mdoc2vec\u001b[0m\u001b[1;33m.\u001b[0m\u001b[0mLabeledSentence\u001b[0m\u001b[1;33m\u001b[0m\u001b[1;33m\u001b[0m\u001b[0m\n\u001b[0m\u001b[0;32m      2\u001b[0m \u001b[1;33m\u001b[0m\u001b[0m\n\u001b[0;32m      3\u001b[0m \u001b[1;32mdef\u001b[0m \u001b[0mlabelizeTweets\u001b[0m\u001b[1;33m(\u001b[0m\u001b[0mtweets\u001b[0m\u001b[1;33m,\u001b[0m \u001b[0mlabel_type\u001b[0m\u001b[1;33m)\u001b[0m\u001b[1;33m:\u001b[0m\u001b[1;33m\u001b[0m\u001b[1;33m\u001b[0m\u001b[0m\n\u001b[0;32m      4\u001b[0m     \u001b[0mlabelized\u001b[0m \u001b[1;33m=\u001b[0m \u001b[1;33m[\u001b[0m\u001b[1;33m]\u001b[0m\u001b[1;33m\u001b[0m\u001b[1;33m\u001b[0m\u001b[0m\n\u001b[0;32m      5\u001b[0m     \u001b[1;32mfor\u001b[0m \u001b[0mi\u001b[0m\u001b[1;33m,\u001b[0m\u001b[0mv\u001b[0m \u001b[1;32min\u001b[0m \u001b[0mtqdm\u001b[0m\u001b[1;33m(\u001b[0m\u001b[0menumerate\u001b[0m\u001b[1;33m(\u001b[0m\u001b[0mtweets\u001b[0m\u001b[1;33m)\u001b[0m\u001b[1;33m)\u001b[0m\u001b[1;33m:\u001b[0m\u001b[1;33m\u001b[0m\u001b[1;33m\u001b[0m\u001b[0m\n",
      "\u001b[1;31mAttributeError\u001b[0m: module 'gensim.models.doc2vec' has no attribute 'LabeledSentence'"
     ]
    }
   ],
   "source": [
    "LabeledSentence = gensim.models.doc2vec.LabeledSentence\n",
    "\n",
    "def labelizeTweets(tweets, label_type):\n",
    "    labelized = []\n",
    "    for i,v in tqdm(enumerate(tweets)):\n",
    "        label = '%s_%s'%(label_type,i)\n",
    "        labelized.append(LabeledSentence(v, [label]))\n",
    "    return labelized\n",
    "\n",
    "X_train = labelizeTweets(X_train, 'TRAIN')\n",
    "X_test = labelizeTweets(X_test, 'TEST')"
   ]
  },
  {
   "cell_type": "code",
   "execution_count": 183,
   "metadata": {},
   "outputs": [],
   "source": [
    "# min_count=3, sg = 1, window=7\n",
    "filtered_lines = X_train['tokens_no_stop'].values\n",
    "w = w2v(sentences = filtered_lines)       "
   ]
  },
  {
   "cell_type": "code",
   "execution_count": 184,
   "metadata": {},
   "outputs": [
    {
     "data": {
      "text/plain": [
       "{'our': 0,\n",
       " 'we': 1,\n",
       " 'house': 2,\n",
       " 'bill': 3,\n",
       " 'president': 4,\n",
       " 'obama': 5,\n",
       " 'act': 6,\n",
       " 'us': 7,\n",
       " 'watch': 8,\n",
       " 'senate': 9,\n",
       " 'jobs': 10,\n",
       " 'time': 11,\n",
       " 'live': 12,\n",
       " 'hearing': 13,\n",
       " 'support': 14,\n",
       " 'work': 15,\n",
       " 'need': 16,\n",
       " 'read': 17,\n",
       " 'health': 18,\n",
       " 'help': 19,\n",
       " 'good': 20,\n",
       " 'congress': 21,\n",
       " 'tax': 22,\n",
       " 'budget': 23,\n",
       " 'american': 24,\n",
       " 'must': 25,\n",
       " 'americans': 26,\n",
       " 'obamacare': 27,\n",
       " 'via': 28,\n",
       " 'get': 29,\n",
       " 'happy': 30,\n",
       " 'discuss': 31,\n",
       " 'video': 32,\n",
       " 'last': 33,\n",
       " 'see': 34,\n",
       " 'pm': 35,\n",
       " 'office': 36,\n",
       " 'care': 37,\n",
       " 'people': 38,\n",
       " 'sen': 39,\n",
       " 'tune': 40,\n",
       " 'vote': 41,\n",
       " 'passed': 42,\n",
       " 'one': 43,\n",
       " 'meeting': 44,\n",
       " 'tonight': 45,\n",
       " 'state': 46,\n",
       " 'year': 47,\n",
       " 'join': 48,\n",
       " 'job': 49,\n",
       " 'plan': 50,\n",
       " 'proud': 51,\n",
       " 'spending': 52,\n",
       " 'floor': 53,\n",
       " 'would': 54,\n",
       " 'like': 55,\n",
       " 'rep': 56,\n",
       " 'law': 57,\n",
       " 'national': 58,\n",
       " 'energy': 59,\n",
       " 'news': 60,\n",
       " 'america': 61,\n",
       " 'families': 62,\n",
       " 'keep': 63,\n",
       " 'tomorrow': 64,\n",
       " 'debt': 65,\n",
       " 'talk': 66,\n",
       " 'check': 67,\n",
       " 'economy': 68,\n",
       " 'co': 69,\n",
       " 'service': 70,\n",
       " 'make': 71,\n",
       " 'first': 72,\n",
       " 'forward': 73,\n",
       " 'washington': 74,\n",
       " 'veterans': 75,\n",
       " 'government': 76,\n",
       " 'honor': 77,\n",
       " 'students': 78,\n",
       " 'reform': 79,\n",
       " 'back': 80,\n",
       " 'years': 81,\n",
       " 'yesterday': 82,\n",
       " 'visit': 83,\n",
       " 'take': 84,\n",
       " 'federal': 85,\n",
       " 'staff': 86,\n",
       " 'icymi': 87,\n",
       " 'talking': 88,\n",
       " 'stop': 89,\n",
       " 'small': 90,\n",
       " 'business': 91,\n",
       " 'congrats': 92,\n",
       " 'working': 93,\n",
       " 'committee': 94,\n",
       " 'hall': 95,\n",
       " 'women': 96,\n",
       " 'mt': 97,\n",
       " 'looking': 98,\n",
       " 'voted': 99,\n",
       " 'go': 100,\n",
       " 'family': 101,\n",
       " 'gop': 102,\n",
       " 'next': 103,\n",
       " 'town': 104,\n",
       " 'way': 105,\n",
       " 'military': 106,\n",
       " 'county': 107,\n",
       " 'st': 108,\n",
       " 'nation': 109,\n",
       " 'dc': 110,\n",
       " 'know': 111,\n",
       " 'speaking': 112,\n",
       " 'gov': 113,\n",
       " 'listen': 114,\n",
       " 'right': 115,\n",
       " 'please': 116,\n",
       " 'report': 117,\n",
       " 'bipartisan': 118,\n",
       " 'let': 119,\n",
       " 'security': 120,\n",
       " 'school': 121,\n",
       " 'protect': 122,\n",
       " 'night': 123,\n",
       " 'want': 124,\n",
       " 'members': 125,\n",
       " 'statement': 126,\n",
       " 'hope': 127,\n",
       " 'another': 128,\n",
       " 'honored': 129,\n",
       " 'va': 130,\n",
       " 'bills': 131,\n",
       " 'high': 132,\n",
       " 'call': 133,\n",
       " 'congressional': 134,\n",
       " 'many': 135,\n",
       " 'legislation': 136,\n",
       " 'still': 137,\n",
       " 'senator': 138,\n",
       " 'show': 139,\n",
       " 'birthday': 140,\n",
       " 'country': 141,\n",
       " 'says': 142,\n",
       " 'joining': 143,\n",
       " 'local': 144,\n",
       " 'ed': 145,\n",
       " 'meet': 146,\n",
       " 'community': 147,\n",
       " 'amendment': 148,\n",
       " 'home': 149,\n",
       " 'address': 150,\n",
       " 'issues': 151,\n",
       " 'create': 152,\n",
       " 'best': 153,\n",
       " 'million': 154,\n",
       " 'enjoyed': 155,\n",
       " 'look': 156,\n",
       " 'questions': 157,\n",
       " 'thoughts': 158,\n",
       " 'agree': 159,\n",
       " 'learn': 160,\n",
       " 'latest': 161,\n",
       " 'potus': 162,\n",
       " 'hear': 163,\n",
       " 'congressman': 164,\n",
       " 'businesses': 165,\n",
       " 'pass': 166,\n",
       " 'op': 167,\n",
       " 'important': 168,\n",
       " 'pres': 169,\n",
       " 'interview': 170,\n",
       " 'continue': 171,\n",
       " 'district': 172,\n",
       " 'economic': 173,\n",
       " 'going': 174,\n",
       " 'big': 175,\n",
       " 'could': 176,\n",
       " 'full': 177,\n",
       " 'growth': 178,\n",
       " 'glad': 179,\n",
       " 'world': 180,\n",
       " 'cut': 181,\n",
       " 'capitol': 182,\n",
       " 'speech': 183,\n",
       " 'story': 184,\n",
       " 'open': 185,\n",
       " 'tour': 186,\n",
       " 'spoke': 187,\n",
       " 'since': 188,\n",
       " 'public': 189,\n",
       " 'better': 190,\n",
       " 'program': 191,\n",
       " 'speak': 192,\n",
       " 'end': 193,\n",
       " 'govt': 194,\n",
       " 'come': 195,\n",
       " 'met': 196,\n",
       " 'info': 197,\n",
       " 'made': 198,\n",
       " 'every': 199,\n",
       " 'needs': 200,\n",
       " 'prayers': 201,\n",
       " 'discussing': 202,\n",
       " 'center': 203,\n",
       " 'congratulations': 204,\n",
       " 'cuts': 205,\n",
       " 'leaders': 206,\n",
       " 'taxes': 207,\n",
       " 'think': 208,\n",
       " 'freedom': 209,\n",
       " 'facebook': 210,\n",
       " 'fight': 211,\n",
       " 'part': 212,\n",
       " 'chairman': 213,\n",
       " 'admin': 214,\n",
       " 'future': 215,\n",
       " 'et': 216,\n",
       " 'irs': 217,\n",
       " 'pay': 218,\n",
       " 'everyone': 219,\n",
       " 'administration': 220,\n",
       " 'sure': 221,\n",
       " 'policy': 222,\n",
       " 'give': 223,\n",
       " 'long': 224,\n",
       " 'joined': 225,\n",
       " 'action': 226,\n",
       " 'conference': 227,\n",
       " 'insurance': 228,\n",
       " 'say': 229,\n",
       " 'life': 230,\n",
       " 'find': 231,\n",
       " 'sign': 232,\n",
       " 'hr': 233,\n",
       " 'photo': 234,\n",
       " 'days': 235,\n",
       " 'free': 236,\n",
       " 'friend': 237,\n",
       " 'leadership': 238,\n",
       " 'event': 239,\n",
       " 'fb': 240,\n",
       " 'hours': 241,\n",
       " 'team': 242,\n",
       " 'costs': 243,\n",
       " 'ct': 244,\n",
       " 'weekly': 245,\n",
       " 'coming': 246,\n",
       " 'getting': 247,\n",
       " 'city': 248,\n",
       " 'welcome': 249,\n",
       " 'states': 250,\n",
       " 'much': 251,\n",
       " 'share': 252,\n",
       " 'always': 253,\n",
       " 'thx': 254,\n",
       " 'visiting': 255,\n",
       " 'repeal': 256,\n",
       " 'safe': 257,\n",
       " 'ago': 258,\n",
       " 'award': 259,\n",
       " 'student': 260,\n",
       " 'lost': 261,\n",
       " 'funding': 262,\n",
       " 'hosting': 263,\n",
       " 'remember': 264,\n",
       " 'efforts': 265,\n",
       " 'press': 266,\n",
       " 'top': 267,\n",
       " 'air': 268,\n",
       " 'friends': 269,\n",
       " 'deserve': 270,\n",
       " 'workers': 271,\n",
       " 'update': 272,\n",
       " 'white': 273,\n",
       " 'afternoon': 274,\n",
       " 'increase': 275,\n",
       " 'fair': 276,\n",
       " 'discussion': 277,\n",
       " 'ly': 278,\n",
       " 'de': 279,\n",
       " 'war': 280,\n",
       " 'fed': 281,\n",
       " 'month': 282,\n",
       " 'letter': 283,\n",
       " 'anniversary': 284,\n",
       " 'republicans': 285,\n",
       " 'put': 286,\n",
       " 'real': 287,\n",
       " 'rights': 288,\n",
       " 'ready': 289,\n",
       " 'hard': 290,\n",
       " 'follow': 291,\n",
       " 'two': 292,\n",
       " 'victims': 293,\n",
       " 'vets': 294,\n",
       " 'pipeline': 295,\n",
       " 'supporting': 296,\n",
       " 'regulations': 297,\n",
       " 'crisis': 298,\n",
       " 'taking': 299,\n",
       " 'said': 300,\n",
       " 'online': 301,\n",
       " 'making': 302,\n",
       " 'gas': 303,\n",
       " 'stand': 304,\n",
       " 'around': 305,\n",
       " 'texas': 306,\n",
       " 'epa': 307,\n",
       " 'holding': 308,\n",
       " 'democrats': 309,\n",
       " 'immigration': 310,\n",
       " 'well': 311,\n",
       " 'en': 312,\n",
       " 'opportunity': 313,\n",
       " 'class': 314,\n",
       " 'sec': 315,\n",
       " 'never': 316,\n",
       " 'children': 317,\n",
       " 'even': 318,\n",
       " 'education': 319,\n",
       " 'together': 320,\n",
       " 'use': 321,\n",
       " 'access': 322,\n",
       " 'introduced': 323,\n",
       " 'delay': 324,\n",
       " 'border': 325,\n",
       " 'start': 326,\n",
       " 'men': 327,\n",
       " 'hold': 328,\n",
       " 'cost': 329,\n",
       " 'defense': 330,\n",
       " 'also': 331,\n",
       " 'colleagues': 332,\n",
       " 'debate': 333,\n",
       " 'yrs': 334,\n",
       " 'middle': 335,\n",
       " 'photos': 336,\n",
       " 'policies': 337,\n",
       " 'impact': 338,\n",
       " 'win': 339,\n",
       " 'newsletter': 340,\n",
       " 'special': 341,\n",
       " 'click': 342,\n",
       " 'voting': 343,\n",
       " 'game': 344,\n",
       " 'system': 345,\n",
       " 'power': 346,\n",
       " 'receive': 347,\n",
       " 'website': 348,\n",
       " 'mcconnell': 349,\n",
       " 'post': 350,\n",
       " 'college': 351,\n",
       " 'details': 352,\n",
       " 'memorial': 353,\n",
       " 'healthcare': 354,\n",
       " 'dems': 355,\n",
       " 'lives': 356,\n",
       " 'water': 357,\n",
       " 'provide': 358,\n",
       " 'decision': 359,\n",
       " 'done': 360,\n",
       " 'kids': 361,\n",
       " 'minutes': 362,\n",
       " 'yes': 363,\n",
       " 'constituents': 364,\n",
       " 'young': 365,\n",
       " 'got': 366,\n",
       " 'across': 367,\n",
       " 'employees': 368,\n",
       " 'pleased': 369,\n",
       " 'billion': 370,\n",
       " 'issue': 371,\n",
       " 'group': 372,\n",
       " 'court': 373,\n",
       " 'political': 374,\n",
       " 'farm': 375,\n",
       " 'serve': 376,\n",
       " 'weekend': 377,\n",
       " 'ensure': 378,\n",
       " 'radio': 379,\n",
       " 'release': 380,\n",
       " 'strong': 381,\n",
       " 'folks': 382,\n",
       " 'votes': 383,\n",
       " 'helping': 384,\n",
       " 'force': 385,\n",
       " 'biz': 386,\n",
       " 'la': 387,\n",
       " 'fiscal': 388,\n",
       " 'save': 389,\n",
       " 'medicare': 390,\n",
       " 'john': 391,\n",
       " 'member': 392,\n",
       " 'problem': 393,\n",
       " 'west': 394,\n",
       " 'stay': 395,\n",
       " 'change': 396,\n",
       " 'hill': 397,\n",
       " 'benefits': 398,\n",
       " 'abt': 399,\n",
       " 'case': 400,\n",
       " 'prices': 401,\n",
       " 'ask': 402,\n",
       " 'information': 403,\n",
       " 'deal': 404,\n",
       " 'rule': 405,\n",
       " 'control': 406,\n",
       " 'question': 407,\n",
       " 'history': 408,\n",
       " 'fighting': 409,\n",
       " 'ag': 410,\n",
       " 'signed': 411,\n",
       " 'art': 412,\n",
       " 'bit': 413,\n",
       " 'nd': 414,\n",
       " 'missed': 415,\n",
       " 'trillion': 416,\n",
       " 'competition': 417,\n",
       " 'republican': 418,\n",
       " 'luck': 419,\n",
       " 'continues': 420,\n",
       " 'step': 421,\n",
       " 'safety': 422,\n",
       " 'yet': 423,\n",
       " 'dr': 424,\n",
       " 'solutions': 425,\n",
       " 'annual': 426,\n",
       " 'secretary': 427,\n",
       " 'fox': 428,\n",
       " 'subcommittee': 429,\n",
       " 'celebrate': 430,\n",
       " 'fix': 431,\n",
       " 'plans': 432,\n",
       " 'seniors': 433,\n",
       " 'taxpayer': 434,\n",
       " 'ceremony': 435,\n",
       " 'less': 436,\n",
       " 'appreciate': 437,\n",
       " 'opening': 438,\n",
       " 'taxpayers': 439,\n",
       " 'programs': 440,\n",
       " 'bring': 441,\n",
       " 'research': 442,\n",
       " 'friday': 443,\n",
       " 'medical': 444,\n",
       " 'posted': 445,\n",
       " 'chair': 446,\n",
       " 'reduce': 447,\n",
       " 'believe': 448,\n",
       " 'due': 449,\n",
       " 'bad': 450,\n",
       " 'page': 451,\n",
       " 'reid': 452,\n",
       " 'deficit': 453,\n",
       " 'services': 454,\n",
       " 'constitution': 455,\n",
       " 'calls': 456,\n",
       " 'unemployment': 457,\n",
       " 'tell': 458,\n",
       " 'money': 459,\n",
       " 'article': 460,\n",
       " 'term': 461,\n",
       " 'recent': 462,\n",
       " 'mr': 463,\n",
       " 'recovery': 464,\n",
       " 'times': 465,\n",
       " 'shows': 466,\n",
       " 'officials': 467,\n",
       " 'academy': 468,\n",
       " 'accountability': 469,\n",
       " 'former': 470,\n",
       " 'united': 471,\n",
       " 'usa': 472,\n",
       " 'shutdown': 473,\n",
       " 'mark': 474,\n",
       " 'troops': 475,\n",
       " 'raise': 476,\n",
       " 'failed': 477,\n",
       " 'red': 478,\n",
       " 'north': 479,\n",
       " 'higher': 480,\n",
       " 'record': 481,\n",
       " 'forget': 482,\n",
       " 'coverage': 483,\n",
       " 'response': 484,\n",
       " 'mandate': 485,\n",
       " 'food': 486,\n",
       " 'without': 487,\n",
       " 'headed': 488,\n",
       " 'cmte': 489,\n",
       " 'oil': 490,\n",
       " 'union': 491,\n",
       " 'heading': 492,\n",
       " 'chamber': 493,\n",
       " 'resources': 494,\n",
       " 'answers': 495,\n",
       " 'rules': 496,\n",
       " 'means': 497,\n",
       " 'god': 498,\n",
       " 'heroes': 499,\n",
       " 'things': 500,\n",
       " 'oversight': 501,\n",
       " 'resolution': 502,\n",
       " 'south': 503,\n",
       " 'creation': 504,\n",
       " 'prevent': 505,\n",
       " 'area': 506,\n",
       " 'central': 507,\n",
       " 'happening': 508,\n",
       " 'rates': 509,\n",
       " 'passing': 510,\n",
       " 'concerns': 511,\n",
       " 'soon': 512,\n",
       " 'army': 513,\n",
       " 'leader': 514,\n",
       " 'schedule': 515,\n",
       " 'trade': 516,\n",
       " 'keystone': 517,\n",
       " 'foreign': 518,\n",
       " 'calling': 519,\n",
       " 'solution': 520,\n",
       " 'list': 521,\n",
       " 'place': 522,\n",
       " 'mobile': 523,\n",
       " 'reports': 524,\n",
       " 'able': 525,\n",
       " 'answer': 526,\n",
       " 'attack': 527,\n",
       " 'problems': 528,\n",
       " 'industry': 529,\n",
       " 'importance': 530,\n",
       " 'already': 531,\n",
       " 'critical': 532,\n",
       " 'took': 533,\n",
       " 'true': 534,\n",
       " 'serious': 535,\n",
       " 'private': 536,\n",
       " 'al': 537,\n",
       " 'rate': 538,\n",
       " 'nearly': 539,\n",
       " 'grow': 540,\n",
       " 'miss': 541,\n",
       " 'discussed': 542,\n",
       " 'fire': 543,\n",
       " 'earlier': 544,\n",
       " 'named': 545,\n",
       " 'fact': 546,\n",
       " 'excited': 547,\n",
       " 'politics': 548,\n",
       " 'left': 549,\n",
       " 'majority': 550,\n",
       " 'makes': 551,\n",
       " 'sanders': 552,\n",
       " 'session': 553,\n",
       " 'past': 554,\n",
       " 'ever': 555,\n",
       " 'including': 556,\n",
       " 'came': 557,\n",
       " 'communities': 558,\n",
       " 'pro': 559,\n",
       " 'general': 560,\n",
       " 'affected': 561,\n",
       " 'code': 562,\n",
       " 'current': 563,\n",
       " 'farmers': 564,\n",
       " 'cosponsor': 565,\n",
       " 'hour': 566,\n",
       " 'asked': 567,\n",
       " 'fund': 568,\n",
       " 'needed': 569,\n",
       " 'loan': 570,\n",
       " 'passes': 571,\n",
       " 'enough': 572,\n",
       " 'yr': 573,\n",
       " 'protecting': 574,\n",
       " 'israel': 575,\n",
       " 'sent': 576,\n",
       " 'really': 577,\n",
       " 'party': 578,\n",
       " 'data': 579,\n",
       " 'editorial': 580,\n",
       " 'premiums': 581,\n",
       " 'lower': 582,\n",
       " 'set': 583,\n",
       " 'conversation': 584,\n",
       " 'legislative': 585,\n",
       " 'honoring': 586,\n",
       " 'innovation': 587,\n",
       " 'later': 588,\n",
       " 'ceiling': 589,\n",
       " 'away': 590,\n",
       " 'human': 591,\n",
       " 'reminder': 592,\n",
       " 'link': 593,\n",
       " 'updates': 594,\n",
       " 'affordable': 595,\n",
       " 'roundtable': 596,\n",
       " 'relief': 597,\n",
       " 'column': 598,\n",
       " 'targeting': 599,\n",
       " 'improve': 600,\n",
       " 'talks': 601,\n",
       " 'htt': 602,\n",
       " 'schools': 603,\n",
       " 'little': 604,\n",
       " 'lead': 605,\n",
       " 'regarding': 606,\n",
       " 'residents': 607,\n",
       " 'syria': 608,\n",
       " 'celebrating': 609,\n",
       " 'benghazi': 610,\n",
       " 'common': 611,\n",
       " 'love': 612,\n",
       " 'cutting': 613,\n",
       " 'abuse': 614,\n",
       " 'july': 615,\n",
       " 'threat': 616,\n",
       " 'millions': 617,\n",
       " 'others': 618,\n",
       " 'disaster': 619,\n",
       " 'wonderful': 620,\n",
       " 'saturday': 621,\n",
       " 'visited': 622,\n",
       " 'park': 623,\n",
       " 'violence': 624,\n",
       " 'man': 625,\n",
       " 'regs': 626,\n",
       " 'ways': 627,\n",
       " 'project': 628,\n",
       " 'monday': 629,\n",
       " 'send': 630,\n",
       " 'held': 631,\n",
       " 'proposed': 632,\n",
       " 'key': 633,\n",
       " 'effort': 634,\n",
       " 'building': 635,\n",
       " 'giving': 636,\n",
       " 'wishing': 637,\n",
       " 'old': 638,\n",
       " 'proposal': 639,\n",
       " 'coal': 640,\n",
       " 'following': 641,\n",
       " 'starting': 642,\n",
       " 'allow': 643,\n",
       " 'passage': 644,\n",
       " 'commerce': 645,\n",
       " 'board': 646,\n",
       " 'creating': 647,\n",
       " 'forum': 648,\n",
       " 'balanced': 649,\n",
       " 'broken': 650,\n",
       " 'listening': 651,\n",
       " 'assistance': 652,\n",
       " 'laws': 653,\n",
       " 'order': 654,\n",
       " 'conservative': 655,\n",
       " 'executive': 656,\n",
       " 'view': 657,\n",
       " 'move': 658,\n",
       " 'association': 659,\n",
       " 'balance': 660,\n",
       " 'christmas': 661,\n",
       " 'mayor': 662,\n",
       " 'ohio': 663,\n",
       " 'justice': 664,\n",
       " 'ht': 665,\n",
       " 'senators': 666,\n",
       " 'focus': 667,\n",
       " 'process': 668,\n",
       " 'sacrifice': 669,\n",
       " 'limit': 670,\n",
       " 'moment': 671,\n",
       " 'brave': 672,\n",
       " 'raising': 673,\n",
       " 'review': 674,\n",
       " 'owners': 675,\n",
       " 'wwii': 676,\n",
       " 'poll': 677,\n",
       " 'using': 678,\n",
       " 'fy': 679,\n",
       " 'development': 680,\n",
       " 'wants': 681,\n",
       " 'remarks': 682,\n",
       " 'tweet': 683,\n",
       " 'pa': 684,\n",
       " 'ppl': 685,\n",
       " 'called': 686,\n",
       " 'chief': 687,\n",
       " 'facility': 688,\n",
       " 'veteran': 689,\n",
       " 'iran': 690,\n",
       " 'wh': 691,\n",
       " 'training': 692,\n",
       " 'holder': 693,\n",
       " 'number': 694,\n",
       " 'domestic': 695,\n",
       " 'official': 696,\n",
       " 'corker': 697,\n",
       " 'sunday': 698,\n",
       " 'line': 699,\n",
       " 'robert': 700,\n",
       " 'companies': 701,\n",
       " 'groups': 702,\n",
       " 'host': 703,\n",
       " 'guard': 704,\n",
       " 'stopping': 705,\n",
       " 'reforms': 706,\n",
       " 'transparency': 707,\n",
       " 'accountable': 708,\n",
       " 'breaking': 709,\n",
       " 'words': 710,\n",
       " 'major': 711,\n",
       " 'served': 712,\n",
       " 'touring': 713,\n",
       " 'tx': 714,\n",
       " 'fellow': 715,\n",
       " 'clear': 716,\n",
       " 'nothing': 717,\n",
       " 'regulatory': 718,\n",
       " 'protection': 719,\n",
       " 'medal': 720,\n",
       " 'growing': 721,\n",
       " 'gave': 722,\n",
       " 'attending': 723,\n",
       " 'global': 724,\n",
       " 'rd': 725,\n",
       " 'lunch': 726,\n",
       " 'labor': 727,\n",
       " 'months': 728,\n",
       " 'thousands': 729,\n",
       " 'paid': 730,\n",
       " 'sense': 731,\n",
       " 'media': 732,\n",
       " 'east': 733,\n",
       " 'pleasure': 734,\n",
       " 'production': 735,\n",
       " 'success': 736,\n",
       " 'study': 737,\n",
       " 'spent': 738,\n",
       " 'wish': 739,\n",
       " 'independence': 740,\n",
       " 'beautiful': 741,\n",
       " 'stopped': 742,\n",
       " 'build': 743,\n",
       " 'events': 744,\n",
       " 'standing': 745,\n",
       " 'social': 746,\n",
       " 'early': 747,\n",
       " 'serving': 748,\n",
       " 'nat': 749,\n",
       " 'valley': 750,\n",
       " 'chance': 751,\n",
       " 'assault': 752,\n",
       " 'run': 753,\n",
       " 'dept': 754,\n",
       " 'march': 755,\n",
       " 'caucus': 756,\n",
       " 'cbo': 757,\n",
       " 'aid': 758,\n",
       " 'heard': 759,\n",
       " 'citizens': 760,\n",
       " 'seeing': 761,\n",
       " 'far': 762,\n",
       " 'trip': 763,\n",
       " 'director': 764,\n",
       " 'field': 765,\n",
       " 'manufacturing': 766,\n",
       " 'spend': 767,\n",
       " 'face': 768,\n",
       " 'rural': 769,\n",
       " 'coffee': 770,\n",
       " 'mtg': 771,\n",
       " 'tech': 772,\n",
       " 'breakfast': 773,\n",
       " 'takes': 774,\n",
       " 'waste': 775,\n",
       " 'talked': 776,\n",
       " 'thing': 777,\n",
       " 'season': 778,\n",
       " 'wrong': 779,\n",
       " 'role': 780,\n",
       " 'ahead': 781,\n",
       " 'cannot': 782,\n",
       " 'scandal': 783,\n",
       " 'creators': 784,\n",
       " 'low': 785,\n",
       " 'police': 786,\n",
       " 'child': 787,\n",
       " 'emergency': 788,\n",
       " 'nuclear': 789,\n",
       " 'announced': 790,\n",
       " 'dollars': 791,\n",
       " 'grant': 792,\n",
       " 'responsible': 793,\n",
       " 'sector': 794,\n",
       " 'message': 795,\n",
       " 'council': 796,\n",
       " 'based': 797,\n",
       " 'ur': 798,\n",
       " 'point': 799,\n",
       " 'attacks': 800,\n",
       " 'cc': 801,\n",
       " 'market': 802,\n",
       " 'internet': 803,\n",
       " 'financial': 804,\n",
       " 'cancer': 805,\n",
       " 'piece': 806,\n",
       " 'secure': 807,\n",
       " 'workforce': 808,\n",
       " 'afghanistan': 809,\n",
       " 'summer': 810,\n",
       " 'flood': 811,\n",
       " 'investigation': 812,\n",
       " 'funds': 813,\n",
       " 'sessions': 814,\n",
       " 'grateful': 815,\n",
       " 'half': 816,\n",
       " 'second': 817,\n",
       " 'evening': 818,\n",
       " 'ideas': 819,\n",
       " 'keeping': 820,\n",
       " 'paul': 821,\n",
       " 'reason': 822,\n",
       " 'interest': 823,\n",
       " 'sexual': 824,\n",
       " 'hurt': 825,\n",
       " 'hs': 826,\n",
       " 'agency': 827,\n",
       " 'instead': 828,\n",
       " 'numbers': 829,\n",
       " 'religious': 830,\n",
       " 'club': 831,\n",
       " 'behind': 832,\n",
       " 'campaign': 833,\n",
       " 'lot': 834,\n",
       " 'gets': 835,\n",
       " 'announce': 836,\n",
       " 'close': 837,\n",
       " 'final': 838,\n",
       " 'liberty': 839,\n",
       " 'el': 840,\n",
       " 'choice': 841,\n",
       " 'panel': 842,\n",
       " 'science': 843,\n",
       " 'roll': 844,\n",
       " 'april': 845,\n",
       " 'credit': 846,\n",
       " 'representatives': 847,\n",
       " 'moving': 848,\n",
       " 'illegal': 849,\n",
       " 'agreement': 850,\n",
       " 'leading': 851,\n",
       " 'priority': 852,\n",
       " 'become': 853,\n",
       " 'transportation': 854,\n",
       " 'natural': 855,\n",
       " 'asking': 856,\n",
       " 'finally': 857,\n",
       " 'interested': 858,\n",
       " 'est': 859,\n",
       " 'told': 860,\n",
       " 'restore': 861,\n",
       " 'tuesday': 862,\n",
       " 'election': 863,\n",
       " 'road': 864,\n",
       " 'risk': 865,\n",
       " 'received': 866,\n",
       " 'delegation': 867,\n",
       " 'actions': 868,\n",
       " 'gun': 869,\n",
       " 'shortly': 870,\n",
       " 'head': 871,\n",
       " 'word': 872,\n",
       " 'claims': 873,\n",
       " 'flag': 874,\n",
       " 'iraq': 875,\n",
       " 'truth': 876,\n",
       " 'wednesday': 877,\n",
       " 'album': 878,\n",
       " 'site': 879,\n",
       " 'awareness': 880,\n",
       " 'survey': 881,\n",
       " 'cont': 882,\n",
       " 'strategy': 883,\n",
       " 'reps': 884,\n",
       " 'push': 885,\n",
       " 'june': 886,\n",
       " 'guest': 887,\n",
       " 'defend': 888,\n",
       " 'wait': 889,\n",
       " 'waiting': 890,\n",
       " 'consider': 891,\n",
       " 'cosponsoring': 892,\n",
       " 'approve': 893,\n",
       " 'heart': 894,\n",
       " 'summit': 895,\n",
       " 'company': 896,\n",
       " 'path': 897,\n",
       " 'fort': 898,\n",
       " 'supports': 899,\n",
       " 'individual': 900,\n",
       " 'trust': 901,\n",
       " 'hit': 902,\n",
       " 'three': 903,\n",
       " 'colleague': 904,\n",
       " 'weather': 905,\n",
       " 'mike': 906,\n",
       " 'trafficking': 907,\n",
       " 'death': 908,\n",
       " 'per': 909,\n",
       " 'used': 910,\n",
       " 'lake': 911,\n",
       " 'department': 912,\n",
       " 'encourage': 913,\n",
       " 'challenge': 914,\n",
       " 'thursday': 915,\n",
       " 'hospital': 916,\n",
       " 'enjoy': 917,\n",
       " 'counties': 918,\n",
       " 'huge': 919,\n",
       " 'return': 920,\n",
       " 'exchange': 921,\n",
       " 'infrastructure': 922,\n",
       " 'urge': 923,\n",
       " 'commitment': 924,\n",
       " 'joint': 925,\n",
       " 'armed': 926,\n",
       " 'something': 927,\n",
       " 'remain': 928,\n",
       " 'failure': 929,\n",
       " 'nc': 930,\n",
       " 'available': 931,\n",
       " 'catch': 932,\n",
       " 'retweet': 933,\n",
       " 'tape': 934,\n",
       " 'increases': 935,\n",
       " 'senior': 936,\n",
       " 'forces': 937,\n",
       " 'markup': 938,\n",
       " 'attend': 939,\n",
       " 'deadline': 940,\n",
       " 'facts': 941,\n",
       " 'parade': 942,\n",
       " 'trying': 943,\n",
       " 'released': 944,\n",
       " 'vs': 945,\n",
       " 'victory': 946,\n",
       " 'speaker': 947,\n",
       " 'sharing': 948,\n",
       " 'four': 949,\n",
       " 'affairs': 950,\n",
       " 'voice': 951,\n",
       " 'combat': 952,\n",
       " 'housing': 953,\n",
       " 'drug': 954,\n",
       " 'supreme': 955,\n",
       " 'gen': 956,\n",
       " 'short': 957,\n",
       " 'patients': 958,\n",
       " 'promise': 959,\n",
       " 'nice': 960,\n",
       " 'kansas': 961,\n",
       " 'facing': 962,\n",
       " 'helps': 963,\n",
       " 'clean': 964,\n",
       " 'fraud': 965,\n",
       " 'employers': 966,\n",
       " 'winning': 967,\n",
       " 'marine': 968,\n",
       " 'steps': 969,\n",
       " 'king': 970,\n",
       " 'blog': 971,\n",
       " 'led': 972,\n",
       " 'quality': 973,\n",
       " 'introduce': 974,\n",
       " 'youth': 975,\n",
       " 'con': 976,\n",
       " 'created': 977,\n",
       " 'offer': 978,\n",
       " 'oh': 979,\n",
       " 'mo': 980,\n",
       " 'situation': 981,\n",
       " 'looks': 982,\n",
       " 'dem': 983,\n",
       " 'concerned': 984,\n",
       " 'round': 985,\n",
       " 'opportunities': 986,\n",
       " 'possible': 987,\n",
       " 'works': 988,\n",
       " 'testify': 989,\n",
       " 'present': 990,\n",
       " 'promises': 991,\n",
       " 'ryan': 992,\n",
       " 'according': 993,\n",
       " 'helped': 994,\n",
       " 'travel': 995,\n",
       " 'personal': 996,\n",
       " 'cause': 997,\n",
       " 'cr': 998,\n",
       " 'challenges': 999,\n",
       " ...}"
      ]
     },
     "execution_count": 184,
     "metadata": {},
     "output_type": "execute_result"
    }
   ],
   "source": [
    "w.wv.key_to_index"
   ]
  },
  {
   "cell_type": "code",
   "execution_count": 185,
   "metadata": {},
   "outputs": [
    {
     "name": "stdout",
     "output_type": "stream",
     "text": [
      "[('assoc', 0.7440869212150574), ('educators', 0.7309499382972717), ('professionals', 0.7160816788673401), ('youth', 0.709441602230072), ('volunteers', 0.6907646059989929), ('area', 0.6907616257667542), ('communities', 0.6846391558647156), ('association', 0.6787053942680359), ('volunteer', 0.6763908863067627), ('counselors', 0.6753164529800415)]\n"
     ]
    }
   ],
   "source": [
    "print(w.wv.most_similar('community'))"
   ]
  },
  {
   "cell_type": "code",
   "execution_count": 177,
   "metadata": {},
   "outputs": [
    {
     "data": {
      "text/html": [
       "\n",
       "    <div class=\"bk-root\">\n",
       "        <a href=\"https://bokeh.org\" target=\"_blank\" class=\"bk-logo bk-logo-small bk-logo-notebook\"></a>\n",
       "        <span id=\"1314\">Loading BokehJS ...</span>\n",
       "    </div>"
      ]
     },
     "metadata": {},
     "output_type": "display_data"
    },
    {
     "data": {
      "application/javascript": [
       "\n",
       "(function(root) {\n",
       "  function now() {\n",
       "    return new Date();\n",
       "  }\n",
       "\n",
       "  var force = true;\n",
       "\n",
       "  if (typeof root._bokeh_onload_callbacks === \"undefined\" || force === true) {\n",
       "    root._bokeh_onload_callbacks = [];\n",
       "    root._bokeh_is_loading = undefined;\n",
       "  }\n",
       "\n",
       "  var JS_MIME_TYPE = 'application/javascript';\n",
       "  var HTML_MIME_TYPE = 'text/html';\n",
       "  var EXEC_MIME_TYPE = 'application/vnd.bokehjs_exec.v0+json';\n",
       "  var CLASS_NAME = 'output_bokeh rendered_html';\n",
       "\n",
       "  /**\n",
       "   * Render data to the DOM node\n",
       "   */\n",
       "  function render(props, node) {\n",
       "    var script = document.createElement(\"script\");\n",
       "    node.appendChild(script);\n",
       "  }\n",
       "\n",
       "  /**\n",
       "   * Handle when an output is cleared or removed\n",
       "   */\n",
       "  function handleClearOutput(event, handle) {\n",
       "    var cell = handle.cell;\n",
       "\n",
       "    var id = cell.output_area._bokeh_element_id;\n",
       "    var server_id = cell.output_area._bokeh_server_id;\n",
       "    // Clean up Bokeh references\n",
       "    if (id != null && id in Bokeh.index) {\n",
       "      Bokeh.index[id].model.document.clear();\n",
       "      delete Bokeh.index[id];\n",
       "    }\n",
       "\n",
       "    if (server_id !== undefined) {\n",
       "      // Clean up Bokeh references\n",
       "      var cmd = \"from bokeh.io.state import curstate; print(curstate().uuid_to_server['\" + server_id + \"'].get_sessions()[0].document.roots[0]._id)\";\n",
       "      cell.notebook.kernel.execute(cmd, {\n",
       "        iopub: {\n",
       "          output: function(msg) {\n",
       "            var id = msg.content.text.trim();\n",
       "            if (id in Bokeh.index) {\n",
       "              Bokeh.index[id].model.document.clear();\n",
       "              delete Bokeh.index[id];\n",
       "            }\n",
       "          }\n",
       "        }\n",
       "      });\n",
       "      // Destroy server and session\n",
       "      var cmd = \"import bokeh.io.notebook as ion; ion.destroy_server('\" + server_id + \"')\";\n",
       "      cell.notebook.kernel.execute(cmd);\n",
       "    }\n",
       "  }\n",
       "\n",
       "  /**\n",
       "   * Handle when a new output is added\n",
       "   */\n",
       "  function handleAddOutput(event, handle) {\n",
       "    var output_area = handle.output_area;\n",
       "    var output = handle.output;\n",
       "\n",
       "    // limit handleAddOutput to display_data with EXEC_MIME_TYPE content only\n",
       "    if ((output.output_type != \"display_data\") || (!output.data.hasOwnProperty(EXEC_MIME_TYPE))) {\n",
       "      return\n",
       "    }\n",
       "\n",
       "    var toinsert = output_area.element.find(\".\" + CLASS_NAME.split(' ')[0]);\n",
       "\n",
       "    if (output.metadata[EXEC_MIME_TYPE][\"id\"] !== undefined) {\n",
       "      toinsert[toinsert.length - 1].firstChild.textContent = output.data[JS_MIME_TYPE];\n",
       "      // store reference to embed id on output_area\n",
       "      output_area._bokeh_element_id = output.metadata[EXEC_MIME_TYPE][\"id\"];\n",
       "    }\n",
       "    if (output.metadata[EXEC_MIME_TYPE][\"server_id\"] !== undefined) {\n",
       "      var bk_div = document.createElement(\"div\");\n",
       "      bk_div.innerHTML = output.data[HTML_MIME_TYPE];\n",
       "      var script_attrs = bk_div.children[0].attributes;\n",
       "      for (var i = 0; i < script_attrs.length; i++) {\n",
       "        toinsert[toinsert.length - 1].firstChild.setAttribute(script_attrs[i].name, script_attrs[i].value);\n",
       "        toinsert[toinsert.length - 1].firstChild.textContent = bk_div.children[0].textContent\n",
       "      }\n",
       "      // store reference to server id on output_area\n",
       "      output_area._bokeh_server_id = output.metadata[EXEC_MIME_TYPE][\"server_id\"];\n",
       "    }\n",
       "  }\n",
       "\n",
       "  function register_renderer(events, OutputArea) {\n",
       "\n",
       "    function append_mime(data, metadata, element) {\n",
       "      // create a DOM node to render to\n",
       "      var toinsert = this.create_output_subarea(\n",
       "        metadata,\n",
       "        CLASS_NAME,\n",
       "        EXEC_MIME_TYPE\n",
       "      );\n",
       "      this.keyboard_manager.register_events(toinsert);\n",
       "      // Render to node\n",
       "      var props = {data: data, metadata: metadata[EXEC_MIME_TYPE]};\n",
       "      render(props, toinsert[toinsert.length - 1]);\n",
       "      element.append(toinsert);\n",
       "      return toinsert\n",
       "    }\n",
       "\n",
       "    /* Handle when an output is cleared or removed */\n",
       "    events.on('clear_output.CodeCell', handleClearOutput);\n",
       "    events.on('delete.Cell', handleClearOutput);\n",
       "\n",
       "    /* Handle when a new output is added */\n",
       "    events.on('output_added.OutputArea', handleAddOutput);\n",
       "\n",
       "    /**\n",
       "     * Register the mime type and append_mime function with output_area\n",
       "     */\n",
       "    OutputArea.prototype.register_mime_type(EXEC_MIME_TYPE, append_mime, {\n",
       "      /* Is output safe? */\n",
       "      safe: true,\n",
       "      /* Index of renderer in `output_area.display_order` */\n",
       "      index: 0\n",
       "    });\n",
       "  }\n",
       "\n",
       "  // register the mime type if in Jupyter Notebook environment and previously unregistered\n",
       "  if (root.Jupyter !== undefined) {\n",
       "    var events = require('base/js/events');\n",
       "    var OutputArea = require('notebook/js/outputarea').OutputArea;\n",
       "\n",
       "    if (OutputArea.prototype.mime_types().indexOf(EXEC_MIME_TYPE) == -1) {\n",
       "      register_renderer(events, OutputArea);\n",
       "    }\n",
       "  }\n",
       "\n",
       "  \n",
       "  if (typeof (root._bokeh_timeout) === \"undefined\" || force === true) {\n",
       "    root._bokeh_timeout = Date.now() + 5000;\n",
       "    root._bokeh_failed_load = false;\n",
       "  }\n",
       "\n",
       "  var NB_LOAD_WARNING = {'data': {'text/html':\n",
       "     \"<div style='background-color: #fdd'>\\n\"+\n",
       "     \"<p>\\n\"+\n",
       "     \"BokehJS does not appear to have successfully loaded. If loading BokehJS from CDN, this \\n\"+\n",
       "     \"may be due to a slow or bad network connection. Possible fixes:\\n\"+\n",
       "     \"</p>\\n\"+\n",
       "     \"<ul>\\n\"+\n",
       "     \"<li>re-rerun `output_notebook()` to attempt to load from CDN again, or</li>\\n\"+\n",
       "     \"<li>use INLINE resources instead, as so:</li>\\n\"+\n",
       "     \"</ul>\\n\"+\n",
       "     \"<code>\\n\"+\n",
       "     \"from bokeh.resources import INLINE\\n\"+\n",
       "     \"output_notebook(resources=INLINE)\\n\"+\n",
       "     \"</code>\\n\"+\n",
       "     \"</div>\"}};\n",
       "\n",
       "  function display_loaded() {\n",
       "    var el = document.getElementById(\"1314\");\n",
       "    if (el != null) {\n",
       "      el.textContent = \"BokehJS is loading...\";\n",
       "    }\n",
       "    if (root.Bokeh !== undefined) {\n",
       "      if (el != null) {\n",
       "        el.textContent = \"BokehJS \" + root.Bokeh.version + \" successfully loaded.\";\n",
       "      }\n",
       "    } else if (Date.now() < root._bokeh_timeout) {\n",
       "      setTimeout(display_loaded, 100)\n",
       "    }\n",
       "  }\n",
       "\n",
       "\n",
       "  function run_callbacks() {\n",
       "    try {\n",
       "      root._bokeh_onload_callbacks.forEach(function(callback) {\n",
       "        if (callback != null)\n",
       "          callback();\n",
       "      });\n",
       "    } finally {\n",
       "      delete root._bokeh_onload_callbacks\n",
       "    }\n",
       "    console.debug(\"Bokeh: all callbacks have finished\");\n",
       "  }\n",
       "\n",
       "  function load_libs(css_urls, js_urls, callback) {\n",
       "    if (css_urls == null) css_urls = [];\n",
       "    if (js_urls == null) js_urls = [];\n",
       "\n",
       "    root._bokeh_onload_callbacks.push(callback);\n",
       "    if (root._bokeh_is_loading > 0) {\n",
       "      console.debug(\"Bokeh: BokehJS is being loaded, scheduling callback at\", now());\n",
       "      return null;\n",
       "    }\n",
       "    if (js_urls == null || js_urls.length === 0) {\n",
       "      run_callbacks();\n",
       "      return null;\n",
       "    }\n",
       "    console.debug(\"Bokeh: BokehJS not loaded, scheduling load and callback at\", now());\n",
       "    root._bokeh_is_loading = css_urls.length + js_urls.length;\n",
       "\n",
       "    function on_load() {\n",
       "      root._bokeh_is_loading--;\n",
       "      if (root._bokeh_is_loading === 0) {\n",
       "        console.debug(\"Bokeh: all BokehJS libraries/stylesheets loaded\");\n",
       "        run_callbacks()\n",
       "      }\n",
       "    }\n",
       "\n",
       "    function on_error() {\n",
       "      console.error(\"failed to load \" + url);\n",
       "    }\n",
       "\n",
       "    for (var i = 0; i < css_urls.length; i++) {\n",
       "      var url = css_urls[i];\n",
       "      const element = document.createElement(\"link\");\n",
       "      element.onload = on_load;\n",
       "      element.onerror = on_error;\n",
       "      element.rel = \"stylesheet\";\n",
       "      element.type = \"text/css\";\n",
       "      element.href = url;\n",
       "      console.debug(\"Bokeh: injecting link tag for BokehJS stylesheet: \", url);\n",
       "      document.body.appendChild(element);\n",
       "    }\n",
       "\n",
       "    const hashes = {\"https://cdn.bokeh.org/bokeh/release/bokeh-2.1.1.min.js\": \"kLr4fYcqcSpbuI95brIH3vnnYCquzzSxHPU6XGQCIkQRGJwhg0StNbj1eegrHs12\", \"https://cdn.bokeh.org/bokeh/release/bokeh-widgets-2.1.1.min.js\": \"xIGPmVtaOm+z0BqfSOMn4lOR6ciex448GIKG4eE61LsAvmGj48XcMQZtKcE/UXZe\", \"https://cdn.bokeh.org/bokeh/release/bokeh-tables-2.1.1.min.js\": \"Dc9u1wF/0zApGIWoBbH77iWEHtdmkuYWG839Uzmv8y8yBLXebjO9ZnERsde5Ln/P\", \"https://cdn.bokeh.org/bokeh/release/bokeh-gl-2.1.1.min.js\": \"cT9JaBz7GiRXdENrJLZNSC6eMNF3nh3fa5fTF51Svp+ukxPdwcU5kGXGPBgDCa2j\"};\n",
       "\n",
       "    for (var i = 0; i < js_urls.length; i++) {\n",
       "      var url = js_urls[i];\n",
       "      var element = document.createElement('script');\n",
       "      element.onload = on_load;\n",
       "      element.onerror = on_error;\n",
       "      element.async = false;\n",
       "      element.src = url;\n",
       "      if (url in hashes) {\n",
       "        element.crossOrigin = \"anonymous\";\n",
       "        element.integrity = \"sha384-\" + hashes[url];\n",
       "      }\n",
       "      console.debug(\"Bokeh: injecting script tag for BokehJS library: \", url);\n",
       "      document.head.appendChild(element);\n",
       "    }\n",
       "  };\n",
       "\n",
       "  function inject_raw_css(css) {\n",
       "    const element = document.createElement(\"style\");\n",
       "    element.appendChild(document.createTextNode(css));\n",
       "    document.body.appendChild(element);\n",
       "  }\n",
       "\n",
       "  \n",
       "  var js_urls = [\"https://cdn.bokeh.org/bokeh/release/bokeh-2.1.1.min.js\", \"https://cdn.bokeh.org/bokeh/release/bokeh-widgets-2.1.1.min.js\", \"https://cdn.bokeh.org/bokeh/release/bokeh-tables-2.1.1.min.js\", \"https://cdn.bokeh.org/bokeh/release/bokeh-gl-2.1.1.min.js\"];\n",
       "  var css_urls = [];\n",
       "  \n",
       "\n",
       "  var inline_js = [\n",
       "    function(Bokeh) {\n",
       "      Bokeh.set_log_level(\"info\");\n",
       "    },\n",
       "    function(Bokeh) {\n",
       "    \n",
       "    \n",
       "    }\n",
       "  ];\n",
       "\n",
       "  function run_inline_js() {\n",
       "    \n",
       "    if (root.Bokeh !== undefined || force === true) {\n",
       "      \n",
       "    for (var i = 0; i < inline_js.length; i++) {\n",
       "      inline_js[i].call(root, root.Bokeh);\n",
       "    }\n",
       "    if (force === true) {\n",
       "        display_loaded();\n",
       "      }} else if (Date.now() < root._bokeh_timeout) {\n",
       "      setTimeout(run_inline_js, 100);\n",
       "    } else if (!root._bokeh_failed_load) {\n",
       "      console.log(\"Bokeh: BokehJS failed to load within specified timeout.\");\n",
       "      root._bokeh_failed_load = true;\n",
       "    } else if (force !== true) {\n",
       "      var cell = $(document.getElementById(\"1314\")).parents('.cell').data().cell;\n",
       "      cell.output_area.append_execute_result(NB_LOAD_WARNING)\n",
       "    }\n",
       "\n",
       "  }\n",
       "\n",
       "  if (root._bokeh_is_loading === 0) {\n",
       "    console.debug(\"Bokeh: BokehJS loaded, going straight to plotting\");\n",
       "    run_inline_js();\n",
       "  } else {\n",
       "    load_libs(css_urls, js_urls, function() {\n",
       "      console.debug(\"Bokeh: BokehJS plotting callback run at\", now());\n",
       "      run_inline_js();\n",
       "    });\n",
       "  }\n",
       "}(window));"
      ],
      "application/vnd.bokehjs_load.v0+json": "\n(function(root) {\n  function now() {\n    return new Date();\n  }\n\n  var force = true;\n\n  if (typeof root._bokeh_onload_callbacks === \"undefined\" || force === true) {\n    root._bokeh_onload_callbacks = [];\n    root._bokeh_is_loading = undefined;\n  }\n\n  \n\n  \n  if (typeof (root._bokeh_timeout) === \"undefined\" || force === true) {\n    root._bokeh_timeout = Date.now() + 5000;\n    root._bokeh_failed_load = false;\n  }\n\n  var NB_LOAD_WARNING = {'data': {'text/html':\n     \"<div style='background-color: #fdd'>\\n\"+\n     \"<p>\\n\"+\n     \"BokehJS does not appear to have successfully loaded. If loading BokehJS from CDN, this \\n\"+\n     \"may be due to a slow or bad network connection. Possible fixes:\\n\"+\n     \"</p>\\n\"+\n     \"<ul>\\n\"+\n     \"<li>re-rerun `output_notebook()` to attempt to load from CDN again, or</li>\\n\"+\n     \"<li>use INLINE resources instead, as so:</li>\\n\"+\n     \"</ul>\\n\"+\n     \"<code>\\n\"+\n     \"from bokeh.resources import INLINE\\n\"+\n     \"output_notebook(resources=INLINE)\\n\"+\n     \"</code>\\n\"+\n     \"</div>\"}};\n\n  function display_loaded() {\n    var el = document.getElementById(\"1314\");\n    if (el != null) {\n      el.textContent = \"BokehJS is loading...\";\n    }\n    if (root.Bokeh !== undefined) {\n      if (el != null) {\n        el.textContent = \"BokehJS \" + root.Bokeh.version + \" successfully loaded.\";\n      }\n    } else if (Date.now() < root._bokeh_timeout) {\n      setTimeout(display_loaded, 100)\n    }\n  }\n\n\n  function run_callbacks() {\n    try {\n      root._bokeh_onload_callbacks.forEach(function(callback) {\n        if (callback != null)\n          callback();\n      });\n    } finally {\n      delete root._bokeh_onload_callbacks\n    }\n    console.debug(\"Bokeh: all callbacks have finished\");\n  }\n\n  function load_libs(css_urls, js_urls, callback) {\n    if (css_urls == null) css_urls = [];\n    if (js_urls == null) js_urls = [];\n\n    root._bokeh_onload_callbacks.push(callback);\n    if (root._bokeh_is_loading > 0) {\n      console.debug(\"Bokeh: BokehJS is being loaded, scheduling callback at\", now());\n      return null;\n    }\n    if (js_urls == null || js_urls.length === 0) {\n      run_callbacks();\n      return null;\n    }\n    console.debug(\"Bokeh: BokehJS not loaded, scheduling load and callback at\", now());\n    root._bokeh_is_loading = css_urls.length + js_urls.length;\n\n    function on_load() {\n      root._bokeh_is_loading--;\n      if (root._bokeh_is_loading === 0) {\n        console.debug(\"Bokeh: all BokehJS libraries/stylesheets loaded\");\n        run_callbacks()\n      }\n    }\n\n    function on_error() {\n      console.error(\"failed to load \" + url);\n    }\n\n    for (var i = 0; i < css_urls.length; i++) {\n      var url = css_urls[i];\n      const element = document.createElement(\"link\");\n      element.onload = on_load;\n      element.onerror = on_error;\n      element.rel = \"stylesheet\";\n      element.type = \"text/css\";\n      element.href = url;\n      console.debug(\"Bokeh: injecting link tag for BokehJS stylesheet: \", url);\n      document.body.appendChild(element);\n    }\n\n    const hashes = {\"https://cdn.bokeh.org/bokeh/release/bokeh-2.1.1.min.js\": \"kLr4fYcqcSpbuI95brIH3vnnYCquzzSxHPU6XGQCIkQRGJwhg0StNbj1eegrHs12\", \"https://cdn.bokeh.org/bokeh/release/bokeh-widgets-2.1.1.min.js\": \"xIGPmVtaOm+z0BqfSOMn4lOR6ciex448GIKG4eE61LsAvmGj48XcMQZtKcE/UXZe\", \"https://cdn.bokeh.org/bokeh/release/bokeh-tables-2.1.1.min.js\": \"Dc9u1wF/0zApGIWoBbH77iWEHtdmkuYWG839Uzmv8y8yBLXebjO9ZnERsde5Ln/P\", \"https://cdn.bokeh.org/bokeh/release/bokeh-gl-2.1.1.min.js\": \"cT9JaBz7GiRXdENrJLZNSC6eMNF3nh3fa5fTF51Svp+ukxPdwcU5kGXGPBgDCa2j\"};\n\n    for (var i = 0; i < js_urls.length; i++) {\n      var url = js_urls[i];\n      var element = document.createElement('script');\n      element.onload = on_load;\n      element.onerror = on_error;\n      element.async = false;\n      element.src = url;\n      if (url in hashes) {\n        element.crossOrigin = \"anonymous\";\n        element.integrity = \"sha384-\" + hashes[url];\n      }\n      console.debug(\"Bokeh: injecting script tag for BokehJS library: \", url);\n      document.head.appendChild(element);\n    }\n  };\n\n  function inject_raw_css(css) {\n    const element = document.createElement(\"style\");\n    element.appendChild(document.createTextNode(css));\n    document.body.appendChild(element);\n  }\n\n  \n  var js_urls = [\"https://cdn.bokeh.org/bokeh/release/bokeh-2.1.1.min.js\", \"https://cdn.bokeh.org/bokeh/release/bokeh-widgets-2.1.1.min.js\", \"https://cdn.bokeh.org/bokeh/release/bokeh-tables-2.1.1.min.js\", \"https://cdn.bokeh.org/bokeh/release/bokeh-gl-2.1.1.min.js\"];\n  var css_urls = [];\n  \n\n  var inline_js = [\n    function(Bokeh) {\n      Bokeh.set_log_level(\"info\");\n    },\n    function(Bokeh) {\n    \n    \n    }\n  ];\n\n  function run_inline_js() {\n    \n    if (root.Bokeh !== undefined || force === true) {\n      \n    for (var i = 0; i < inline_js.length; i++) {\n      inline_js[i].call(root, root.Bokeh);\n    }\n    if (force === true) {\n        display_loaded();\n      }} else if (Date.now() < root._bokeh_timeout) {\n      setTimeout(run_inline_js, 100);\n    } else if (!root._bokeh_failed_load) {\n      console.log(\"Bokeh: BokehJS failed to load within specified timeout.\");\n      root._bokeh_failed_load = true;\n    } else if (force !== true) {\n      var cell = $(document.getElementById(\"1314\")).parents('.cell').data().cell;\n      cell.output_area.append_execute_result(NB_LOAD_WARNING)\n    }\n\n  }\n\n  if (root._bokeh_is_loading === 0) {\n    console.debug(\"Bokeh: BokehJS loaded, going straight to plotting\");\n    run_inline_js();\n  } else {\n    load_libs(css_urls, js_urls, function() {\n      console.debug(\"Bokeh: BokehJS plotting callback run at\", now());\n      run_inline_js();\n    });\n  }\n}(window));"
     },
     "metadata": {},
     "output_type": "display_data"
    },
    {
     "name": "stdout",
     "output_type": "stream",
     "text": [
      "[t-SNE] Computing 91 nearest neighbors...\n",
      "[t-SNE] Indexed 1000 samples in 0.021s...\n",
      "[t-SNE] Computed neighbors for 1000 samples in 0.329s...\n",
      "[t-SNE] Computed conditional probabilities for sample 1000 / 1000\n",
      "[t-SNE] Mean sigma: 2.076039\n",
      "[t-SNE] KL divergence after 250 iterations with early exaggeration: 77.920471\n",
      "[t-SNE] KL divergence after 1000 iterations: 1.491723\n"
     ]
    },
    {
     "data": {
      "text/html": [
       "\n",
       "\n",
       "\n",
       "\n",
       "\n",
       "\n",
       "  <div class=\"bk-root\" id=\"3a77020a-6da6-4411-ab69-6fab44e72180\" data-root-id=\"1315\"></div>\n"
      ]
     },
     "metadata": {},
     "output_type": "display_data"
    },
    {
     "data": {
      "application/javascript": [
       "(function(root) {\n",
       "  function embed_document(root) {\n",
       "    \n",
       "  var docs_json = {\"a2836bc7-c131-4339-ab07-df3dd2dd32ad\":{\"roots\":{\"references\":[{\"attributes\":{\"min_border\":1,\"plot_width\":700,\"renderers\":[{\"id\":\"1342\"}],\"title\":{\"id\":\"1316\"},\"toolbar\":{\"id\":\"1332\"},\"x_range\":{\"id\":\"1318\"},\"x_scale\":{\"id\":\"1322\"},\"y_range\":{\"id\":\"1320\"},\"y_scale\":{\"id\":\"1324\"}},\"id\":\"1315\",\"subtype\":\"Figure\",\"type\":\"Plot\"},{\"attributes\":{\"fill_alpha\":{\"value\":0.1},\"fill_color\":{\"value\":\"#1f77b4\"},\"line_alpha\":{\"value\":0.1},\"line_color\":{\"value\":\"#1f77b4\"},\"x\":{\"field\":\"x\"},\"y\":{\"field\":\"y\"}},\"id\":\"1341\",\"type\":\"Scatter\"},{\"attributes\":{},\"id\":\"1320\",\"type\":\"DataRange1d\"},{\"attributes\":{\"data\":{\"index\":[0,1,2,3,4,5,6,7,8,9,10,11,12,13,14,15,16,17,18,19,20,21,22,23,24,25,26,27,28,29,30,31,32,33,34,35,36,37,38,39,40,41,42,43,44,45,46,47,48,49,50,51,52,53,54,55,56,57,58,59,60,61,62,63,64,65,66,67,68,69,70,71,72,73,74,75,76,77,78,79,80,81,82,83,84,85,86,87,88,89,90,91,92,93,94,95,96,97,98,99,100,101,102,103,104,105,106,107,108,109,110,111,112,113,114,115,116,117,118,119,120,121,122,123,124,125,126,127,128,129,130,131,132,133,134,135,136,137,138,139,140,141,142,143,144,145,146,147,148,149,150,151,152,153,154,155,156,157,158,159,160,161,162,163,164,165,166,167,168,169,170,171,172,173,174,175,176,177,178,179,180,181,182,183,184,185,186,187,188,189,190,191,192,193,194,195,196,197,198,199,200,201,202,203,204,205,206,207,208,209,210,211,212,213,214,215,216,217,218,219,220,221,222,223,224,225,226,227,228,229,230,231,232,233,234,235,236,237,238,239,240,241,242,243,244,245,246,247,248,249,250,251,252,253,254,255,256,257,258,259,260,261,262,263,264,265,266,267,268,269,270,271,272,273,274,275,276,277,278,279,280,281,282,283,284,285,286,287,288,289,290,291,292,293,294,295,296,297,298,299,300,301,302,303,304,305,306,307,308,309,310,311,312,313,314,315,316,317,318,319,320,321,322,323,324,325,326,327,328,329,330,331,332,333,334,335,336,337,338,339,340,341,342,343,344,345,346,347,348,349,350,351,352,353,354,355,356,357,358,359,360,361,362,363,364,365,366,367,368,369,370,371,372,373,374,375,376,377,378,379,380,381,382,383,384,385,386,387,388,389,390,391,392,393,394,395,396,397,398,399,400,401,402,403,404,405,406,407,408,409,410,411,412,413,414,415,416,417,418,419,420,421,422,423,424,425,426,427,428,429,430,431,432,433,434,435,436,437,438,439,440,441,442,443,444,445,446,447,448,449,450,451,452,453,454,455,456,457,458,459,460,461,462,463,464,465,466,467,468,469,470,471,472,473,474,475,476,477,478,479,480,481,482,483,484,485,486,487,488,489,490,491,492,493,494,495,496,497,498,499,500,501,502,503,504,505,506,507,508,509,510,511,512,513,514,515,516,517,518,519,520,521,522,523,524,525,526,527,528,529,530,531,532,533,534,535,536,537,538,539,540,541,542,543,544,545,546,547,548,549,550,551,552,553,554,555,556,557,558,559,560,561,562,563,564,565,566,567,568,569,570,571,572,573,574,575,576,577,578,579,580,581,582,583,584,585,586,587,588,589,590,591,592,593,594,595,596,597,598,599,600,601,602,603,604,605,606,607,608,609,610,611,612,613,614,615,616,617,618,619,620,621,622,623,624,625,626,627,628,629,630,631,632,633,634,635,636,637,638,639,640,641,642,643,644,645,646,647,648,649,650,651,652,653,654,655,656,657,658,659,660,661,662,663,664,665,666,667,668,669,670,671,672,673,674,675,676,677,678,679,680,681,682,683,684,685,686,687,688,689,690,691,692,693,694,695,696,697,698,699,700,701,702,703,704,705,706,707,708,709,710,711,712,713,714,715,716,717,718,719,720,721,722,723,724,725,726,727,728,729,730,731,732,733,734,735,736,737,738,739,740,741,742,743,744,745,746,747,748,749,750,751,752,753,754,755,756,757,758,759,760,761,762,763,764,765,766,767,768,769,770,771,772,773,774,775,776,777,778,779,780,781,782,783,784,785,786,787,788,789,790,791,792,793,794,795,796,797,798,799,800,801,802,803,804,805,806,807,808,809,810,811,812,813,814,815,816,817,818,819,820,821,822,823,824,825,826,827,828,829,830,831,832,833,834,835,836,837,838,839,840,841,842,843,844,845,846,847,848,849,850,851,852,853,854,855,856,857,858,859,860,861,862,863,864,865,866,867,868,869,870,871,872,873,874,875,876,877,878,879,880,881,882,883,884,885,886,887,888,889,890,891,892,893,894,895,896,897,898,899,900,901,902,903,904,905,906,907,908,909,910,911,912,913,914,915,916,917,918,919,920,921,922,923,924,925,926,927,928,929,930,931,932,933,934,935,936,937,938,939,940,941,942,943,944,945,946,947,948,949,950,951,952,953,954,955,956,957,958,959,960,961,962,963,964,965,966,967,968,969,970,971,972,973,974,975,976,977,978,979,980,981,982,983,984,985,986,987,988,989,990,991,992,993,994,995,996,997,998,999],\"words\":[\"our\",\"we\",\"house\",\"bill\",\"president\",\"obama\",\"act\",\"us\",\"watch\",\"senate\",\"jobs\",\"time\",\"live\",\"hearing\",\"support\",\"work\",\"need\",\"read\",\"health\",\"help\",\"good\",\"congress\",\"tax\",\"budget\",\"american\",\"must\",\"americans\",\"obamacare\",\"via\",\"get\",\"happy\",\"discuss\",\"video\",\"last\",\"see\",\"pm\",\"office\",\"care\",\"people\",\"sen\",\"tune\",\"vote\",\"passed\",\"one\",\"meeting\",\"tonight\",\"state\",\"year\",\"join\",\"job\",\"plan\",\"proud\",\"spending\",\"floor\",\"would\",\"like\",\"rep\",\"law\",\"national\",\"energy\",\"news\",\"america\",\"families\",\"keep\",\"tomorrow\",\"debt\",\"talk\",\"check\",\"economy\",\"co\",\"service\",\"make\",\"first\",\"forward\",\"washington\",\"veterans\",\"government\",\"honor\",\"students\",\"reform\",\"back\",\"years\",\"yesterday\",\"visit\",\"take\",\"federal\",\"staff\",\"icymi\",\"talking\",\"stop\",\"small\",\"business\",\"congrats\",\"working\",\"committee\",\"hall\",\"women\",\"mt\",\"looking\",\"voted\",\"go\",\"family\",\"gop\",\"next\",\"town\",\"way\",\"military\",\"county\",\"st\",\"nation\",\"dc\",\"know\",\"speaking\",\"gov\",\"listen\",\"right\",\"please\",\"report\",\"bipartisan\",\"let\",\"security\",\"school\",\"protect\",\"night\",\"want\",\"members\",\"statement\",\"hope\",\"another\",\"honored\",\"va\",\"bills\",\"high\",\"call\",\"congressional\",\"many\",\"legislation\",\"still\",\"senator\",\"show\",\"birthday\",\"country\",\"says\",\"joining\",\"local\",\"ed\",\"meet\",\"community\",\"amendment\",\"home\",\"address\",\"issues\",\"create\",\"best\",\"million\",\"enjoyed\",\"look\",\"questions\",\"thoughts\",\"agree\",\"learn\",\"latest\",\"potus\",\"hear\",\"congressman\",\"businesses\",\"pass\",\"op\",\"important\",\"pres\",\"interview\",\"continue\",\"district\",\"economic\",\"going\",\"big\",\"could\",\"full\",\"growth\",\"glad\",\"world\",\"cut\",\"capitol\",\"speech\",\"story\",\"open\",\"tour\",\"spoke\",\"since\",\"public\",\"better\",\"program\",\"speak\",\"end\",\"govt\",\"come\",\"met\",\"info\",\"made\",\"every\",\"needs\",\"prayers\",\"discussing\",\"center\",\"congratulations\",\"cuts\",\"leaders\",\"taxes\",\"think\",\"freedom\",\"facebook\",\"fight\",\"part\",\"chairman\",\"admin\",\"future\",\"et\",\"irs\",\"pay\",\"everyone\",\"administration\",\"sure\",\"policy\",\"give\",\"long\",\"joined\",\"action\",\"conference\",\"insurance\",\"say\",\"life\",\"find\",\"sign\",\"hr\",\"photo\",\"days\",\"free\",\"friend\",\"leadership\",\"event\",\"fb\",\"hours\",\"team\",\"costs\",\"ct\",\"weekly\",\"coming\",\"getting\",\"city\",\"welcome\",\"states\",\"much\",\"share\",\"always\",\"thx\",\"visiting\",\"repeal\",\"safe\",\"ago\",\"award\",\"student\",\"lost\",\"funding\",\"hosting\",\"remember\",\"efforts\",\"press\",\"top\",\"air\",\"friends\",\"deserve\",\"workers\",\"update\",\"white\",\"afternoon\",\"increase\",\"fair\",\"discussion\",\"ly\",\"de\",\"war\",\"fed\",\"month\",\"letter\",\"anniversary\",\"republicans\",\"put\",\"real\",\"rights\",\"ready\",\"hard\",\"follow\",\"two\",\"victims\",\"vets\",\"pipeline\",\"supporting\",\"regulations\",\"crisis\",\"taking\",\"said\",\"online\",\"making\",\"gas\",\"stand\",\"around\",\"texas\",\"epa\",\"holding\",\"democrats\",\"immigration\",\"well\",\"en\",\"opportunity\",\"class\",\"sec\",\"never\",\"children\",\"even\",\"education\",\"together\",\"use\",\"access\",\"introduced\",\"delay\",\"border\",\"start\",\"men\",\"hold\",\"cost\",\"defense\",\"also\",\"colleagues\",\"debate\",\"yrs\",\"middle\",\"photos\",\"policies\",\"impact\",\"win\",\"newsletter\",\"special\",\"click\",\"voting\",\"game\",\"system\",\"power\",\"receive\",\"website\",\"mcconnell\",\"post\",\"college\",\"details\",\"memorial\",\"healthcare\",\"dems\",\"lives\",\"water\",\"provide\",\"decision\",\"done\",\"kids\",\"minutes\",\"yes\",\"constituents\",\"young\",\"got\",\"across\",\"employees\",\"pleased\",\"billion\",\"issue\",\"group\",\"court\",\"political\",\"farm\",\"serve\",\"weekend\",\"ensure\",\"radio\",\"release\",\"strong\",\"folks\",\"votes\",\"helping\",\"force\",\"biz\",\"la\",\"fiscal\",\"save\",\"medicare\",\"john\",\"member\",\"problem\",\"west\",\"stay\",\"change\",\"hill\",\"benefits\",\"abt\",\"case\",\"prices\",\"ask\",\"information\",\"deal\",\"rule\",\"control\",\"question\",\"history\",\"fighting\",\"ag\",\"signed\",\"art\",\"bit\",\"nd\",\"missed\",\"trillion\",\"competition\",\"republican\",\"luck\",\"continues\",\"step\",\"safety\",\"yet\",\"dr\",\"solutions\",\"annual\",\"secretary\",\"fox\",\"subcommittee\",\"celebrate\",\"fix\",\"plans\",\"seniors\",\"taxpayer\",\"ceremony\",\"less\",\"appreciate\",\"opening\",\"taxpayers\",\"programs\",\"bring\",\"research\",\"friday\",\"medical\",\"posted\",\"chair\",\"reduce\",\"believe\",\"due\",\"bad\",\"page\",\"reid\",\"deficit\",\"services\",\"constitution\",\"calls\",\"unemployment\",\"tell\",\"money\",\"article\",\"term\",\"recent\",\"mr\",\"recovery\",\"times\",\"shows\",\"officials\",\"academy\",\"accountability\",\"former\",\"united\",\"usa\",\"shutdown\",\"mark\",\"troops\",\"raise\",\"failed\",\"red\",\"north\",\"higher\",\"record\",\"forget\",\"coverage\",\"response\",\"mandate\",\"food\",\"without\",\"headed\",\"cmte\",\"oil\",\"union\",\"heading\",\"chamber\",\"resources\",\"answers\",\"rules\",\"means\",\"god\",\"heroes\",\"things\",\"oversight\",\"resolution\",\"south\",\"creation\",\"prevent\",\"area\",\"central\",\"happening\",\"rates\",\"passing\",\"concerns\",\"soon\",\"army\",\"leader\",\"schedule\",\"trade\",\"keystone\",\"foreign\",\"calling\",\"solution\",\"list\",\"place\",\"mobile\",\"reports\",\"able\",\"answer\",\"attack\",\"problems\",\"industry\",\"importance\",\"already\",\"critical\",\"took\",\"true\",\"serious\",\"private\",\"al\",\"rate\",\"nearly\",\"grow\",\"miss\",\"discussed\",\"fire\",\"earlier\",\"named\",\"fact\",\"excited\",\"politics\",\"left\",\"majority\",\"makes\",\"sanders\",\"session\",\"past\",\"ever\",\"including\",\"came\",\"communities\",\"pro\",\"general\",\"affected\",\"code\",\"current\",\"farmers\",\"cosponsor\",\"hour\",\"asked\",\"fund\",\"needed\",\"loan\",\"passes\",\"enough\",\"yr\",\"protecting\",\"israel\",\"sent\",\"really\",\"party\",\"data\",\"editorial\",\"premiums\",\"lower\",\"set\",\"conversation\",\"legislative\",\"honoring\",\"innovation\",\"later\",\"ceiling\",\"away\",\"human\",\"reminder\",\"link\",\"updates\",\"affordable\",\"roundtable\",\"relief\",\"column\",\"targeting\",\"improve\",\"talks\",\"htt\",\"schools\",\"little\",\"lead\",\"regarding\",\"residents\",\"syria\",\"celebrating\",\"benghazi\",\"common\",\"love\",\"cutting\",\"abuse\",\"july\",\"threat\",\"millions\",\"others\",\"disaster\",\"wonderful\",\"saturday\",\"visited\",\"park\",\"violence\",\"man\",\"regs\",\"ways\",\"project\",\"monday\",\"send\",\"held\",\"proposed\",\"key\",\"effort\",\"building\",\"giving\",\"wishing\",\"old\",\"proposal\",\"coal\",\"following\",\"starting\",\"allow\",\"passage\",\"commerce\",\"board\",\"creating\",\"forum\",\"balanced\",\"broken\",\"listening\",\"assistance\",\"laws\",\"order\",\"conservative\",\"executive\",\"view\",\"move\",\"association\",\"balance\",\"christmas\",\"mayor\",\"ohio\",\"justice\",\"ht\",\"senators\",\"focus\",\"process\",\"sacrifice\",\"limit\",\"moment\",\"brave\",\"raising\",\"review\",\"owners\",\"wwii\",\"poll\",\"using\",\"fy\",\"development\",\"wants\",\"remarks\",\"tweet\",\"pa\",\"ppl\",\"called\",\"chief\",\"facility\",\"veteran\",\"iran\",\"wh\",\"training\",\"holder\",\"number\",\"domestic\",\"official\",\"corker\",\"sunday\",\"line\",\"robert\",\"companies\",\"groups\",\"host\",\"guard\",\"stopping\",\"reforms\",\"transparency\",\"accountable\",\"breaking\",\"words\",\"major\",\"served\",\"touring\",\"tx\",\"fellow\",\"clear\",\"nothing\",\"regulatory\",\"protection\",\"medal\",\"growing\",\"gave\",\"attending\",\"global\",\"rd\",\"lunch\",\"labor\",\"months\",\"thousands\",\"paid\",\"sense\",\"media\",\"east\",\"pleasure\",\"production\",\"success\",\"study\",\"spent\",\"wish\",\"independence\",\"beautiful\",\"stopped\",\"build\",\"events\",\"standing\",\"social\",\"early\",\"serving\",\"nat\",\"valley\",\"chance\",\"assault\",\"run\",\"dept\",\"march\",\"caucus\",\"cbo\",\"aid\",\"heard\",\"citizens\",\"seeing\",\"far\",\"trip\",\"director\",\"field\",\"manufacturing\",\"spend\",\"face\",\"rural\",\"coffee\",\"mtg\",\"tech\",\"breakfast\",\"takes\",\"waste\",\"talked\",\"thing\",\"season\",\"wrong\",\"role\",\"ahead\",\"cannot\",\"scandal\",\"creators\",\"low\",\"police\",\"child\",\"emergency\",\"nuclear\",\"announced\",\"dollars\",\"grant\",\"responsible\",\"sector\",\"message\",\"council\",\"based\",\"ur\",\"point\",\"attacks\",\"cc\",\"market\",\"internet\",\"financial\",\"cancer\",\"piece\",\"secure\",\"workforce\",\"afghanistan\",\"summer\",\"flood\",\"investigation\",\"funds\",\"sessions\",\"grateful\",\"half\",\"second\",\"evening\",\"ideas\",\"keeping\",\"paul\",\"reason\",\"interest\",\"sexual\",\"hurt\",\"hs\",\"agency\",\"instead\",\"numbers\",\"religious\",\"club\",\"behind\",\"campaign\",\"lot\",\"gets\",\"announce\",\"close\",\"final\",\"liberty\",\"el\",\"choice\",\"panel\",\"science\",\"roll\",\"april\",\"credit\",\"representatives\",\"moving\",\"illegal\",\"agreement\",\"leading\",\"priority\",\"become\",\"transportation\",\"natural\",\"asking\",\"finally\",\"interested\",\"est\",\"told\",\"restore\",\"tuesday\",\"election\",\"road\",\"risk\",\"received\",\"delegation\",\"actions\",\"gun\",\"shortly\",\"head\",\"word\",\"claims\",\"flag\",\"iraq\",\"truth\",\"wednesday\",\"album\",\"site\",\"awareness\",\"survey\",\"cont\",\"strategy\",\"reps\",\"push\",\"june\",\"guest\",\"defend\",\"wait\",\"waiting\",\"consider\",\"cosponsoring\",\"approve\",\"heart\",\"summit\",\"company\",\"path\",\"fort\",\"supports\",\"individual\",\"trust\",\"hit\",\"three\",\"colleague\",\"weather\",\"mike\",\"trafficking\",\"death\",\"per\",\"used\",\"lake\",\"department\",\"encourage\",\"challenge\",\"thursday\",\"hospital\",\"enjoy\",\"counties\",\"huge\",\"return\",\"exchange\",\"infrastructure\",\"urge\",\"commitment\",\"joint\",\"armed\",\"something\",\"remain\",\"failure\",\"nc\",\"available\",\"catch\",\"retweet\",\"tape\",\"increases\",\"senior\",\"forces\",\"markup\",\"attend\",\"deadline\",\"facts\",\"parade\",\"trying\",\"released\",\"vs\",\"victory\",\"speaker\",\"sharing\",\"four\",\"affairs\",\"voice\",\"combat\",\"housing\",\"drug\",\"supreme\",\"gen\",\"short\",\"patients\",\"promise\",\"nice\",\"kansas\",\"facing\",\"helps\",\"clean\",\"fraud\",\"employers\",\"winning\",\"marine\",\"steps\",\"king\",\"blog\",\"led\",\"quality\",\"introduce\",\"youth\",\"con\",\"created\",\"offer\",\"oh\",\"mo\",\"situation\",\"looks\",\"dem\",\"concerned\",\"round\",\"opportunities\",\"possible\",\"works\",\"testify\",\"present\",\"promises\",\"ryan\",\"according\",\"helped\",\"travel\",\"personal\",\"cause\",\"cr\",\"challenges\"],\"x\":{\"__ndarray__\":\"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\",\"dtype\":\"float32\",\"order\":\"little\",\"shape\":[1000]},\"y\":{\"__ndarray__\":\"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\",\"dtype\":\"float32\",\"order\":\"little\",\"shape\":[1000]}},\"selected\":{\"id\":\"1346\"},\"selection_policy\":{\"id\":\"1345\"}},\"id\":\"1338\",\"type\":\"ColumnDataSource\"},{\"attributes\":{},\"id\":\"1346\",\"type\":\"Selection\"},{\"attributes\":{\"data_source\":{\"id\":\"1338\"},\"glyph\":{\"id\":\"1340\"},\"hover_glyph\":null,\"muted_glyph\":null,\"nonselection_glyph\":{\"id\":\"1341\"},\"selection_glyph\":null,\"view\":{\"id\":\"1343\"}},\"id\":\"1342\",\"type\":\"GlyphRenderer\"},{\"attributes\":{},\"id\":\"1329\",\"type\":\"ResetTool\"},{\"attributes\":{\"bottom_units\":\"screen\",\"fill_alpha\":0.5,\"fill_color\":\"lightgrey\",\"left_units\":\"screen\",\"level\":\"overlay\",\"line_alpha\":1.0,\"line_color\":\"black\",\"line_dash\":[4,4],\"line_width\":2,\"right_units\":\"screen\",\"top_units\":\"screen\"},\"id\":\"1331\",\"type\":\"BoxAnnotation\"},{\"attributes\":{},\"id\":\"1322\",\"type\":\"LinearScale\"},{\"attributes\":{\"callback\":null,\"tooltips\":[[\"word\",\"@words\"]]},\"id\":\"1330\",\"type\":\"HoverTool\"},{\"attributes\":{},\"id\":\"1345\",\"type\":\"UnionRenderers\"},{\"attributes\":{\"active_drag\":\"auto\",\"active_inspect\":\"auto\",\"active_multi\":null,\"active_scroll\":\"auto\",\"active_tap\":\"auto\",\"tools\":[{\"id\":\"1326\"},{\"id\":\"1327\"},{\"id\":\"1328\"},{\"id\":\"1329\"},{\"id\":\"1330\"}]},\"id\":\"1332\",\"type\":\"Toolbar\"},{\"attributes\":{},\"id\":\"1318\",\"type\":\"DataRange1d\"},{\"attributes\":{\"text\":\"A map of 10000 word vectors\"},\"id\":\"1316\",\"type\":\"Title\"},{\"attributes\":{},\"id\":\"1326\",\"type\":\"PanTool\"},{\"attributes\":{},\"id\":\"1324\",\"type\":\"LinearScale\"},{\"attributes\":{},\"id\":\"1327\",\"type\":\"WheelZoomTool\"},{\"attributes\":{\"overlay\":{\"id\":\"1331\"}},\"id\":\"1328\",\"type\":\"BoxZoomTool\"},{\"attributes\":{\"source\":{\"id\":\"1338\"}},\"id\":\"1343\",\"type\":\"CDSView\"},{\"attributes\":{\"fill_color\":{\"value\":\"#1f77b4\"},\"line_color\":{\"value\":\"#1f77b4\"},\"x\":{\"field\":\"x\"},\"y\":{\"field\":\"y\"}},\"id\":\"1340\",\"type\":\"Scatter\"}],\"root_ids\":[\"1315\"]},\"title\":\"Bokeh Application\",\"version\":\"2.1.1\"}};\n",
       "  var render_items = [{\"docid\":\"a2836bc7-c131-4339-ab07-df3dd2dd32ad\",\"root_ids\":[\"1315\"],\"roots\":{\"1315\":\"3a77020a-6da6-4411-ab69-6fab44e72180\"}}];\n",
       "  root.Bokeh.embed.embed_items_notebook(docs_json, render_items);\n",
       "\n",
       "  }\n",
       "  if (root.Bokeh !== undefined) {\n",
       "    embed_document(root);\n",
       "  } else {\n",
       "    var attempts = 0;\n",
       "    var timer = setInterval(function(root) {\n",
       "      if (root.Bokeh !== undefined) {\n",
       "        clearInterval(timer);\n",
       "        embed_document(root);\n",
       "      } else {\n",
       "        attempts++;\n",
       "        if (attempts > 100) {\n",
       "          clearInterval(timer);\n",
       "          console.log(\"Bokeh: ERROR: Unable to run BokehJS code because BokehJS library is missing\");\n",
       "        }\n",
       "      }\n",
       "    }, 10, root)\n",
       "  }\n",
       "})(window);"
      ],
      "application/vnd.bokehjs_exec.v0+json": ""
     },
     "metadata": {
      "application/vnd.bokehjs_exec.v0+json": {
       "id": "1315"
      }
     },
     "output_type": "display_data"
    }
   ],
   "source": [
    "# importing bokeh library for interactive dataviz\n",
    "import bokeh.plotting as bp\n",
    "from bokeh.models import HoverTool, BoxSelectTool\n",
    "from bokeh.plotting import figure, show, output_notebook\n",
    "\n",
    "# defining the chart\n",
    "output_notebook()\n",
    "plot_tfidf = bp.figure(plot_width=700, plot_height=600, title=\"A map of 10000 word vectors\",\n",
    "    tools=\"pan,wheel_zoom,box_zoom,reset,hover\",\n",
    "    x_axis_type=None, y_axis_type=None, min_border=1)\n",
    "\n",
    "# getting a list of word vectors. limit to 10000. each is of 200 dimensions\n",
    "word_vectors = [w.wv[word] for word in list(w.wv.key_to_index)[:1000]]\n",
    "\n",
    "# dimensionality reduction. converting the vectors to 2d vectors\n",
    "from sklearn.manifold import TSNE\n",
    "tsne_model = TSNE(n_components=2, verbose=1, random_state=0)\n",
    "tsne_w2v = tsne_model.fit_transform(word_vectors)\n",
    "\n",
    "# putting everything in a dataframe\n",
    "tsne_df = pd.DataFrame(tsne_w2v, columns=['x', 'y'])\n",
    "tsne_df['words'] = list(w.wv.key_to_index)[:1000]\n",
    "\n",
    "# plotting. the corresponding word appears when you hover on the data point.\n",
    "plot_tfidf.scatter(x='x', y='y', source=tsne_df)\n",
    "hover = plot_tfidf.select(dict(type=HoverTool))\n",
    "hover.tooltips={\"word\": \"@words\"}\n",
    "show(plot_tfidf)"
   ]
  },
  {
   "cell_type": "code",
   "execution_count": 187,
   "metadata": {},
   "outputs": [
    {
     "name": "stdout",
     "output_type": "stream",
     "text": [
      "vocab size : 9085\n"
     ]
    }
   ],
   "source": [
    "# building tf-idf matrix \n",
    "vectorizer = TfidfVectorizer(min_df=10)\n",
    "# matrix = vectorizer.fit_transform([x.words for x in X_train])\n",
    "matrix = vectorizer.fit_transform(X_train['pre_processed_data'])\n",
    "tfidf = dict(zip(vectorizer.get_feature_names(), vectorizer.idf_))\n",
    "print('vocab size :', len(tfidf))"
   ]
  },
  {
   "cell_type": "code",
   "execution_count": 188,
   "metadata": {},
   "outputs": [],
   "source": [
    "def buildWordVector(tokens, size):\n",
    "    vec = np.zeros(size).reshape((1, size))\n",
    "    count = 0.\n",
    "    for word in tokens:\n",
    "        try:\n",
    "            vec += w.wv[word].reshape((1, size)) * tfidf[word]\n",
    "            count += 1.\n",
    "        except KeyError: # handling the case where the token is not\n",
    "                         # in the corpus. useful for testing.\n",
    "            continue\n",
    "    if count != 0:\n",
    "        vec /= count\n",
    "    return vec"
   ]
  },
  {
   "cell_type": "code",
   "execution_count": 200,
   "metadata": {},
   "outputs": [
    {
     "name": "stderr",
     "output_type": "stream",
     "text": [
      "0it [00:00, ?it/s]\n"
     ]
    },
    {
     "ename": "TypeError",
     "evalue": "'Series' object is not callable",
     "output_type": "error",
     "traceback": [
      "\u001b[1;31m---------------------------------------------------------------------------\u001b[0m",
      "\u001b[1;31mTypeError\u001b[0m                                 Traceback (most recent call last)",
      "\u001b[1;32m<ipython-input-200-8676d5cf529b>\u001b[0m in \u001b[0;36m<module>\u001b[1;34m\u001b[0m\n\u001b[0;32m      1\u001b[0m \u001b[1;32mfrom\u001b[0m \u001b[0msklearn\u001b[0m\u001b[1;33m.\u001b[0m\u001b[0mpreprocessing\u001b[0m \u001b[1;32mimport\u001b[0m \u001b[0mscale\u001b[0m\u001b[1;33m\u001b[0m\u001b[1;33m\u001b[0m\u001b[0m\n\u001b[1;32m----> 2\u001b[1;33m \u001b[0mtrain_vecs_w2v\u001b[0m \u001b[1;33m=\u001b[0m \u001b[0mnp\u001b[0m\u001b[1;33m.\u001b[0m\u001b[0mconcatenate\u001b[0m\u001b[1;33m(\u001b[0m\u001b[1;33m[\u001b[0m\u001b[0mbuildWordVector\u001b[0m\u001b[1;33m(\u001b[0m\u001b[0mz\u001b[0m\u001b[1;33m,\u001b[0m \u001b[0mn_dim\u001b[0m\u001b[1;33m)\u001b[0m \u001b[1;32mfor\u001b[0m \u001b[0mz\u001b[0m \u001b[1;32min\u001b[0m \u001b[0mtqdm\u001b[0m\u001b[1;33m(\u001b[0m\u001b[0mmap\u001b[0m\u001b[1;33m(\u001b[0m\u001b[0mX_train\u001b[0m\u001b[1;33m[\u001b[0m\u001b[1;34m'tokens_no_stop'\u001b[0m\u001b[1;33m]\u001b[0m\u001b[1;33m,\u001b[0m \u001b[0mX_test\u001b[0m\u001b[1;33m)\u001b[0m\u001b[1;33m)\u001b[0m\u001b[1;33m]\u001b[0m\u001b[1;33m)\u001b[0m\u001b[1;33m\u001b[0m\u001b[1;33m\u001b[0m\u001b[0m\n\u001b[0m\u001b[0;32m      3\u001b[0m \u001b[0mtrain_vecs_w2v\u001b[0m \u001b[1;33m=\u001b[0m \u001b[0mscale\u001b[0m\u001b[1;33m(\u001b[0m\u001b[0mtrain_vecs_w2v\u001b[0m\u001b[1;33m)\u001b[0m\u001b[1;33m\u001b[0m\u001b[1;33m\u001b[0m\u001b[0m\n\u001b[0;32m      4\u001b[0m \u001b[1;33m\u001b[0m\u001b[0m\n\u001b[0;32m      5\u001b[0m \u001b[0mtest_vecs_w2v\u001b[0m \u001b[1;33m=\u001b[0m \u001b[0mnp\u001b[0m\u001b[1;33m.\u001b[0m\u001b[0mconcatenate\u001b[0m\u001b[1;33m(\u001b[0m\u001b[1;33m[\u001b[0m\u001b[0mbuildWordVector\u001b[0m\u001b[1;33m(\u001b[0m\u001b[0mz\u001b[0m\u001b[1;33m,\u001b[0m \u001b[0mn_dim\u001b[0m\u001b[1;33m)\u001b[0m \u001b[1;32mfor\u001b[0m \u001b[0mz\u001b[0m \u001b[1;32min\u001b[0m \u001b[0mtqdm\u001b[0m\u001b[1;33m(\u001b[0m\u001b[0mmap\u001b[0m\u001b[1;33m(\u001b[0m\u001b[1;32mlambda\u001b[0m \u001b[0mx\u001b[0m\u001b[1;33m:\u001b[0m \u001b[0mx\u001b[0m\u001b[1;33m.\u001b[0m\u001b[0mwords\u001b[0m\u001b[1;33m,\u001b[0m \u001b[0mX_test\u001b[0m\u001b[1;33m)\u001b[0m\u001b[1;33m)\u001b[0m\u001b[1;33m]\u001b[0m\u001b[1;33m)\u001b[0m\u001b[1;33m\u001b[0m\u001b[1;33m\u001b[0m\u001b[0m\n",
      "\u001b[1;32m<ipython-input-200-8676d5cf529b>\u001b[0m in \u001b[0;36m<listcomp>\u001b[1;34m(.0)\u001b[0m\n\u001b[0;32m      1\u001b[0m \u001b[1;32mfrom\u001b[0m \u001b[0msklearn\u001b[0m\u001b[1;33m.\u001b[0m\u001b[0mpreprocessing\u001b[0m \u001b[1;32mimport\u001b[0m \u001b[0mscale\u001b[0m\u001b[1;33m\u001b[0m\u001b[1;33m\u001b[0m\u001b[0m\n\u001b[1;32m----> 2\u001b[1;33m \u001b[0mtrain_vecs_w2v\u001b[0m \u001b[1;33m=\u001b[0m \u001b[0mnp\u001b[0m\u001b[1;33m.\u001b[0m\u001b[0mconcatenate\u001b[0m\u001b[1;33m(\u001b[0m\u001b[1;33m[\u001b[0m\u001b[0mbuildWordVector\u001b[0m\u001b[1;33m(\u001b[0m\u001b[0mz\u001b[0m\u001b[1;33m,\u001b[0m \u001b[0mn_dim\u001b[0m\u001b[1;33m)\u001b[0m \u001b[1;32mfor\u001b[0m \u001b[0mz\u001b[0m \u001b[1;32min\u001b[0m \u001b[0mtqdm\u001b[0m\u001b[1;33m(\u001b[0m\u001b[0mmap\u001b[0m\u001b[1;33m(\u001b[0m\u001b[0mX_train\u001b[0m\u001b[1;33m[\u001b[0m\u001b[1;34m'tokens_no_stop'\u001b[0m\u001b[1;33m]\u001b[0m\u001b[1;33m,\u001b[0m \u001b[0mX_test\u001b[0m\u001b[1;33m)\u001b[0m\u001b[1;33m)\u001b[0m\u001b[1;33m]\u001b[0m\u001b[1;33m)\u001b[0m\u001b[1;33m\u001b[0m\u001b[1;33m\u001b[0m\u001b[0m\n\u001b[0m\u001b[0;32m      3\u001b[0m \u001b[0mtrain_vecs_w2v\u001b[0m \u001b[1;33m=\u001b[0m \u001b[0mscale\u001b[0m\u001b[1;33m(\u001b[0m\u001b[0mtrain_vecs_w2v\u001b[0m\u001b[1;33m)\u001b[0m\u001b[1;33m\u001b[0m\u001b[1;33m\u001b[0m\u001b[0m\n\u001b[0;32m      4\u001b[0m \u001b[1;33m\u001b[0m\u001b[0m\n\u001b[0;32m      5\u001b[0m \u001b[0mtest_vecs_w2v\u001b[0m \u001b[1;33m=\u001b[0m \u001b[0mnp\u001b[0m\u001b[1;33m.\u001b[0m\u001b[0mconcatenate\u001b[0m\u001b[1;33m(\u001b[0m\u001b[1;33m[\u001b[0m\u001b[0mbuildWordVector\u001b[0m\u001b[1;33m(\u001b[0m\u001b[0mz\u001b[0m\u001b[1;33m,\u001b[0m \u001b[0mn_dim\u001b[0m\u001b[1;33m)\u001b[0m \u001b[1;32mfor\u001b[0m \u001b[0mz\u001b[0m \u001b[1;32min\u001b[0m \u001b[0mtqdm\u001b[0m\u001b[1;33m(\u001b[0m\u001b[0mmap\u001b[0m\u001b[1;33m(\u001b[0m\u001b[1;32mlambda\u001b[0m \u001b[0mx\u001b[0m\u001b[1;33m:\u001b[0m \u001b[0mx\u001b[0m\u001b[1;33m.\u001b[0m\u001b[0mwords\u001b[0m\u001b[1;33m,\u001b[0m \u001b[0mX_test\u001b[0m\u001b[1;33m)\u001b[0m\u001b[1;33m)\u001b[0m\u001b[1;33m]\u001b[0m\u001b[1;33m)\u001b[0m\u001b[1;33m\u001b[0m\u001b[1;33m\u001b[0m\u001b[0m\n",
      "\u001b[1;32m~\\anaconda3\\lib\\site-packages\\tqdm\\std.py\u001b[0m in \u001b[0;36m__iter__\u001b[1;34m(self)\u001b[0m\n\u001b[0;32m   1127\u001b[0m \u001b[1;33m\u001b[0m\u001b[0m\n\u001b[0;32m   1128\u001b[0m         \u001b[1;32mtry\u001b[0m\u001b[1;33m:\u001b[0m\u001b[1;33m\u001b[0m\u001b[1;33m\u001b[0m\u001b[0m\n\u001b[1;32m-> 1129\u001b[1;33m             \u001b[1;32mfor\u001b[0m \u001b[0mobj\u001b[0m \u001b[1;32min\u001b[0m \u001b[0miterable\u001b[0m\u001b[1;33m:\u001b[0m\u001b[1;33m\u001b[0m\u001b[1;33m\u001b[0m\u001b[0m\n\u001b[0m\u001b[0;32m   1130\u001b[0m                 \u001b[1;32myield\u001b[0m \u001b[0mobj\u001b[0m\u001b[1;33m\u001b[0m\u001b[1;33m\u001b[0m\u001b[0m\n\u001b[0;32m   1131\u001b[0m                 \u001b[1;31m# Update and possibly print the progressbar.\u001b[0m\u001b[1;33m\u001b[0m\u001b[1;33m\u001b[0m\u001b[1;33m\u001b[0m\u001b[0m\n",
      "\u001b[1;31mTypeError\u001b[0m: 'Series' object is not callable"
     ]
    }
   ],
   "source": [
    "from sklearn.preprocessing import scale\n",
    "train_vecs_w2v = np.concatenate([buildWordVector(z, n_dim) for z in tqdm(map(X_train['tokens_no_stop'], X_test))])\n",
    "train_vecs_w2v = scale(train_vecs_w2v)\n",
    "\n",
    "test_vecs_w2v = np.concatenate([buildWordVector(z, n_dim) for z in tqdm(map(lambda x: x.words, X_test))])\n",
    "test_vecs_w2v = scale(test_vecs_w2v)"
   ]
  },
  {
   "cell_type": "code",
   "execution_count": 203,
   "metadata": {},
   "outputs": [
    {
     "data": {
      "text/plain": [
       "<map at 0x181ebab2eb0>"
      ]
     },
     "execution_count": 203,
     "metadata": {},
     "output_type": "execute_result"
    }
   ],
   "source": [
    "map(X_train['tokens_no_stop'], X_test)"
   ]
  },
  {
   "cell_type": "code",
   "execution_count": 116,
   "metadata": {},
   "outputs": [
    {
     "name": "stdout",
     "output_type": "stream",
     "text": [
      "MultinomialNB Accuracy: 0.5926087613546687\n",
      "Baseline test classification accuracy: 0.5774803969306714\n"
     ]
    }
   ],
   "source": [
    "from sklearn.naive_bayes import MultinomialNB\n",
    "from sklearn import metrics\n",
    "# Model Generation Using Multinomial Naive Bayes\n",
    "clf = MultinomialNB().fit(X_train, y_train)\n",
    "predicted= clf.predict(X_test)\n",
    "print(\"MultinomialNB Accuracy:\",metrics.accuracy_score(y_test, predicted))\n",
    "print(\"Baseline test classification accuracy:\", q3b_score)"
   ]
  },
  {
   "cell_type": "code",
   "execution_count": 141,
   "metadata": {},
   "outputs": [
    {
     "name": "stdout",
     "output_type": "stream",
     "text": [
      "Index of the word religion\n",
      "4260\n",
      "16611\n",
      "Length of the vector generated for a word\n",
      "100\n"
     ]
    }
   ],
   "source": [
    "# Unique ID of the word\n",
    "query_word = 'religion'\n",
    "print(\"Index of the word\", query_word)\n",
    "print(w.wv.key_to_index[query_word])\n",
    "# Total number of the words \n",
    "print(len(w.wv.key_to_index))\n",
    "# Print the size of the word2vec vector for one word\n",
    "print(\"Length of the vector generated for a word\")\n",
    "print(len(w.wv[query_word]))"
   ]
  },
  {
   "cell_type": "code",
   "execution_count": 143,
   "metadata": {
    "scrolled": false
   },
   "outputs": [
    {
     "name": "stdout",
     "output_type": "stream",
     "text": [
      "(16611, 100)\n"
     ]
    },
    {
     "data": {
      "text/html": [
       "<div>\n",
       "<style scoped>\n",
       "    .dataframe tbody tr th:only-of-type {\n",
       "        vertical-align: middle;\n",
       "    }\n",
       "\n",
       "    .dataframe tbody tr th {\n",
       "        vertical-align: top;\n",
       "    }\n",
       "\n",
       "    .dataframe thead th {\n",
       "        text-align: right;\n",
       "    }\n",
       "</style>\n",
       "<table border=\"1\" class=\"dataframe\">\n",
       "  <thead>\n",
       "    <tr style=\"text-align: right;\">\n",
       "      <th></th>\n",
       "      <th>0</th>\n",
       "      <th>1</th>\n",
       "      <th>2</th>\n",
       "      <th>3</th>\n",
       "      <th>4</th>\n",
       "      <th>5</th>\n",
       "      <th>6</th>\n",
       "      <th>7</th>\n",
       "      <th>8</th>\n",
       "      <th>9</th>\n",
       "      <th>...</th>\n",
       "      <th>90</th>\n",
       "      <th>91</th>\n",
       "      <th>92</th>\n",
       "      <th>93</th>\n",
       "      <th>94</th>\n",
       "      <th>95</th>\n",
       "      <th>96</th>\n",
       "      <th>97</th>\n",
       "      <th>98</th>\n",
       "      <th>99</th>\n",
       "    </tr>\n",
       "  </thead>\n",
       "  <tbody>\n",
       "    <tr>\n",
       "      <th>our</th>\n",
       "      <td>1.070760</td>\n",
       "      <td>0.325571</td>\n",
       "      <td>1.193099</td>\n",
       "      <td>2.566163</td>\n",
       "      <td>-0.977201</td>\n",
       "      <td>-0.383961</td>\n",
       "      <td>0.798205</td>\n",
       "      <td>1.417024</td>\n",
       "      <td>-1.377232</td>\n",
       "      <td>-0.728594</td>\n",
       "      <td>...</td>\n",
       "      <td>0.193705</td>\n",
       "      <td>0.625514</td>\n",
       "      <td>0.629348</td>\n",
       "      <td>1.417931</td>\n",
       "      <td>-0.092715</td>\n",
       "      <td>-0.051292</td>\n",
       "      <td>-1.218122</td>\n",
       "      <td>-0.221755</td>\n",
       "      <td>-1.595130</td>\n",
       "      <td>0.493718</td>\n",
       "    </tr>\n",
       "    <tr>\n",
       "      <th>we</th>\n",
       "      <td>1.324048</td>\n",
       "      <td>0.397283</td>\n",
       "      <td>0.708408</td>\n",
       "      <td>0.455871</td>\n",
       "      <td>1.033912</td>\n",
       "      <td>-0.410837</td>\n",
       "      <td>0.420820</td>\n",
       "      <td>1.491829</td>\n",
       "      <td>-1.644401</td>\n",
       "      <td>0.069073</td>\n",
       "      <td>...</td>\n",
       "      <td>0.705769</td>\n",
       "      <td>1.239558</td>\n",
       "      <td>0.293303</td>\n",
       "      <td>0.456430</td>\n",
       "      <td>-0.083984</td>\n",
       "      <td>-0.104699</td>\n",
       "      <td>0.451872</td>\n",
       "      <td>1.213585</td>\n",
       "      <td>-2.288532</td>\n",
       "      <td>0.297692</td>\n",
       "    </tr>\n",
       "    <tr>\n",
       "      <th>house</th>\n",
       "      <td>0.684576</td>\n",
       "      <td>1.275239</td>\n",
       "      <td>-1.011310</td>\n",
       "      <td>-0.340593</td>\n",
       "      <td>0.735484</td>\n",
       "      <td>1.516457</td>\n",
       "      <td>-0.981299</td>\n",
       "      <td>1.450576</td>\n",
       "      <td>-1.840786</td>\n",
       "      <td>0.366629</td>\n",
       "      <td>...</td>\n",
       "      <td>0.632657</td>\n",
       "      <td>1.580444</td>\n",
       "      <td>1.825545</td>\n",
       "      <td>2.064918</td>\n",
       "      <td>1.918953</td>\n",
       "      <td>-0.792977</td>\n",
       "      <td>0.515167</td>\n",
       "      <td>-0.270702</td>\n",
       "      <td>0.568371</td>\n",
       "      <td>-1.042821</td>\n",
       "    </tr>\n",
       "    <tr>\n",
       "      <th>bill</th>\n",
       "      <td>3.041535</td>\n",
       "      <td>1.893282</td>\n",
       "      <td>0.140134</td>\n",
       "      <td>-1.229263</td>\n",
       "      <td>0.097280</td>\n",
       "      <td>-0.431760</td>\n",
       "      <td>-0.174846</td>\n",
       "      <td>3.015607</td>\n",
       "      <td>1.518377</td>\n",
       "      <td>-0.794879</td>\n",
       "      <td>...</td>\n",
       "      <td>-0.885838</td>\n",
       "      <td>0.307571</td>\n",
       "      <td>0.718005</td>\n",
       "      <td>1.606065</td>\n",
       "      <td>1.409756</td>\n",
       "      <td>-1.655414</td>\n",
       "      <td>1.127797</td>\n",
       "      <td>-1.395968</td>\n",
       "      <td>0.124681</td>\n",
       "      <td>-1.120092</td>\n",
       "    </tr>\n",
       "    <tr>\n",
       "      <th>president</th>\n",
       "      <td>-0.215919</td>\n",
       "      <td>1.472266</td>\n",
       "      <td>-2.404221</td>\n",
       "      <td>0.398328</td>\n",
       "      <td>0.653888</td>\n",
       "      <td>-0.172182</td>\n",
       "      <td>0.956753</td>\n",
       "      <td>0.333430</td>\n",
       "      <td>-2.979373</td>\n",
       "      <td>-0.491912</td>\n",
       "      <td>...</td>\n",
       "      <td>2.553267</td>\n",
       "      <td>-0.854544</td>\n",
       "      <td>-1.830601</td>\n",
       "      <td>-0.305329</td>\n",
       "      <td>1.260466</td>\n",
       "      <td>-3.750298</td>\n",
       "      <td>0.312079</td>\n",
       "      <td>-0.130310</td>\n",
       "      <td>-1.476925</td>\n",
       "      <td>-0.383498</td>\n",
       "    </tr>\n",
       "  </tbody>\n",
       "</table>\n",
       "<p>5 rows × 100 columns</p>\n",
       "</div>"
      ],
      "text/plain": [
       "                 0         1         2         3         4         5   \\\n",
       "our        1.070760  0.325571  1.193099  2.566163 -0.977201 -0.383961   \n",
       "we         1.324048  0.397283  0.708408  0.455871  1.033912 -0.410837   \n",
       "house      0.684576  1.275239 -1.011310 -0.340593  0.735484  1.516457   \n",
       "bill       3.041535  1.893282  0.140134 -1.229263  0.097280 -0.431760   \n",
       "president -0.215919  1.472266 -2.404221  0.398328  0.653888 -0.172182   \n",
       "\n",
       "                 6         7         8         9   ...        90        91  \\\n",
       "our        0.798205  1.417024 -1.377232 -0.728594  ...  0.193705  0.625514   \n",
       "we         0.420820  1.491829 -1.644401  0.069073  ...  0.705769  1.239558   \n",
       "house     -0.981299  1.450576 -1.840786  0.366629  ...  0.632657  1.580444   \n",
       "bill      -0.174846  3.015607  1.518377 -0.794879  ... -0.885838  0.307571   \n",
       "president  0.956753  0.333430 -2.979373 -0.491912  ...  2.553267 -0.854544   \n",
       "\n",
       "                 92        93        94        95        96        97  \\\n",
       "our        0.629348  1.417931 -0.092715 -0.051292 -1.218122 -0.221755   \n",
       "we         0.293303  0.456430 -0.083984 -0.104699  0.451872  1.213585   \n",
       "house      1.825545  2.064918  1.918953 -0.792977  0.515167 -0.270702   \n",
       "bill       0.718005  1.606065  1.409756 -1.655414  1.127797 -1.395968   \n",
       "president -1.830601 -0.305329  1.260466 -3.750298  0.312079 -0.130310   \n",
       "\n",
       "                 98        99  \n",
       "our       -1.595130  0.493718  \n",
       "we        -2.288532  0.297692  \n",
       "house      0.568371 -1.042821  \n",
       "bill       0.124681 -1.120092  \n",
       "president -1.476925 -0.383498  \n",
       "\n",
       "[5 rows x 100 columns]"
      ]
     },
     "execution_count": 143,
     "metadata": {},
     "output_type": "execute_result"
    }
   ],
   "source": [
    "emb_df = (pd.DataFrame([w.wv.get_vector(str(n)) for n in w.wv.key_to_index],index = w.wv.key_to_index))\n",
    "print(emb_df.shape)\n",
    "emb_df.head()"
   ]
  },
  {
   "cell_type": "code",
   "execution_count": 218,
   "metadata": {},
   "outputs": [],
   "source": [
    "from sklearn.model_selection import train_test_split\n",
    "X_train, X_test, Y_train, Y_test = train_test_split(df['tokens_no_stop'], df['party'], test_size=0.3, random_state=123)"
   ]
  },
  {
   "cell_type": "code",
   "execution_count": 219,
   "metadata": {},
   "outputs": [],
   "source": [
    "w = w2v(sentences = X_train)       "
   ]
  },
  {
   "cell_type": "code",
   "execution_count": 221,
   "metadata": {},
   "outputs": [
    {
     "ename": "ValueError",
     "evalue": "too many values to unpack (expected 2)",
     "output_type": "error",
     "traceback": [
      "\u001b[1;31m---------------------------------------------------------------------------\u001b[0m",
      "\u001b[1;31mValueError\u001b[0m                                Traceback (most recent call last)",
      "\u001b[1;32m<ipython-input-221-5d9b1f898819>\u001b[0m in \u001b[0;36m<module>\u001b[1;34m\u001b[0m\n\u001b[0;32m      1\u001b[0m \u001b[0mword2vec_file\u001b[0m \u001b[1;33m=\u001b[0m \u001b[1;33m[\u001b[0m\u001b[1;33m]\u001b[0m\u001b[1;33m\u001b[0m\u001b[1;33m\u001b[0m\u001b[0m\n\u001b[1;32m----> 2\u001b[1;33m \u001b[1;32mfor\u001b[0m \u001b[0mindex\u001b[0m\u001b[1;33m,\u001b[0m \u001b[0mrow\u001b[0m \u001b[1;32min\u001b[0m \u001b[0mX_train\u001b[0m\u001b[1;33m:\u001b[0m\u001b[1;33m\u001b[0m\u001b[1;33m\u001b[0m\u001b[0m\n\u001b[0m\u001b[0;32m      3\u001b[0m     \u001b[0mmodel_vector\u001b[0m \u001b[1;33m=\u001b[0m \u001b[1;33m(\u001b[0m\u001b[0mnp\u001b[0m\u001b[1;33m.\u001b[0m\u001b[0mmean\u001b[0m\u001b[1;33m(\u001b[0m\u001b[1;33m[\u001b[0m\u001b[0mw\u001b[0m\u001b[1;33m.\u001b[0m\u001b[0mwv\u001b[0m\u001b[1;33m[\u001b[0m\u001b[0mtoken\u001b[0m\u001b[1;33m]\u001b[0m \u001b[1;32mfor\u001b[0m \u001b[0mtoken\u001b[0m \u001b[1;32min\u001b[0m \u001b[0mrow\u001b[0m\u001b[1;33m[\u001b[0m\u001b[1;34m'tokens_no_stop'\u001b[0m\u001b[1;33m]\u001b[0m\u001b[1;33m]\u001b[0m\u001b[1;33m,\u001b[0m \u001b[0maxis\u001b[0m\u001b[1;33m=\u001b[0m\u001b[1;36m0\u001b[0m\u001b[1;33m)\u001b[0m\u001b[1;33m)\u001b[0m\u001b[1;33m.\u001b[0m\u001b[0mtolist\u001b[0m\u001b[1;33m(\u001b[0m\u001b[1;33m)\u001b[0m\u001b[1;33m\u001b[0m\u001b[1;33m\u001b[0m\u001b[0m\n\u001b[0;32m      4\u001b[0m     \u001b[1;32mif\u001b[0m \u001b[0mindex\u001b[0m \u001b[1;33m==\u001b[0m \u001b[1;36m0\u001b[0m\u001b[1;33m:\u001b[0m\u001b[1;33m\u001b[0m\u001b[1;33m\u001b[0m\u001b[0m\n\u001b[0;32m      5\u001b[0m         \u001b[0mheader\u001b[0m \u001b[1;33m=\u001b[0m \u001b[1;34m\",\"\u001b[0m\u001b[1;33m.\u001b[0m\u001b[0mjoin\u001b[0m\u001b[1;33m(\u001b[0m\u001b[0mstr\u001b[0m\u001b[1;33m(\u001b[0m\u001b[0mele\u001b[0m\u001b[1;33m)\u001b[0m \u001b[1;32mfor\u001b[0m \u001b[0mele\u001b[0m \u001b[1;32min\u001b[0m \u001b[0mrange\u001b[0m\u001b[1;33m(\u001b[0m\u001b[1;36m1000\u001b[0m\u001b[1;33m)\u001b[0m\u001b[1;33m)\u001b[0m\u001b[1;33m\u001b[0m\u001b[1;33m\u001b[0m\u001b[0m\n",
      "\u001b[1;31mValueError\u001b[0m: too many values to unpack (expected 2)"
     ]
    }
   ],
   "source": [
    "word2vec_file = []\n",
    "for index, row in X_train:\n",
    "    model_vector = (np.mean([w.wv[token] for token in row['tokens_no_stop']], axis=0)).tolist()\n",
    "    if index == 0:\n",
    "        header = \",\".join(str(ele) for ele in range(1000))\n",
    "        word2vec_file.write(header)\n",
    "        word2vec_file.write(\"\\n\")\n",
    "    # Check if the line exists else it is vector of zeros\n",
    "    if type(model_vector) is list:  \n",
    "        line1 = \",\".join( [str(vector_element) for vector_element in model_vector] )\n",
    "    else:\n",
    "        line1 = \",\".join([str(0) for i in range(1000)])\n",
    "    word2vec_file.append(line1)"
   ]
  },
  {
   "cell_type": "code",
   "execution_count": 240,
   "metadata": {},
   "outputs": [
    {
     "name": "stdout",
     "output_type": "stream",
     "text": [
      "[-1.6919923   0.3714983  -0.51234645  0.06962162  2.1093228  -0.65382016\n",
      " -0.88860774  2.0328965  -0.46586767  0.6478289   0.21549103 -0.72803384\n",
      " -1.1635325   2.3953424   0.06372695 -1.2738762  -0.82727754 -0.3013087\n",
      "  1.5077192  -1.842655    2.200907   -0.7926729  -0.01411707  0.82403994\n",
      " -0.37796718  0.51796824  1.3198849   0.6164454  -0.79698247 -2.247772\n",
      "  0.40313658  1.6544118  -1.0633128   0.24146228  2.339932   -0.34462947\n",
      "  0.54225    -0.76326466 -0.10003366  0.15679766  0.27792972  0.2945629\n",
      "  0.24801615 -0.9995285   2.0061073  -0.7571606   0.78527856 -0.5374225\n",
      "  0.89058745 -2.564652    0.445872    0.31696427  0.61569256  0.21289891\n",
      "  1.9121288   0.32397836  0.04451586 -0.13533546  0.5570333   0.215709\n",
      "  1.4395288  -1.327733   -0.1948616  -1.5758663   0.26892856 -0.1812597\n",
      "  0.16835178  1.2228539  -1.3554116   2.5481286   0.16689913  0.62852985\n",
      "  0.45553422  0.6463241   1.7818794   1.2851717  -0.75557977 -0.01615557\n",
      " -0.29079303 -0.7339247  -2.2054217  -0.04451727 -0.13603069  0.3158335\n",
      " -1.3329331   0.49934632  2.3192446   0.4769804   1.1445899  -1.483337\n",
      " -0.14773029  0.7719122   1.1094941  -0.09572362 -0.37833637 -0.7730624\n",
      "  0.14185481 -0.32107252  2.136638    0.99861073]\n",
      "[ 0.24339002  0.08449616  0.201639   -0.13168009 -1.3880924  -0.5004213\n",
      " -0.29172537  0.07397271 -1.8131589   0.6349311  -0.4206017  -1.4628427\n",
      " -0.00545934 -0.50305885  0.8760532  -0.927855    0.53592116 -1.0923439\n",
      " -0.4028548  -0.88391256 -1.8557574   0.79812986  1.1640507  -0.72135603\n",
      " -2.242449    1.2756996  -1.259115   -0.1750731  -0.16917033  1.5143603\n",
      "  0.62448007  1.0549012  -0.39477372 -0.48772272  0.6981009   0.22361827\n",
      " -0.5757031  -0.6146402  -0.85150295  0.01616872  0.39428923 -0.086516\n",
      "  0.17596082  0.1101253  -0.1317423   0.07874148 -0.2719345   0.94857234\n",
      " -0.29490566 -0.45961985  0.5979693  -1.3766804  -0.14913763 -0.28433913\n",
      " -1.4011635   0.07572259  0.10256878 -0.56116605 -0.09948793  0.5298154\n",
      " -0.7267607  -0.42742306 -1.1469208  -0.46122912  0.3091988  -0.37894574\n",
      " -0.57412034  0.35052803 -1.0276566   0.14742197  0.8545012  -0.60432285\n",
      "  0.8929961  -0.19456229 -0.6715972   0.45862392 -0.8928764  -0.65243596\n",
      " -0.5566533  -0.86624235  1.1534331  -0.32225722  0.5396334  -0.4630315\n",
      "  0.69884586 -0.05043786 -0.41742477  0.8114773   1.1111246   2.108533\n",
      "  0.8832121  -1.0727347  -2.354947   -0.22757363 -1.0058892   0.68886966\n",
      " -0.18941438  0.54525936  0.9844948  -0.09045214]\n",
      "[-0.26738656  0.34923673 -0.06362791  0.3328196  -0.28253964 -0.13249624\n",
      "  0.30155212  0.42988637 -0.35372055 -0.06439858 -0.11672133 -0.3523604\n",
      " -0.22102489  0.18557687 -0.19676441 -0.50281817  0.13631763 -0.24790965\n",
      " -0.00991331 -0.22221193 -1.0140364   0.07560728  0.15892532 -0.46270695\n",
      " -0.6376304   0.1653656  -0.42841208 -0.62340987 -0.1155743   0.34182316\n",
      "  0.18531102  0.14553834 -0.08576334 -0.18559356  0.30125546  0.9393806\n",
      " -0.17828827 -0.20308164  0.23360841 -0.30774605  0.37774116 -0.11184283\n",
      "  0.01187794 -0.12206914  0.01978881 -0.11849794 -0.16948952 -0.1564686\n",
      "  0.1107877   0.04275148  0.28555757 -0.5252601   0.4011892   0.13543126\n",
      " -0.3035318   0.5158045   0.43176785 -0.09356694  0.05280225  0.07598212\n",
      " -0.32938677 -0.13140571 -0.12842302 -0.10119787 -0.63439924  0.084385\n",
      " -0.0403151   0.54759896 -0.18362425  0.30768508  0.03779837 -0.00744417\n",
      " -0.09072004 -0.03599271  0.6312949  -0.06062887 -0.47702935  0.3201191\n",
      " -0.34630814  0.40815115 -0.34143263 -0.30343974 -0.04978048 -0.3546341\n",
      "  0.34954196 -0.35331252 -0.21708918  0.07794406  0.69256985  0.66262573\n",
      "  0.2533205  -0.01527487 -0.33425647 -0.3008637   0.05255677 -0.22100653\n",
      "  0.5250458  -0.15733254  0.5705192  -0.23759767]\n",
      "[-0.12845877 -0.03717586 -0.09912685  1.087504   -0.02671942 -0.66100466\n",
      "  0.9881212  -0.14850652 -0.687758   -0.13705967 -0.4048895  -0.4367353\n",
      " -1.2850915  -1.0216445  -0.1489876   1.0741012  -1.085599    0.16209477\n",
      "  0.5946914  -0.5473039  -0.23192826 -0.7563155  -0.41001245 -0.33881375\n",
      " -0.23254378  0.6400777  -0.9276092   0.876832   -0.3313005  -0.22547099\n",
      "  0.09837191  1.280283    0.6575866   0.81611735  0.15564215  0.8194282\n",
      "  1.6557288   0.6987774   0.3955608  -1.3055304  -0.26435202 -0.25486714\n",
      " -1.5724887  -0.7308884   0.95782363  0.16145127 -0.7230993   0.01586194\n",
      " -0.359898   -1.0092971   1.6001437  -1.5948857   1.2995387   0.53290164\n",
      "  0.582356    0.24140689 -0.03967023  0.35280743 -0.03749021  0.569262\n",
      " -0.6903873  -0.49461132  0.54753524 -1.7254035  -0.7859664  -0.4740799\n",
      "  0.02240346  0.1757245  -0.8907502   1.4123081  -0.09847777  0.5049312\n",
      " -1.4299316  -0.8835388   0.54247946  0.8749227   0.21763961 -1.0570216\n",
      " -0.69572544 -0.723725   -1.0513273  -0.4993858  -0.5524153   0.4029412\n",
      " -0.47708106 -0.28924498 -0.08112213  0.5939049   0.00781173  1.3526094\n",
      "  0.04630285 -0.42334688 -0.24983181  0.20189238  0.23350018  1.3115735\n",
      "  1.1099541   0.8584268   1.1659145   0.23730579]\n",
      "[-0.04926245  0.640359    0.2634579   0.16157433  0.11726829 -0.28390166\n",
      "  0.961561   -1.2336733  -1.3009702  -0.37089226  0.04827185 -1.6046351\n",
      "  0.48779276 -0.50543123 -0.5641273  -1.1180145  -0.43809965  0.3931315\n",
      "  0.12358847 -0.17855868  1.2708387   0.53221923  0.4485572   1.9609908\n",
      " -0.9525299   0.7137106   0.07673425 -1.0071486  -2.3758159   1.138844\n",
      "  1.7677499   0.25685638 -0.5408712  -0.0917494  -0.35552683 -0.33011636\n",
      "  1.4578773  -2.8075023  -0.97810143 -0.7160278  -0.77998453  0.22752166\n",
      " -0.89393276  0.30179325 -0.35453713  1.3865415   0.05607214  0.627293\n",
      "  0.697301    0.21658365  0.74532706 -1.5885549  -0.23487048 -1.2935525\n",
      "  0.03208822  0.7538442  -0.2666904  -0.57159483 -1.3697096   0.7449242\n",
      " -1.0479531  -0.12673563 -1.0974054  -1.0046912   0.06611603  0.85154337\n",
      "  0.8024018   1.4515009  -0.27045235 -1.7660285  -0.79590833 -0.00436443\n",
      "  0.79480636  2.3708065  -0.770572   -1.0207881   0.7834703   1.0357296\n",
      " -0.6746704   0.22729357 -1.0802407  -0.73142153  0.4671658   0.20871887\n",
      "  1.5643947   0.41741216 -0.1410861   0.83354884  0.8909421   1.7652843\n",
      "  0.07367439  0.6048897  -0.5058755  -1.3089328   1.4347658   0.71112674\n",
      "  0.8956292   0.21590526  1.9969951  -0.42461157]\n",
      "[-0.09136123  0.10370303  0.02323849 -0.01106084 -0.01452274 -0.14455381\n",
      "  0.10271367  0.16594037 -0.05679528 -0.06269173 -0.00340346 -0.20240243\n",
      " -0.05618884 -0.02314206  0.00030997 -0.08295761  0.00403265 -0.13450477\n",
      "  0.03176008 -0.1696819   0.17836818  0.15844604  0.12368085  0.02246125\n",
      " -0.01147831  0.08934264 -0.03475295 -0.05733011 -0.10182711 -0.02412804\n",
      "  0.10161939 -0.02665379  0.00825462 -0.02591887  0.04330265  0.15535612\n",
      "  0.04396008 -0.16557461 -0.0915838  -0.11126239  0.01847655 -0.09552299\n",
      "  0.03493805 -0.07179679  0.06214379 -0.00368682 -0.13341224  0.0656138\n",
      "  0.07000215  0.01352028  0.03507742 -0.11758902 -0.07499601 -0.07622381\n",
      " -0.12383858  0.12853022  0.10444482 -0.03339946 -0.07792798  0.02587961\n",
      " -0.01838578  0.00523807 -0.07968612 -0.0822925  -0.02076769  0.09066463\n",
      "  0.07510959  0.10458101 -0.08049207  0.11230738 -0.15226574  0.01876589\n",
      "  0.11225707 -0.00851265  0.06438021  0.0148694   0.04764208 -0.04293475\n",
      " -0.14941265  0.00475134 -0.09042989 -0.06964552 -0.03466593  0.08552603\n",
      "  0.01000295 -0.07727037 -0.04347533  0.09033848  0.12127998 -0.01794435\n",
      "  0.08308546  0.0513132  -0.03679767 -0.06145833  0.11256836 -0.02447876\n",
      "  0.13273585 -0.08590592  0.10972303  0.03733557]\n",
      "[ 7.7525353e-01  7.3866135e-01  2.6107201e-02 -2.7635449e-01\n",
      " -1.6406871e-01 -1.5579321e+00  2.4121414e-01 -1.3463797e-01\n",
      "  4.6389332e-01 -2.8672031e-01  1.4652140e-01  4.7311735e-01\n",
      " -1.2696059e+00 -1.3492941e+00  1.2711881e+00  1.3287659e+00\n",
      "  3.2340109e-01  7.3950738e-01  9.7450513e-01 -1.2337104e+00\n",
      "  1.0238223e+00  1.4562825e+00 -4.4721106e-01  2.1112766e+00\n",
      "  5.7853299e-01  1.5502194e-01  1.2603013e-01  2.5516182e-01\n",
      "  3.4839135e-01  1.7162296e+00  1.1713622e+00  2.5542706e-01\n",
      "  7.2666687e-01  1.2123059e+00  3.5582003e-01  1.1748258e+00\n",
      "  1.7816571e+00  1.3206714e+00  1.0217899e-01 -1.5143037e+00\n",
      "  9.0525679e-02 -1.1970942e+00  4.6850389e-01 -2.7371186e-01\n",
      "  2.2849670e-02 -4.3616861e-01  1.8570846e-01  1.6196741e+00\n",
      "  9.6735078e-01  5.0118321e-01  3.8958389e-01 -3.6636252e-02\n",
      "  1.7250155e+00 -9.0428489e-01 -1.5167545e+00  6.5634763e-01\n",
      " -3.8897523e-01  1.6079503e-01 -1.1900333e-01  3.6835724e-01\n",
      " -2.2735667e-01  3.0399814e-01  4.5231041e-06 -1.2754210e+00\n",
      "  8.4932320e-02 -1.3230959e+00  9.8132390e-01  5.9222966e-01\n",
      " -9.1576761e-01  1.8619748e+00 -5.6104565e-01  7.0793182e-01\n",
      " -1.0729378e+00 -7.8251439e-01  5.6892630e-02  2.6063967e-01\n",
      "  6.5991265e-01  3.7455490e-01  3.6511576e-01 -7.4055803e-01\n",
      " -8.8970318e-02 -1.2009734e+00  2.1723561e-01  9.9552542e-01\n",
      "  1.1553414e+00 -9.0606669e-03 -2.6470178e-01  9.6875989e-01\n",
      " -1.2522762e-01 -6.9513524e-01  9.1000444e-01  8.3470845e-01\n",
      "  7.3262340e-01  2.0856477e-02  3.5418975e-01  7.8782934e-01\n",
      "  7.2136277e-01 -2.6410553e-01  5.7887632e-01 -8.3433121e-01]\n",
      "[-0.3934369   0.02206822  0.230889    0.03110813  1.1022776  -0.36465788\n",
      "  0.3256244  -0.70134866 -0.6866107  -0.94452286  0.30822918 -0.99947244\n",
      "  0.29691803  0.5997313  -0.5776481   0.3774996   0.24464469 -0.71202046\n",
      "  1.1293892  -1.005304    1.2710165   0.20102848 -0.10196802 -0.6083159\n",
      "  0.610646    0.71111166  0.13050537  0.5706703  -0.20149827 -0.30799606\n",
      "  1.0615026   0.24745499 -0.42577896  0.14624211 -0.14281116  0.49500823\n",
      "  0.2743987   0.74245805 -0.19268404 -1.1297646  -0.22980426 -0.20674014\n",
      " -0.7199057   0.27955395  0.34043774 -0.5700132   0.737729   -0.17561682\n",
      " -0.8363024  -0.14603789  0.6976964  -0.3885302  -0.94707966  0.20672654\n",
      "  0.6321743   0.57973367  0.7687382   0.43786857 -0.5988608  -0.0465909\n",
      " -0.34791926 -0.25024563  0.23317765 -0.34131122  0.52584153  0.5127307\n",
      " -0.24498132 -0.62087977  0.36778396  0.82630706 -0.6129858   1.0922227\n",
      "  0.07792535  0.77596325  0.7288421   0.3739789   0.00847114 -0.4415597\n",
      " -0.3472122   0.2292859  -0.48665106 -0.04367753 -0.3385432   0.07716104\n",
      "  0.0447377  -0.55404514  0.53817755  0.12041944  0.5722028  -0.50799936\n",
      " -0.09440226  1.1132668   0.46226603  1.5288502  -0.10771544  0.1032096\n",
      "  1.1795171   0.14861624  1.2125791  -0.12557223]\n"
     ]
    },
    {
     "ename": "TypeError",
     "evalue": "unsupported operand type(s) for +: 'NoneType' and 'NoneType'",
     "output_type": "error",
     "traceback": [
      "\u001b[1;31m---------------------------------------------------------------------------\u001b[0m",
      "\u001b[1;31mTypeError\u001b[0m                                 Traceback (most recent call last)",
      "\u001b[1;32m<ipython-input-240-1ac5500d6a81>\u001b[0m in \u001b[0;36m<module>\u001b[1;34m\u001b[0m\n\u001b[1;32m----> 1\u001b[1;33m \u001b[0mX_train\u001b[0m\u001b[1;33m[\u001b[0m\u001b[1;33m:\u001b[0m\u001b[1;36m5\u001b[0m\u001b[1;33m]\u001b[0m\u001b[1;33m.\u001b[0m\u001b[0mapply\u001b[0m\u001b[1;33m(\u001b[0m\u001b[1;32mlambda\u001b[0m \u001b[0mx\u001b[0m\u001b[1;33m:\u001b[0m \u001b[0mnp\u001b[0m\u001b[1;33m.\u001b[0m\u001b[0mmean\u001b[0m\u001b[1;33m(\u001b[0m\u001b[1;33m[\u001b[0m\u001b[0mprint\u001b[0m\u001b[1;33m(\u001b[0m\u001b[0mw\u001b[0m\u001b[1;33m.\u001b[0m\u001b[0mwv\u001b[0m\u001b[1;33m[\u001b[0m\u001b[0mtoken\u001b[0m\u001b[1;33m]\u001b[0m\u001b[1;33m)\u001b[0m \u001b[1;32mfor\u001b[0m \u001b[0mtoken\u001b[0m \u001b[1;32min\u001b[0m \u001b[0mx\u001b[0m\u001b[1;33m]\u001b[0m\u001b[1;33m,\u001b[0m \u001b[0maxis\u001b[0m\u001b[1;33m=\u001b[0m\u001b[1;36m0\u001b[0m\u001b[1;33m)\u001b[0m\u001b[1;33m)\u001b[0m\u001b[1;33m\u001b[0m\u001b[1;33m\u001b[0m\u001b[0m\n\u001b[0m",
      "\u001b[1;32m~\\anaconda3\\lib\\site-packages\\pandas\\core\\series.py\u001b[0m in \u001b[0;36mapply\u001b[1;34m(self, func, convert_dtype, args, **kwds)\u001b[0m\n\u001b[0;32m   3846\u001b[0m             \u001b[1;32melse\u001b[0m\u001b[1;33m:\u001b[0m\u001b[1;33m\u001b[0m\u001b[1;33m\u001b[0m\u001b[0m\n\u001b[0;32m   3847\u001b[0m                 \u001b[0mvalues\u001b[0m \u001b[1;33m=\u001b[0m \u001b[0mself\u001b[0m\u001b[1;33m.\u001b[0m\u001b[0mastype\u001b[0m\u001b[1;33m(\u001b[0m\u001b[0mobject\u001b[0m\u001b[1;33m)\u001b[0m\u001b[1;33m.\u001b[0m\u001b[0mvalues\u001b[0m\u001b[1;33m\u001b[0m\u001b[1;33m\u001b[0m\u001b[0m\n\u001b[1;32m-> 3848\u001b[1;33m                 \u001b[0mmapped\u001b[0m \u001b[1;33m=\u001b[0m \u001b[0mlib\u001b[0m\u001b[1;33m.\u001b[0m\u001b[0mmap_infer\u001b[0m\u001b[1;33m(\u001b[0m\u001b[0mvalues\u001b[0m\u001b[1;33m,\u001b[0m \u001b[0mf\u001b[0m\u001b[1;33m,\u001b[0m \u001b[0mconvert\u001b[0m\u001b[1;33m=\u001b[0m\u001b[0mconvert_dtype\u001b[0m\u001b[1;33m)\u001b[0m\u001b[1;33m\u001b[0m\u001b[1;33m\u001b[0m\u001b[0m\n\u001b[0m\u001b[0;32m   3849\u001b[0m \u001b[1;33m\u001b[0m\u001b[0m\n\u001b[0;32m   3850\u001b[0m         \u001b[1;32mif\u001b[0m \u001b[0mlen\u001b[0m\u001b[1;33m(\u001b[0m\u001b[0mmapped\u001b[0m\u001b[1;33m)\u001b[0m \u001b[1;32mand\u001b[0m \u001b[0misinstance\u001b[0m\u001b[1;33m(\u001b[0m\u001b[0mmapped\u001b[0m\u001b[1;33m[\u001b[0m\u001b[1;36m0\u001b[0m\u001b[1;33m]\u001b[0m\u001b[1;33m,\u001b[0m \u001b[0mSeries\u001b[0m\u001b[1;33m)\u001b[0m\u001b[1;33m:\u001b[0m\u001b[1;33m\u001b[0m\u001b[1;33m\u001b[0m\u001b[0m\n",
      "\u001b[1;32mpandas\\_libs\\lib.pyx\u001b[0m in \u001b[0;36mpandas._libs.lib.map_infer\u001b[1;34m()\u001b[0m\n",
      "\u001b[1;32m<ipython-input-240-1ac5500d6a81>\u001b[0m in \u001b[0;36m<lambda>\u001b[1;34m(x)\u001b[0m\n\u001b[1;32m----> 1\u001b[1;33m \u001b[0mX_train\u001b[0m\u001b[1;33m[\u001b[0m\u001b[1;33m:\u001b[0m\u001b[1;36m5\u001b[0m\u001b[1;33m]\u001b[0m\u001b[1;33m.\u001b[0m\u001b[0mapply\u001b[0m\u001b[1;33m(\u001b[0m\u001b[1;32mlambda\u001b[0m \u001b[0mx\u001b[0m\u001b[1;33m:\u001b[0m \u001b[0mnp\u001b[0m\u001b[1;33m.\u001b[0m\u001b[0mmean\u001b[0m\u001b[1;33m(\u001b[0m\u001b[1;33m[\u001b[0m\u001b[0mprint\u001b[0m\u001b[1;33m(\u001b[0m\u001b[0mw\u001b[0m\u001b[1;33m.\u001b[0m\u001b[0mwv\u001b[0m\u001b[1;33m[\u001b[0m\u001b[0mtoken\u001b[0m\u001b[1;33m]\u001b[0m\u001b[1;33m)\u001b[0m \u001b[1;32mfor\u001b[0m \u001b[0mtoken\u001b[0m \u001b[1;32min\u001b[0m \u001b[0mx\u001b[0m\u001b[1;33m]\u001b[0m\u001b[1;33m,\u001b[0m \u001b[0maxis\u001b[0m\u001b[1;33m=\u001b[0m\u001b[1;36m0\u001b[0m\u001b[1;33m)\u001b[0m\u001b[1;33m)\u001b[0m\u001b[1;33m\u001b[0m\u001b[1;33m\u001b[0m\u001b[0m\n\u001b[0m",
      "\u001b[1;32m<__array_function__ internals>\u001b[0m in \u001b[0;36mmean\u001b[1;34m(*args, **kwargs)\u001b[0m\n",
      "\u001b[1;32m~\\anaconda3\\lib\\site-packages\\numpy\\core\\fromnumeric.py\u001b[0m in \u001b[0;36mmean\u001b[1;34m(a, axis, dtype, out, keepdims)\u001b[0m\n\u001b[0;32m   3332\u001b[0m             \u001b[1;32mreturn\u001b[0m \u001b[0mmean\u001b[0m\u001b[1;33m(\u001b[0m\u001b[0maxis\u001b[0m\u001b[1;33m=\u001b[0m\u001b[0maxis\u001b[0m\u001b[1;33m,\u001b[0m \u001b[0mdtype\u001b[0m\u001b[1;33m=\u001b[0m\u001b[0mdtype\u001b[0m\u001b[1;33m,\u001b[0m \u001b[0mout\u001b[0m\u001b[1;33m=\u001b[0m\u001b[0mout\u001b[0m\u001b[1;33m,\u001b[0m \u001b[1;33m**\u001b[0m\u001b[0mkwargs\u001b[0m\u001b[1;33m)\u001b[0m\u001b[1;33m\u001b[0m\u001b[1;33m\u001b[0m\u001b[0m\n\u001b[0;32m   3333\u001b[0m \u001b[1;33m\u001b[0m\u001b[0m\n\u001b[1;32m-> 3334\u001b[1;33m     return _methods._mean(a, axis=axis, dtype=dtype,\n\u001b[0m\u001b[0;32m   3335\u001b[0m                           out=out, **kwargs)\n\u001b[0;32m   3336\u001b[0m \u001b[1;33m\u001b[0m\u001b[0m\n",
      "\u001b[1;32m~\\anaconda3\\lib\\site-packages\\numpy\\core\\_methods.py\u001b[0m in \u001b[0;36m_mean\u001b[1;34m(a, axis, dtype, out, keepdims)\u001b[0m\n\u001b[0;32m    149\u001b[0m             \u001b[0mis_float16_result\u001b[0m \u001b[1;33m=\u001b[0m \u001b[1;32mTrue\u001b[0m\u001b[1;33m\u001b[0m\u001b[1;33m\u001b[0m\u001b[0m\n\u001b[0;32m    150\u001b[0m \u001b[1;33m\u001b[0m\u001b[0m\n\u001b[1;32m--> 151\u001b[1;33m     \u001b[0mret\u001b[0m \u001b[1;33m=\u001b[0m \u001b[0mumr_sum\u001b[0m\u001b[1;33m(\u001b[0m\u001b[0marr\u001b[0m\u001b[1;33m,\u001b[0m \u001b[0maxis\u001b[0m\u001b[1;33m,\u001b[0m \u001b[0mdtype\u001b[0m\u001b[1;33m,\u001b[0m \u001b[0mout\u001b[0m\u001b[1;33m,\u001b[0m \u001b[0mkeepdims\u001b[0m\u001b[1;33m)\u001b[0m\u001b[1;33m\u001b[0m\u001b[1;33m\u001b[0m\u001b[0m\n\u001b[0m\u001b[0;32m    152\u001b[0m     \u001b[1;32mif\u001b[0m \u001b[0misinstance\u001b[0m\u001b[1;33m(\u001b[0m\u001b[0mret\u001b[0m\u001b[1;33m,\u001b[0m \u001b[0mmu\u001b[0m\u001b[1;33m.\u001b[0m\u001b[0mndarray\u001b[0m\u001b[1;33m)\u001b[0m\u001b[1;33m:\u001b[0m\u001b[1;33m\u001b[0m\u001b[1;33m\u001b[0m\u001b[0m\n\u001b[0;32m    153\u001b[0m         ret = um.true_divide(\n",
      "\u001b[1;31mTypeError\u001b[0m: unsupported operand type(s) for +: 'NoneType' and 'NoneType'"
     ]
    }
   ],
   "source": [
    "X_train[:5].apply(lambda x: np.mean([print(w.wv[token]) for token in x], axis=0))"
   ]
  },
  {
   "cell_type": "code",
   "execution_count": 1,
   "metadata": {},
   "outputs": [],
   "source": [
    "# import modules & set up logging\n",
    "import gensim\n",
    "\n",
    "sentences = [['first', 'sentence'], ['second', 'sentence']]\n",
    "# train word2vec on the two sentences\n",
    "model = gensim.models.Word2Vec(sentences, min_count=1)"
   ]
  },
  {
   "cell_type": "code",
   "execution_count": null,
   "metadata": {},
   "outputs": [],
   "source": [
    "class MySentences(object):\n",
    "    def __init__(self, dirname):\n",
    "        self.dirname = dirname\n",
    " \n",
    "    def __iter__(self):\n",
    "        for fname in os.listdir(self.dirname):\n",
    "            for line in open(os.path.join(self.dirname, fname)):\n",
    "                yield line.split()\n",
    " \n",
    "sentences = MySentences('/some/directory') # a memory-friendly iterator\n",
    "model = gensim.models.Word2Vec(sentences)"
   ]
  },
  {
   "cell_type": "code",
   "execution_count": 137,
   "metadata": {},
   "outputs": [
    {
     "data": {
      "text/html": [
       "<div>\n",
       "<style scoped>\n",
       "    .dataframe tbody tr th:only-of-type {\n",
       "        vertical-align: middle;\n",
       "    }\n",
       "\n",
       "    .dataframe tbody tr th {\n",
       "        vertical-align: top;\n",
       "    }\n",
       "\n",
       "    .dataframe thead th {\n",
       "        text-align: right;\n",
       "    }\n",
       "</style>\n",
       "<table border=\"1\" class=\"dataframe\">\n",
       "  <thead>\n",
       "    <tr style=\"text-align: right;\">\n",
       "      <th></th>\n",
       "      <th>tweet</th>\n",
       "      <th>author</th>\n",
       "      <th>party</th>\n",
       "      <th>chamber</th>\n",
       "      <th>congress</th>\n",
       "      <th>retweet</th>\n",
       "      <th>tidy_tweet</th>\n",
       "      <th>tidy_tweet_tokens</th>\n",
       "      <th>tokens_no_stop</th>\n",
       "    </tr>\n",
       "  </thead>\n",
       "  <tbody>\n",
       "    <tr>\n",
       "      <th>466814</th>\n",
       "      <td>Great meeting with #Hammonton Gazette today to...</td>\n",
       "      <td>LoBiondo, Frank A. (NJ-02)</td>\n",
       "      <td>R</td>\n",
       "      <td>H</td>\n",
       "      <td>112</td>\n",
       "      <td>0</td>\n",
       "      <td>Great meeting with #Hammonton Gazette today to...</td>\n",
       "      <td>[great, meeting, with, gazette, today, to, dis...</td>\n",
       "      <td>[meeting, gazette, discuss, many, issues, incl...</td>\n",
       "    </tr>\n",
       "    <tr>\n",
       "      <th>623772</th>\n",
       "      <td>Oversight is critical to ensure tax $s not was...</td>\n",
       "      <td>Franks, Trent (AZ-8)</td>\n",
       "      <td>R</td>\n",
       "      <td>H</td>\n",
       "      <td>113</td>\n",
       "      <td>0</td>\n",
       "      <td>Oversight is critical to ensure tax $s not was...</td>\n",
       "      <td>[oversight, is, critical, to, ensure, tax, not...</td>\n",
       "      <td>[oversight, critical, ensure, tax, wasted, wat...</td>\n",
       "    </tr>\n",
       "    <tr>\n",
       "      <th>613080</th>\n",
       "      <td>TOMORROW AT 10:30 AM: Examining Data Security ...</td>\n",
       "      <td>Fincher, Stephen (TN-8)</td>\n",
       "      <td>R</td>\n",
       "      <td>H</td>\n",
       "      <td>113</td>\n",
       "      <td>1</td>\n",
       "      <td>TOMORROW AT 10:30 AM: Examining Data Security ...</td>\n",
       "      <td>[tomorrow, at, am, examining, data, security, ...</td>\n",
       "      <td>[tomorrow, examining, data, security, chaired,...</td>\n",
       "    </tr>\n",
       "    <tr>\n",
       "      <th>200682</th>\n",
       "      <td>Hardworking Taxpayers have to balance their bu...</td>\n",
       "      <td>Pearce, Steve (NM-2)</td>\n",
       "      <td>D</td>\n",
       "      <td>H</td>\n",
       "      <td>113</td>\n",
       "      <td>0</td>\n",
       "      <td>Hardworking Taxpayers have to balance their bu...</td>\n",
       "      <td>[hardworking, taxpayers, have, to, balance, th...</td>\n",
       "      <td>[hardworking, taxpayers, balance, budgets, eve...</td>\n",
       "    </tr>\n",
       "    <tr>\n",
       "      <th>618072</th>\n",
       "      <td>\"My reading of history convinces me that most ...</td>\n",
       "      <td>Fleishmann, Charles (TN-3)</td>\n",
       "      <td>R</td>\n",
       "      <td>H</td>\n",
       "      <td>113</td>\n",
       "      <td>0</td>\n",
       "      <td>\"My reading of history convinces me that most ...</td>\n",
       "      <td>[my, reading, of, history, convinces, me, that...</td>\n",
       "      <td>[reading, history, convinces, bad, government,...</td>\n",
       "    </tr>\n",
       "  </tbody>\n",
       "</table>\n",
       "</div>"
      ],
      "text/plain": [
       "                                                    tweet  \\\n",
       "466814  Great meeting with #Hammonton Gazette today to...   \n",
       "623772  Oversight is critical to ensure tax $s not was...   \n",
       "613080  TOMORROW AT 10:30 AM: Examining Data Security ...   \n",
       "200682  Hardworking Taxpayers have to balance their bu...   \n",
       "618072  \"My reading of history convinces me that most ...   \n",
       "\n",
       "                            author party chamber  congress  retweet  \\\n",
       "466814  LoBiondo, Frank A. (NJ-02)     R       H       112        0   \n",
       "623772        Franks, Trent (AZ-8)     R       H       113        0   \n",
       "613080     Fincher, Stephen (TN-8)     R       H       113        1   \n",
       "200682        Pearce, Steve (NM-2)     D       H       113        0   \n",
       "618072  Fleishmann, Charles (TN-3)     R       H       113        0   \n",
       "\n",
       "                                               tidy_tweet  \\\n",
       "466814  Great meeting with #Hammonton Gazette today to...   \n",
       "623772  Oversight is critical to ensure tax $s not was...   \n",
       "613080  TOMORROW AT 10:30 AM: Examining Data Security ...   \n",
       "200682  Hardworking Taxpayers have to balance their bu...   \n",
       "618072  \"My reading of history convinces me that most ...   \n",
       "\n",
       "                                        tidy_tweet_tokens  \\\n",
       "466814  [great, meeting, with, gazette, today, to, dis...   \n",
       "623772  [oversight, is, critical, to, ensure, tax, not...   \n",
       "613080  [tomorrow, at, am, examining, data, security, ...   \n",
       "200682  [hardworking, taxpayers, have, to, balance, th...   \n",
       "618072  [my, reading, of, history, convinces, me, that...   \n",
       "\n",
       "                                           tokens_no_stop  \n",
       "466814  [meeting, gazette, discuss, many, issues, incl...  \n",
       "623772  [oversight, critical, ensure, tax, wasted, wat...  \n",
       "613080  [tomorrow, examining, data, security, chaired,...  \n",
       "200682  [hardworking, taxpayers, balance, budgets, eve...  \n",
       "618072  [reading, history, convinces, bad, government,...  "
      ]
     },
     "execution_count": 137,
     "metadata": {},
     "output_type": "execute_result"
    }
   ],
   "source": [
    "df.head()"
   ]
  },
  {
   "cell_type": "code",
   "execution_count": 1,
   "metadata": {
    "id": "468rX6TdLr1_"
   },
   "outputs": [],
   "source": [
    "import pandas as pd\n",
    "import matplotlib as plt"
   ]
  },
  {
   "cell_type": "code",
   "execution_count": 2,
   "metadata": {
    "colab": {
     "base_uri": "https://localhost:8080/"
    },
    "executionInfo": {
     "elapsed": 229,
     "status": "ok",
     "timestamp": 1667171802854,
     "user": {
      "displayName": "Maryam Shahid",
      "userId": "09660411915324709764"
     },
     "user_tz": 240
    },
    "id": "-xzRTsuBLeWT",
    "outputId": "a01cc5fc-27bd-4a1c-c7a0-06fe4b08c9e6"
   },
   "outputs": [
    {
     "name": "stdout",
     "output_type": "stream",
     "text": [
      "(885832, 6)\n"
     ]
    },
    {
     "data": {
      "text/html": [
       "<div>\n",
       "<style scoped>\n",
       "    .dataframe tbody tr th:only-of-type {\n",
       "        vertical-align: middle;\n",
       "    }\n",
       "\n",
       "    .dataframe tbody tr th {\n",
       "        vertical-align: top;\n",
       "    }\n",
       "\n",
       "    .dataframe thead th {\n",
       "        text-align: right;\n",
       "    }\n",
       "</style>\n",
       "<table border=\"1\" class=\"dataframe\">\n",
       "  <thead>\n",
       "    <tr style=\"text-align: right;\">\n",
       "      <th></th>\n",
       "      <th>tweet</th>\n",
       "      <th>author</th>\n",
       "      <th>party</th>\n",
       "      <th>chamber</th>\n",
       "      <th>congress</th>\n",
       "      <th>retweet</th>\n",
       "    </tr>\n",
       "  </thead>\n",
       "  <tbody>\n",
       "    <tr>\n",
       "      <th>0</th>\n",
       "      <td>VIDEO: Today's press conference w/ @SenBobCork...</td>\n",
       "      <td>Alexander, Lamar (TN)</td>\n",
       "      <td>D</td>\n",
       "      <td>H</td>\n",
       "      <td>112</td>\n",
       "      <td>0</td>\n",
       "    </tr>\n",
       "    <tr>\n",
       "      <th>1</th>\n",
       "      <td>Will hold press conference in the Capitol's Ra...</td>\n",
       "      <td>Alexander, Lamar (TN)</td>\n",
       "      <td>D</td>\n",
       "      <td>H</td>\n",
       "      <td>112</td>\n",
       "      <td>0</td>\n",
       "    </tr>\n",
       "    <tr>\n",
       "      <th>2</th>\n",
       "      <td>\"Major threats to our research universities\" O...</td>\n",
       "      <td>Alexander, Lamar (TN)</td>\n",
       "      <td>D</td>\n",
       "      <td>H</td>\n",
       "      <td>112</td>\n",
       "      <td>1</td>\n",
       "    </tr>\n",
       "    <tr>\n",
       "      <th>3</th>\n",
       "      <td>.@SenAlexander The Wind #PTC is \"a brazen flee...</td>\n",
       "      <td>Alexander, Lamar (TN)</td>\n",
       "      <td>D</td>\n",
       "      <td>H</td>\n",
       "      <td>112</td>\n",
       "      <td>1</td>\n",
       "    </tr>\n",
       "    <tr>\n",
       "      <th>4</th>\n",
       "      <td>VIDEO: Sen. Alexander on passing of Sen. @Dani...</td>\n",
       "      <td>Alexander, Lamar (TN)</td>\n",
       "      <td>D</td>\n",
       "      <td>H</td>\n",
       "      <td>112</td>\n",
       "      <td>0</td>\n",
       "    </tr>\n",
       "  </tbody>\n",
       "</table>\n",
       "</div>"
      ],
      "text/plain": [
       "                                               tweet                 author  \\\n",
       "0  VIDEO: Today's press conference w/ @SenBobCork...  Alexander, Lamar (TN)   \n",
       "1  Will hold press conference in the Capitol's Ra...  Alexander, Lamar (TN)   \n",
       "2  \"Major threats to our research universities\" O...  Alexander, Lamar (TN)   \n",
       "3  .@SenAlexander The Wind #PTC is \"a brazen flee...  Alexander, Lamar (TN)   \n",
       "4  VIDEO: Sen. Alexander on passing of Sen. @Dani...  Alexander, Lamar (TN)   \n",
       "\n",
       "  party chamber  congress  retweet  \n",
       "0     D       H       112        0  \n",
       "1     D       H       112        0  \n",
       "2     D       H       112        1  \n",
       "3     D       H       112        1  \n",
       "4     D       H       112        0  "
      ]
     },
     "execution_count": 2,
     "metadata": {},
     "output_type": "execute_result"
    }
   ],
   "source": [
    "tweets = pd.read_csv(\"congress-tweets.csv\", encoding='utf-8')\n",
    "print(tweets.shape)\n",
    "tweets.head()"
   ]
  },
  {
   "cell_type": "markdown",
   "metadata": {},
   "source": [
    "### Sentiment Analysis"
   ]
  },
  {
   "cell_type": "code",
   "execution_count": 5,
   "metadata": {},
   "outputs": [
    {
     "ename": "NameError",
     "evalue": "name 'tweets' is not defined",
     "output_type": "error",
     "traceback": [
      "\u001b[1;31m---------------------------------------------------------------------------\u001b[0m",
      "\u001b[1;31mNameError\u001b[0m                                 Traceback (most recent call last)",
      "\u001b[1;32m<ipython-input-5-48a58e55322f>\u001b[0m in \u001b[0;36m<module>\u001b[1;34m\u001b[0m\n\u001b[0;32m      5\u001b[0m \u001b[1;32mfrom\u001b[0m \u001b[0msklearn\u001b[0m\u001b[1;33m.\u001b[0m\u001b[0mmodel_selection\u001b[0m \u001b[1;32mimport\u001b[0m \u001b[0mtrain_test_split\u001b[0m\u001b[1;33m\u001b[0m\u001b[1;33m\u001b[0m\u001b[0m\n\u001b[0;32m      6\u001b[0m \u001b[1;33m\u001b[0m\u001b[0m\n\u001b[1;32m----> 7\u001b[1;33m \u001b[0mdata\u001b[0m \u001b[1;33m=\u001b[0m \u001b[0mtweets\u001b[0m\u001b[1;33m[\u001b[0m\u001b[1;34m'tweet'\u001b[0m\u001b[1;33m]\u001b[0m\u001b[1;33m.\u001b[0m\u001b[0mvalues\u001b[0m\u001b[1;33m\u001b[0m\u001b[1;33m\u001b[0m\u001b[0m\n\u001b[0m\u001b[0;32m      8\u001b[0m \u001b[0mlabel\u001b[0m \u001b[1;33m=\u001b[0m \u001b[0mtweets\u001b[0m\u001b[1;33m[\u001b[0m\u001b[1;34m'party'\u001b[0m\u001b[1;33m]\u001b[0m\u001b[1;33m.\u001b[0m\u001b[0mvalues\u001b[0m\u001b[1;33m\u001b[0m\u001b[1;33m\u001b[0m\u001b[0m\n\u001b[0;32m      9\u001b[0m \u001b[1;33m\u001b[0m\u001b[0m\n",
      "\u001b[1;31mNameError\u001b[0m: name 'tweets' is not defined"
     ]
    }
   ],
   "source": [
    "from sklearn.feature_extraction.text import CountVectorizer\n",
    "from sklearn.naive_bayes import MultinomialNB\n",
    "from sklearn.pipeline import make_pipeline\n",
    "from sklearn.dummy import DummyClassifier\n",
    "from sklearn.model_selection import train_test_split\n",
    "\n",
    "data = tweets['tweet'].values\n",
    "label = tweets['party'].values\n",
    "\n",
    "train_data, test_data, train_label, test_label = train_test_split(\n",
    "    data, label, test_size=0.3, random_state=2)"
   ]
  },
  {
   "cell_type": "code",
   "execution_count": null,
   "metadata": {},
   "outputs": [],
   "source": [
    "nb_model = make_pipeline(CountVectorizer(binary=True), MultinomialNB())\n",
    "nb_model.fit(train_data, train_label)"
   ]
  },
  {
   "cell_type": "code",
   "execution_count": 7,
   "metadata": {},
   "outputs": [
    {
     "data": {
      "text/plain": [
       "DummyClassifier(strategy='most_frequent')"
      ]
     },
     "execution_count": 7,
     "metadata": {},
     "output_type": "execute_result"
    }
   ],
   "source": [
    "dummy_clf = DummyClassifier(strategy='most_frequent')\n",
    "dummy_clf.fit(train_data, train_label)"
   ]
  },
  {
   "cell_type": "code",
   "execution_count": 8,
   "metadata": {},
   "outputs": [
    {
     "name": "stdout",
     "output_type": "stream",
     "text": [
      "Model test classification accuracy: 0.5295653809971778\n",
      "Baseline test classification accuracy: 0.5757064910630292\n"
     ]
    }
   ],
   "source": [
    "q3_score = nb_model.score(test_data, test_label) # float: test classification accuracy score of the model\n",
    "q3b_score = dummy_clf.score(test_data, test_label) # float: test classification accuracy score of the baseline\n",
    "\n",
    "# Leave these lines here to print the result\n",
    "print(\"Model test classification accuracy:\", q3_score)\n",
    "print(\"Baseline test classification accuracy:\", q3b_score)"
   ]
  },
  {
   "cell_type": "markdown",
   "metadata": {},
   "source": [
    "The model is really bad.\n",
    "Predicting the most frequent party is a better predictor."
   ]
  },
  {
   "cell_type": "code",
   "execution_count": 66,
   "metadata": {},
   "outputs": [],
   "source": [
    "from sklearn.feature_extraction.text import CountVectorizer\n",
    "from nltk.tokenize import RegexpTokenizer\n",
    "\n",
    "#tokenizer to remove unwanted elements from out data like symbols and numbers\n",
    "token = RegexpTokenizer(r'[a-zA-Z0-9]+')\n",
    "cv = CountVectorizer(lowercase=True,stop_words='english',ngram_range = (1,1),tokenizer = token.tokenize)\n",
    "text_counts= cv.fit_transform(tweets['tweet'])"
   ]
  },
  {
   "cell_type": "code",
   "execution_count": 72,
   "metadata": {},
   "outputs": [],
   "source": [
    "from sklearn.model_selection import train_test_split\n",
    "\n",
    "X_train, X_test, y_train, y_test = train_test_split(\n",
    "    text_counts, tweets['party'], test_size=0.3, random_state=1)"
   ]
  },
  {
   "cell_type": "code",
   "execution_count": 73,
   "metadata": {},
   "outputs": [
    {
     "name": "stdout",
     "output_type": "stream",
     "text": [
      "MultinomialNB Accuracy: 0.5265700846660395\n"
     ]
    }
   ],
   "source": [
    "from sklearn.naive_bayes import MultinomialNB\n",
    "#Import scikit-learn metrics module for accuracy calculation\n",
    "from sklearn import metrics\n",
    "# Model Generation Using Multinomial Naive Bayes\n",
    "clf = MultinomialNB().fit(X_train, y_train)\n",
    "predicted= clf.predict(X_test)\n",
    "print(\"MultinomialNB Accuracy:\",metrics.accuracy_score(y_test, predicted))"
   ]
  },
  {
   "cell_type": "markdown",
   "metadata": {},
   "source": [
    "This is not good, could be a lot better with some other tools"
   ]
  },
  {
   "cell_type": "code",
   "execution_count": 74,
   "metadata": {},
   "outputs": [],
   "source": [
    "from sklearn.feature_extraction.text import TfidfVectorizer\n",
    "tf=TfidfVectorizer()\n",
    "text_tf= tf.fit_transform(tweets['tweet'])"
   ]
  },
  {
   "cell_type": "code",
   "execution_count": 75,
   "metadata": {},
   "outputs": [],
   "source": [
    "from sklearn.model_selection import train_test_split\n",
    "X_train, X_test, y_train, y_test = train_test_split(\n",
    "    text_tf, tweets['party'], test_size=0.3, random_state=123)"
   ]
  },
  {
   "cell_type": "code",
   "execution_count": 76,
   "metadata": {},
   "outputs": [
    {
     "name": "stdout",
     "output_type": "stream",
     "text": [
      "MultinomialNB Accuracy: 0.5853358419567263\n"
     ]
    }
   ],
   "source": [
    "from sklearn.naive_bayes import MultinomialNB\n",
    "from sklearn import metrics\n",
    "# Model Generation Using Multinomial Naive Bayes\n",
    "clf = MultinomialNB().fit(X_train, y_train)\n",
    "predicted= clf.predict(X_test)\n",
    "print(\"MultinomialNB Accuracy:\",metrics.accuracy_score(y_test, predicted))"
   ]
  },
  {
   "cell_type": "markdown",
   "metadata": {},
   "source": [
    "This is much better, but it still sucks.\n",
    "Need to do lots of data cleaning."
   ]
  },
  {
   "cell_type": "markdown",
   "metadata": {},
   "source": [
    "# Word2Vec Pipeline"
   ]
  },
  {
   "cell_type": "code",
   "execution_count": 3,
   "metadata": {},
   "outputs": [
    {
     "data": {
      "text/html": [
       "<div>\n",
       "<style scoped>\n",
       "    .dataframe tbody tr th:only-of-type {\n",
       "        vertical-align: middle;\n",
       "    }\n",
       "\n",
       "    .dataframe tbody tr th {\n",
       "        vertical-align: top;\n",
       "    }\n",
       "\n",
       "    .dataframe thead th {\n",
       "        text-align: right;\n",
       "    }\n",
       "</style>\n",
       "<table border=\"1\" class=\"dataframe\">\n",
       "  <thead>\n",
       "    <tr style=\"text-align: right;\">\n",
       "      <th></th>\n",
       "      <th>tweet</th>\n",
       "      <th>author</th>\n",
       "      <th>party</th>\n",
       "      <th>chamber</th>\n",
       "      <th>congress</th>\n",
       "      <th>retweet</th>\n",
       "      <th>tidy_tweet</th>\n",
       "      <th>date</th>\n",
       "      <th>tidy_tweet_tokens</th>\n",
       "      <th>tokens_no_stop</th>\n",
       "    </tr>\n",
       "  </thead>\n",
       "  <tbody>\n",
       "    <tr>\n",
       "      <th>612145</th>\n",
       "      <td>We must fight for the victims and end #Humantr...</td>\n",
       "      <td>Fincher, Stephen (TN-8)</td>\n",
       "      <td>R</td>\n",
       "      <td>H</td>\n",
       "      <td>113</td>\n",
       "      <td>0</td>\n",
       "      <td>We must fight for the victims and end   Apr   ...</td>\n",
       "      <td>2014-04-30</td>\n",
       "      <td>[we, must, fight, for, the, victims, and, end,...</td>\n",
       "      <td>[we, must, fight, victims, end]</td>\n",
       "    </tr>\n",
       "    <tr>\n",
       "      <th>616780</th>\n",
       "      <td>We need a select committee on Benghazi to fulf...</td>\n",
       "      <td>Fleishmann, Charles (TN-3)</td>\n",
       "      <td>R</td>\n",
       "      <td>H</td>\n",
       "      <td>113</td>\n",
       "      <td>0</td>\n",
       "      <td>We need a select committee on Benghazi to fulf...</td>\n",
       "      <td>2013-09-11</td>\n",
       "      <td>[we, need, select, committee, on, benghazi, to...</td>\n",
       "      <td>[we, need, select, committee, benghazi, fulfil...</td>\n",
       "    </tr>\n",
       "    <tr>\n",
       "      <th>854334</th>\n",
       "      <td>My statement w/ @SenJohnMcCain on the permanen...</td>\n",
       "      <td>Flake, Jeff (AZ)</td>\n",
       "      <td>R</td>\n",
       "      <td>S</td>\n",
       "      <td>113</td>\n",
       "      <td>0</td>\n",
       "      <td>My statement w   on the permanent removal of t...</td>\n",
       "      <td>2014-11-24</td>\n",
       "      <td>[my, statement, on, the, permanent, removal, o...</td>\n",
       "      <td>[statement, permanent, removal, former, direct...</td>\n",
       "    </tr>\n",
       "    <tr>\n",
       "      <th>201165</th>\n",
       "      <td>Good morning Las Cruces! Glad to be visiting w...</td>\n",
       "      <td>Perry, Scott (PA-4)</td>\n",
       "      <td>D</td>\n",
       "      <td>H</td>\n",
       "      <td>113</td>\n",
       "      <td>0</td>\n",
       "      <td>Good morning Las Cruces  Glad to be visiting w...</td>\n",
       "      <td>2013-08-22</td>\n",
       "      <td>[good, morning, las, cruces, glad, to, be, vis...</td>\n",
       "      <td>[good, las, cruces, glad, visiting, our, frien...</td>\n",
       "    </tr>\n",
       "    <tr>\n",
       "      <th>677798</th>\n",
       "      <td>Thanks to everyone who came out for the Defian...</td>\n",
       "      <td>LoBiondo, Frank (NJ-2)</td>\n",
       "      <td>R</td>\n",
       "      <td>H</td>\n",
       "      <td>113</td>\n",
       "      <td>0</td>\n",
       "      <td>Thanks to everyone who came out for the Defian...</td>\n",
       "      <td>2013-05-10</td>\n",
       "      <td>[thanks, to, everyone, who, came, out, for, th...</td>\n",
       "      <td>[everyone, came, defiance, courthouse, confere...</td>\n",
       "    </tr>\n",
       "  </tbody>\n",
       "</table>\n",
       "</div>"
      ],
      "text/plain": [
       "                                                    tweet  \\\n",
       "612145  We must fight for the victims and end #Humantr...   \n",
       "616780  We need a select committee on Benghazi to fulf...   \n",
       "854334  My statement w/ @SenJohnMcCain on the permanen...   \n",
       "201165  Good morning Las Cruces! Glad to be visiting w...   \n",
       "677798  Thanks to everyone who came out for the Defian...   \n",
       "\n",
       "                            author party chamber  congress  retweet  \\\n",
       "612145     Fincher, Stephen (TN-8)     R       H       113        0   \n",
       "616780  Fleishmann, Charles (TN-3)     R       H       113        0   \n",
       "854334            Flake, Jeff (AZ)     R       S       113        0   \n",
       "201165         Perry, Scott (PA-4)     D       H       113        0   \n",
       "677798      LoBiondo, Frank (NJ-2)     R       H       113        0   \n",
       "\n",
       "                                               tidy_tweet       date  \\\n",
       "612145  We must fight for the victims and end   Apr   ... 2014-04-30   \n",
       "616780  We need a select committee on Benghazi to fulf... 2013-09-11   \n",
       "854334  My statement w   on the permanent removal of t... 2014-11-24   \n",
       "201165  Good morning Las Cruces  Glad to be visiting w... 2013-08-22   \n",
       "677798  Thanks to everyone who came out for the Defian... 2013-05-10   \n",
       "\n",
       "                                        tidy_tweet_tokens  \\\n",
       "612145  [we, must, fight, for, the, victims, and, end,...   \n",
       "616780  [we, need, select, committee, on, benghazi, to...   \n",
       "854334  [my, statement, on, the, permanent, removal, o...   \n",
       "201165  [good, morning, las, cruces, glad, to, be, vis...   \n",
       "677798  [thanks, to, everyone, who, came, out, for, th...   \n",
       "\n",
       "                                           tokens_no_stop  \n",
       "612145                    [we, must, fight, victims, end]  \n",
       "616780  [we, need, select, committee, benghazi, fulfil...  \n",
       "854334  [statement, permanent, removal, former, direct...  \n",
       "201165  [good, las, cruces, glad, visiting, our, frien...  \n",
       "677798  [everyone, came, defiance, courthouse, confere...  "
      ]
     },
     "execution_count": 3,
     "metadata": {},
     "output_type": "execute_result"
    }
   ],
   "source": [
    "df.head()"
   ]
  },
  {
   "cell_type": "code",
   "execution_count": 83,
   "metadata": {},
   "outputs": [
    {
     "name": "stderr",
     "output_type": "stream",
     "text": [
      "C:\\Users\\prest\\anaconda3\\lib\\site-packages\\tqdm\\std.py:668: FutureWarning: The Panel class is removed from pandas. Accessing it from the top-level namespace will also be removed in the next version\n",
      "  from pandas import Panel\n"
     ]
    }
   ],
   "source": [
    "import pandas as pd # provide sql-like data manipulation tools. very handy.\n",
    "pd.options.mode.chained_assignment = None\n",
    "import numpy as np # high dimensional vector computing library.\n",
    "from copy import deepcopy\n",
    "from string import punctuation\n",
    "from random import shuffle\n",
    "\n",
    "import gensim\n",
    "from gensim.models.word2vec import Word2Vec # the word2vec model gensim class\n",
    "from gensim.models.doc2vec import TaggedDocument # we'll talk about this down below\n",
    "from gensim.models.doc2vec import Doc2Vec\n",
    "\n",
    "from tqdm import tqdm\n",
    "tqdm.pandas(desc=\"progress-bar\")\n",
    "\n",
    "from nltk.tokenize import TweetTokenizer # a tweet tokenizer from nltk.\n",
    "tokenizer = TweetTokenizer()\n",
    "\n",
    "from sklearn.model_selection import train_test_split\n",
    "from sklearn.feature_extraction.text import TfidfVectorizer"
   ]
  },
  {
   "cell_type": "code",
   "execution_count": 141,
   "metadata": {
    "scrolled": true
   },
   "outputs": [
    {
     "name": "stdout",
     "output_type": "stream",
     "text": [
      "dataset loaded with shape (198521, 8)\n"
     ]
    },
    {
     "data": {
      "text/html": [
       "<div>\n",
       "<style scoped>\n",
       "    .dataframe tbody tr th:only-of-type {\n",
       "        vertical-align: middle;\n",
       "    }\n",
       "\n",
       "    .dataframe tbody tr th {\n",
       "        vertical-align: top;\n",
       "    }\n",
       "\n",
       "    .dataframe thead th {\n",
       "        text-align: right;\n",
       "    }\n",
       "</style>\n",
       "<table border=\"1\" class=\"dataframe\">\n",
       "  <thead>\n",
       "    <tr style=\"text-align: right;\">\n",
       "      <th></th>\n",
       "      <th>tweet</th>\n",
       "      <th>author</th>\n",
       "      <th>party</th>\n",
       "      <th>chamber</th>\n",
       "      <th>congress</th>\n",
       "      <th>retweet</th>\n",
       "      <th>date</th>\n",
       "      <th>tokens_no_stop</th>\n",
       "    </tr>\n",
       "  </thead>\n",
       "  <tbody>\n",
       "    <tr>\n",
       "      <th>612145</th>\n",
       "      <td>We must fight for the victims and end #Humantr...</td>\n",
       "      <td>Fincher, Stephen (TN-8)</td>\n",
       "      <td>R</td>\n",
       "      <td>H</td>\n",
       "      <td>113</td>\n",
       "      <td>0</td>\n",
       "      <td>2014-04-30</td>\n",
       "      <td>[we, must, fight, victims, end]</td>\n",
       "    </tr>\n",
       "    <tr>\n",
       "      <th>616780</th>\n",
       "      <td>We need a select committee on Benghazi to fulf...</td>\n",
       "      <td>Fleishmann, Charles (TN-3)</td>\n",
       "      <td>R</td>\n",
       "      <td>H</td>\n",
       "      <td>113</td>\n",
       "      <td>0</td>\n",
       "      <td>2013-09-11</td>\n",
       "      <td>[we, need, select, committee, benghazi, fulfil...</td>\n",
       "    </tr>\n",
       "    <tr>\n",
       "      <th>854334</th>\n",
       "      <td>My statement w/ @SenJohnMcCain on the permanen...</td>\n",
       "      <td>Flake, Jeff (AZ)</td>\n",
       "      <td>R</td>\n",
       "      <td>S</td>\n",
       "      <td>113</td>\n",
       "      <td>0</td>\n",
       "      <td>2014-11-24</td>\n",
       "      <td>[statement, permanent, removal, former, direct...</td>\n",
       "    </tr>\n",
       "    <tr>\n",
       "      <th>201165</th>\n",
       "      <td>Good morning Las Cruces! Glad to be visiting w...</td>\n",
       "      <td>Perry, Scott (PA-4)</td>\n",
       "      <td>D</td>\n",
       "      <td>H</td>\n",
       "      <td>113</td>\n",
       "      <td>0</td>\n",
       "      <td>2013-08-22</td>\n",
       "      <td>[good, las, cruces, glad, visiting, our, frien...</td>\n",
       "    </tr>\n",
       "    <tr>\n",
       "      <th>677798</th>\n",
       "      <td>Thanks to everyone who came out for the Defian...</td>\n",
       "      <td>LoBiondo, Frank (NJ-2)</td>\n",
       "      <td>R</td>\n",
       "      <td>H</td>\n",
       "      <td>113</td>\n",
       "      <td>0</td>\n",
       "      <td>2013-05-10</td>\n",
       "      <td>[everyone, came, defiance, courthouse, confere...</td>\n",
       "    </tr>\n",
       "  </tbody>\n",
       "</table>\n",
       "</div>"
      ],
      "text/plain": [
       "                                                    tweet  \\\n",
       "612145  We must fight for the victims and end #Humantr...   \n",
       "616780  We need a select committee on Benghazi to fulf...   \n",
       "854334  My statement w/ @SenJohnMcCain on the permanen...   \n",
       "201165  Good morning Las Cruces! Glad to be visiting w...   \n",
       "677798  Thanks to everyone who came out for the Defian...   \n",
       "\n",
       "                            author party chamber  congress  retweet  \\\n",
       "612145     Fincher, Stephen (TN-8)     R       H       113        0   \n",
       "616780  Fleishmann, Charles (TN-3)     R       H       113        0   \n",
       "854334            Flake, Jeff (AZ)     R       S       113        0   \n",
       "201165         Perry, Scott (PA-4)     D       H       113        0   \n",
       "677798      LoBiondo, Frank (NJ-2)     R       H       113        0   \n",
       "\n",
       "             date                                     tokens_no_stop  \n",
       "612145 2014-04-30                    [we, must, fight, victims, end]  \n",
       "616780 2013-09-11  [we, need, select, committee, benghazi, fulfil...  \n",
       "854334 2014-11-24  [statement, permanent, removal, former, direct...  \n",
       "201165 2013-08-22  [good, las, cruces, glad, visiting, our, frien...  \n",
       "677798 2013-05-10  [everyone, came, defiance, courthouse, confere...  "
      ]
     },
     "execution_count": 141,
     "metadata": {},
     "output_type": "execute_result"
    }
   ],
   "source": [
    "def ingest():\n",
    "    data = pd.read_hdf('sampled_df.h5', index_col=0, key='sampled_df')\n",
    "    data.drop(['tidy_tweet', 'tidy_tweet_tokens', 'tidy_tweet_tokens'], axis=1, inplace=True)\n",
    "    print('dataset loaded with shape', data.shape)\n",
    "    return data\n",
    "\n",
    "data = ingest()\n",
    "data.head(5)"
   ]
  },
  {
   "cell_type": "code",
   "execution_count": 128,
   "metadata": {},
   "outputs": [
    {
     "data": {
      "text/plain": [
       "list"
      ]
     },
     "execution_count": 128,
     "metadata": {},
     "output_type": "execute_result"
    }
   ],
   "source": [
    "type(data['tokens_no_stop'].iloc[0])"
   ]
  },
  {
   "cell_type": "code",
   "execution_count": 70,
   "metadata": {},
   "outputs": [],
   "source": [
    "def tokenize(tw):\n",
    "    try:\n",
    "        tw = tw.lower()\n",
    "        tokens = tokenizer.tokenize(tw)\n",
    "        \n",
    "        tokens = filter(lambda t: not t.startswith('@'), tokens)\n",
    "        tokens = filter(lambda t: not t.startswith('#'), tokens)\n",
    "        tokens = filter(lambda t: not t.startswith('http'), tokens)\n",
    "        stop_words = stopwords.words('english')\n",
    "        stop_words.extend(['from', 'https', 'twitter', 'religions', 'pic','twitt','today','will','thank', 'thanks',\n",
    "                      'jan','feb','mar','apr','may','jun','jul','aug','sep','oct','nov','dec', 'great', 'new', 'day', 'rt',\n",
    "                      'th', 'morning', 'week', 'com', 'net'])\n",
    "        remove_words = ['we','our','ours','ourselves']\n",
    "        stop_words = [e for e in stop_words if e not in remove_words]\n",
    "        tokens = filter(lambda t: t not in stop_words, tokens)\n",
    "        return list(tokens)\n",
    "    except:\n",
    "        return 'NC'"
   ]
  },
  {
   "cell_type": "code",
   "execution_count": 71,
   "metadata": {},
   "outputs": [
    {
     "name": "stderr",
     "output_type": "stream",
     "text": [
      "progress-bar: 100%|██████████████████████████████████████████████████████████████| 2000/2000 [00:00<00:00, 2577.27it/s]\n"
     ]
    }
   ],
   "source": [
    "def postprocess(data):\n",
    "    # EXTRACT TWEET DATE\n",
    "    data['date'] = data['tweet'].str.extract(r\"([A-Z][a-z]+\\s\\d+,\\s\\d+)\\s*$\")\n",
    "    data['date'] = pd.to_datetime(df['date'], errors='coerce')\n",
    "    data['clean_tweet'] = data['tweet'].str.replace(r\"([A-Z][a-z]+\\s\\d+,\\s\\d+)\\s*$\", \"\")\n",
    "    data['clean_tweet'] = data['clean_tweet'].str.replace(\"[^a-zA-Z#]\", \" \")\n",
    "    data['tokens'] = data['clean_tweet'].progress_map(tokenize)  ## progress_map is a variant of the map function plus a progress bar. Handy to monitor DataFrame creations.\n",
    "    data = data[data.tokens != 'NC']\n",
    "    data.reset_index(inplace=True)\n",
    "    data.drop('index', inplace=True, axis=1)\n",
    "    data = data[data['tokens'].apply(lambda x: len(x)) > 0]\n",
    "    return data\n",
    "\n",
    "data = postprocess(data)"
   ]
  },
  {
   "cell_type": "code",
   "execution_count": 142,
   "metadata": {},
   "outputs": [],
   "source": [
    "x_train, x_test, y_train, y_test = train_test_split(np.array(data['tokens_no_stop']), np.array(data['party']), test_size=0.2)"
   ]
  },
  {
   "cell_type": "code",
   "execution_count": 143,
   "metadata": {},
   "outputs": [
    {
     "data": {
      "text/plain": [
       "array([list(['hhs', 'inspector', 'general', 'privacy', 'protections', 'way', 'behind', 'schedule']),\n",
       "       list(['confident', 'court', 'seeing', 'photos', 'video', 'moving', 'report', 'indicating', 'many', 'rug', 'stains', 'officially', 'declare', 'oc', 'weekly', 'story', 'lie']),\n",
       "       list(['congressional', 'art', 'competition', 'get', 'info', 'need', 'submit', 'piece', 'art']),\n",
       "       list(['rep', 'mckinley', 'talks', 'wdtv', 'clarksburg', 'meeting', 'constituents', 'taking', 'ideas', 'back', 'dc']),\n",
       "       list(['facts', 'clear', 'we', 'stall', 'investing', 'our', 'energy', 'potential', 'longer', 'time', 'hr', 'became', 'law'])],\n",
       "      dtype=object)"
      ]
     },
     "execution_count": 143,
     "metadata": {},
     "output_type": "execute_result"
    }
   ],
   "source": [
    "x_train[:5]"
   ]
  },
  {
   "cell_type": "code",
   "execution_count": 144,
   "metadata": {},
   "outputs": [
    {
     "name": "stderr",
     "output_type": "stream",
     "text": [
      "158816it [00:00, 720662.31it/s]\n",
      "39705it [00:00, 698619.58it/s]\n"
     ]
    }
   ],
   "source": [
    "def labelizeTweets(tweets, label_type):\n",
    "    labelized = []\n",
    "    for i,v in tqdm(enumerate(tweets)):\n",
    "        label = '%s_%s'%(label_type,i)\n",
    "        labelized.append(TaggedDocument(v, [label]))\n",
    "    return labelized\n",
    "\n",
    "x_train = labelizeTweets(x_train, 'TRAIN')\n",
    "x_test = labelizeTweets(x_test, 'TEST')"
   ]
  },
  {
   "cell_type": "code",
   "execution_count": 145,
   "metadata": {},
   "outputs": [],
   "source": [
    "documents = [TaggedDocument(doc, [i]) for i, doc in enumerate(x_train)]"
   ]
  },
  {
   "cell_type": "code",
   "execution_count": 146,
   "metadata": {},
   "outputs": [],
   "source": [
    "model = Doc2Vec(tqdm(x_train), vector_size=5, window=2, min_count=1, workers=4)"
   ]
  },
  {
   "cell_type": "code",
   "execution_count": 147,
   "metadata": {},
   "outputs": [
    {
     "data": {
      "text/plain": [
       "[('done', 0.9969215393066406),\n",
       " ('bobsleds', 0.995897114276886),\n",
       " ('able', 0.9951702356338501),\n",
       " ('away', 0.9945558905601501),\n",
       " ('reach', 0.994056224822998),\n",
       " ('continue', 0.9932522177696228),\n",
       " ('know', 0.9930628538131714),\n",
       " ('anyone', 0.992902934551239),\n",
       " ('want', 0.9926536083221436),\n",
       " ('sdimblkp', 0.9923532605171204)]"
      ]
     },
     "execution_count": 147,
     "metadata": {},
     "output_type": "execute_result"
    }
   ],
   "source": [
    "model.wv.most_similar('we')"
   ]
  },
  {
   "cell_type": "code",
   "execution_count": 135,
   "metadata": {},
   "outputs": [
    {
     "name": "stderr",
     "output_type": "stream",
     "text": [
      "100%|██████████████████████████████████████████████████████████████████████████| 1600/1600 [00:00<00:00, 801970.17it/s]\n"
     ]
    }
   ],
   "source": [
    "words = [list(x.words) for x in tqdm(x_train)]"
   ]
  },
  {
   "cell_type": "code",
   "execution_count": 136,
   "metadata": {},
   "outputs": [
    {
     "data": {
      "text/plain": [
       "(19257, 69005)"
      ]
     },
     "execution_count": 136,
     "metadata": {},
     "output_type": "execute_result"
    }
   ],
   "source": [
    "tweet_w2v = Word2Vec(min_count=10)\n",
    "tweet_w2v.build_vocab(words)\n",
    "tweet_w2v.train(words, total_words=len(words), epochs=tweet_w2v.epochs)"
   ]
  },
  {
   "cell_type": "code",
   "execution_count": 140,
   "metadata": {},
   "outputs": [
    {
     "ename": "KeyError",
     "evalue": "\"Key 'bar' not present in vocabulary\"",
     "output_type": "error",
     "traceback": [
      "\u001b[1;31m---------------------------------------------------------------------------\u001b[0m",
      "\u001b[1;31mKeyError\u001b[0m                                  Traceback (most recent call last)",
      "\u001b[1;32m<ipython-input-140-27673740ad77>\u001b[0m in \u001b[0;36m<module>\u001b[1;34m\u001b[0m\n\u001b[1;32m----> 1\u001b[1;33m \u001b[0mtweet_w2v\u001b[0m\u001b[1;33m.\u001b[0m\u001b[0mwv\u001b[0m\u001b[1;33m.\u001b[0m\u001b[0mmost_similar\u001b[0m\u001b[1;33m(\u001b[0m\u001b[1;34m'bar'\u001b[0m\u001b[1;33m)\u001b[0m\u001b[1;33m\u001b[0m\u001b[1;33m\u001b[0m\u001b[0m\n\u001b[0m",
      "\u001b[1;32m~\\anaconda3\\lib\\site-packages\\gensim\\models\\keyedvectors.py\u001b[0m in \u001b[0;36mmost_similar\u001b[1;34m(self, positive, negative, topn, clip_start, clip_end, restrict_vocab, indexer)\u001b[0m\n\u001b[0;32m    840\u001b[0m \u001b[1;33m\u001b[0m\u001b[0m\n\u001b[0;32m    841\u001b[0m         \u001b[1;31m# compute the weighted average of all keys\u001b[0m\u001b[1;33m\u001b[0m\u001b[1;33m\u001b[0m\u001b[1;33m\u001b[0m\u001b[0m\n\u001b[1;32m--> 842\u001b[1;33m         \u001b[0mmean\u001b[0m \u001b[1;33m=\u001b[0m \u001b[0mself\u001b[0m\u001b[1;33m.\u001b[0m\u001b[0mget_mean_vector\u001b[0m\u001b[1;33m(\u001b[0m\u001b[0mkeys\u001b[0m\u001b[1;33m,\u001b[0m \u001b[0mweight\u001b[0m\u001b[1;33m,\u001b[0m \u001b[0mpre_normalize\u001b[0m\u001b[1;33m=\u001b[0m\u001b[1;32mTrue\u001b[0m\u001b[1;33m,\u001b[0m \u001b[0mpost_normalize\u001b[0m\u001b[1;33m=\u001b[0m\u001b[1;32mTrue\u001b[0m\u001b[1;33m,\u001b[0m \u001b[0mignore_missing\u001b[0m\u001b[1;33m=\u001b[0m\u001b[1;32mFalse\u001b[0m\u001b[1;33m)\u001b[0m\u001b[1;33m\u001b[0m\u001b[1;33m\u001b[0m\u001b[0m\n\u001b[0m\u001b[0;32m    843\u001b[0m         all_keys = [\n\u001b[0;32m    844\u001b[0m             \u001b[0mself\u001b[0m\u001b[1;33m.\u001b[0m\u001b[0mget_index\u001b[0m\u001b[1;33m(\u001b[0m\u001b[0mkey\u001b[0m\u001b[1;33m)\u001b[0m \u001b[1;32mfor\u001b[0m \u001b[0mkey\u001b[0m \u001b[1;32min\u001b[0m \u001b[0mkeys\u001b[0m \u001b[1;32mif\u001b[0m \u001b[0misinstance\u001b[0m\u001b[1;33m(\u001b[0m\u001b[0mkey\u001b[0m\u001b[1;33m,\u001b[0m \u001b[0m_KEY_TYPES\u001b[0m\u001b[1;33m)\u001b[0m \u001b[1;32mand\u001b[0m \u001b[0mself\u001b[0m\u001b[1;33m.\u001b[0m\u001b[0mhas_index_for\u001b[0m\u001b[1;33m(\u001b[0m\u001b[0mkey\u001b[0m\u001b[1;33m)\u001b[0m\u001b[1;33m\u001b[0m\u001b[1;33m\u001b[0m\u001b[0m\n",
      "\u001b[1;32m~\\anaconda3\\lib\\site-packages\\gensim\\models\\keyedvectors.py\u001b[0m in \u001b[0;36mget_mean_vector\u001b[1;34m(self, keys, weights, pre_normalize, post_normalize, ignore_missing)\u001b[0m\n\u001b[0;32m    517\u001b[0m                 \u001b[0mtotal_weight\u001b[0m \u001b[1;33m+=\u001b[0m \u001b[0mabs\u001b[0m\u001b[1;33m(\u001b[0m\u001b[0mweights\u001b[0m\u001b[1;33m[\u001b[0m\u001b[0midx\u001b[0m\u001b[1;33m]\u001b[0m\u001b[1;33m)\u001b[0m\u001b[1;33m\u001b[0m\u001b[1;33m\u001b[0m\u001b[0m\n\u001b[0;32m    518\u001b[0m             \u001b[1;32melif\u001b[0m \u001b[1;32mnot\u001b[0m \u001b[0mignore_missing\u001b[0m\u001b[1;33m:\u001b[0m\u001b[1;33m\u001b[0m\u001b[1;33m\u001b[0m\u001b[0m\n\u001b[1;32m--> 519\u001b[1;33m                 \u001b[1;32mraise\u001b[0m \u001b[0mKeyError\u001b[0m\u001b[1;33m(\u001b[0m\u001b[1;34mf\"Key '{key}' not present in vocabulary\"\u001b[0m\u001b[1;33m)\u001b[0m\u001b[1;33m\u001b[0m\u001b[1;33m\u001b[0m\u001b[0m\n\u001b[0m\u001b[0;32m    520\u001b[0m \u001b[1;33m\u001b[0m\u001b[0m\n\u001b[0;32m    521\u001b[0m         \u001b[1;32mif\u001b[0m\u001b[1;33m(\u001b[0m\u001b[0mtotal_weight\u001b[0m \u001b[1;33m>\u001b[0m \u001b[1;36m0\u001b[0m\u001b[1;33m)\u001b[0m\u001b[1;33m:\u001b[0m\u001b[1;33m\u001b[0m\u001b[1;33m\u001b[0m\u001b[0m\n",
      "\u001b[1;31mKeyError\u001b[0m: \"Key 'bar' not present in vocabulary\""
     ]
    }
   ],
   "source": [
    "tweet_w2v.wv.most_similar('bar')"
   ]
  },
  {
   "cell_type": "markdown",
   "metadata": {},
   "source": [
    "okay the previous tokenization protocol worked a lot better lololol\n",
    "\n",
    "just implement that again but still use the tagged document and such"
   ]
  },
  {
   "cell_type": "code",
   "execution_count": null,
   "metadata": {},
   "outputs": [],
   "source": []
  }
 ],
 "metadata": {
  "colab": {
   "authorship_tag": "ABX9TyM956iNqBXuMuoDoGuxgqPa",
   "provenance": []
  },
  "kernelspec": {
   "display_name": "Python 3",
   "language": "python",
   "name": "python3"
  },
  "language_info": {
   "codemirror_mode": {
    "name": "ipython",
    "version": 3
   },
   "file_extension": ".py",
   "mimetype": "text/x-python",
   "name": "python",
   "nbconvert_exporter": "python",
   "pygments_lexer": "ipython3",
   "version": "3.8.3"
  }
 },
 "nbformat": 4,
 "nbformat_minor": 1
}
